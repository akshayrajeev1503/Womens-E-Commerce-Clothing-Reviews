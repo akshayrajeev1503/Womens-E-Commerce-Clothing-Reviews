{
  "nbformat": 4,
  "nbformat_minor": 0,
  "metadata": {
    "colab": {
      "name": "WomensClothing.ipynb",
      "provenance": [],
      "collapsed_sections": []
    },
    "kernelspec": {
      "name": "python3",
      "display_name": "Python 3"
    }
  },
  "cells": [
    {
      "cell_type": "markdown",
      "metadata": {
        "id": "Z2X23xQr6bWi",
        "colab_type": "text"
      },
      "source": [
        "# Women's E-Commerce Clothing Reviews"
      ]
    },
    {
      "cell_type": "markdown",
      "metadata": {
        "id": "8Ta_P0Ne8HF8",
        "colab_type": "text"
      },
      "source": [
        "![alt text](https://images.unsplash.com/photo-1540221652346-e5dd6b50f3e7?ixlib=rb-1.2.1&ixid=eyJhcHBfaWQiOjEyMDd9&auto=format&fit=crop&w=500&q=60)"
      ]
    },
    {
      "cell_type": "markdown",
      "metadata": {
        "id": "2bbkSgLQKhSY",
        "colab_type": "text"
      },
      "source": [
        "# Contents\n",
        "\n",
        "1. [Introduction](#Introduction)\n",
        "\n",
        "2. [Dataset Desciption](#Dataset-Discription:)\n",
        "\n",
        "3. [Problem Statement](#Problem-statement)\n",
        "\n",
        "4. [Data preprocessing](#Data-preprocessing)\n",
        "\n",
        "5. [Visualising data for better understanding](#visdualising-data-for-better-understanding)\n",
        "\n",
        "6. [Cleaning text & making a vocabulary](#Cleaning-text-&-making-a-vocabulary)\n",
        "\n",
        "7. Models\n",
        "\n",
        "8. [Conclusion](#Conclusion)\n"
      ]
    },
    {
      "cell_type": "markdown",
      "metadata": {
        "id": "hmNucsROXeVg",
        "colab_type": "text"
      },
      "source": [
        "# Introduction\n",
        "\n",
        ">This notebook is concerned with using the Python programming language and Natural Language Processing technology to explore trends in the customer reviews from a women’s clothing E-commerce platform/website, and extract actionable plans to improve its online e-commerce. This analysis will focus on using Natural Language techniques to find broad trends in the written thoughts of the customers. This Machine learning project aims to learn and explore new and intresting ways to look upon a text data and coming up with a model in order to understand the reviews written by humans to machines."
      ]
    },
    {
      "cell_type": "markdown",
      "metadata": {
        "id": "M4ahhrVs6jWb",
        "colab_type": "text"
      },
      "source": [
        "# Dataset Discription:\n",
        "\n",
        ">This is a Women’s Clothing E-Commerce dataset revolving around the reviews written by customers. Its nine supportive features offer a great environment to parse out the text through its multiple dimensions. Because this is real commercial data, it has been anonymized, and references to the company in the review text and body have been replaced with “retailer”.\n",
        "\n",
        "---\n",
        "\n",
        "This dataset includes 23486 rows and 10 feature variables.Each row includes a written comment as well as additional customer information, and includes the variables:\n",
        "\n",
        "- **Clothing ID**: Integer Categorical variable that refers to the specific piece being reviewed.\n",
        "\n",
        "- **Age**: Positive Integer variable of the reviewers age.\n",
        "\n",
        "- **Title**: String variable for the title of the review.\n",
        "\n",
        "- **Review Tex**t: String variable for the review body.\n",
        "\n",
        "- **Rating**: Positive Ordinal Integer variable for the product score granted by the customer from 1 Worst, to 5 Best.\n",
        "\n",
        "- **Recommended IND**: Binary variable stating where the customer recommends the product where 1 is recommended, 0 is not recommended.\n",
        "\n",
        "- **Positive Feedback Count**: Positive Integer documenting the number of other customers who found this review positive.\n",
        "\n",
        "- **Division Name**: Categorical name of the product high level division.\n",
        "\n",
        "- **Department Name**: Categorical name of the product department name.\n",
        "\n",
        "- **Class Name**: Type of product(Categorical)\n",
        "\n",
        "---\n",
        "\n",
        "Dataset : https://www.kaggle.com/nicapotato/womens-ecommerce-clothing-reviews\n",
        "\n",
        "---\n",
        "\n",
        "# Problem Statement\n",
        ">Reviews written by customers are a valuable asset as they give feedback to improve the platform.These reviews can be used by the E-commerce platform for the benefit of both customer and platform as they can understand the trend of the customer and make changes accordingly by understanding the data properly. There are a lot of reviews generated on a E-commerce website everyday which is a lot of data for a human to digest.So there is a need of understanding these reviews throuh Machine learning.\n",
        "\n",
        "Now lets explore the data...!!"
      ]
    },
    {
      "cell_type": "markdown",
      "metadata": {
        "id": "jFyMyF9P-bli",
        "colab_type": "text"
      },
      "source": [
        "**Importing Libraries**"
      ]
    },
    {
      "cell_type": "code",
      "metadata": {
        "id": "20NVnp-4evW5",
        "colab_type": "code",
        "outputId": "9817ee08-1d8a-4ff9-96a0-f2e0147da890",
        "colab": {
          "base_uri": "https://localhost:8080/",
          "height": 71
        }
      },
      "source": [
        "#general\n",
        "import numpy as np\n",
        "import pandas as pd\n",
        "\n",
        "#visualisation\n",
        "import matplotlib.pyplot as plt\n",
        "import seaborn as sns\n",
        "\n",
        "from sklearn.preprocessing import LabelEncoder, OneHotEncoder\n",
        "from sklearn.feature_extraction.text import TfidfVectorizer\n",
        "from sklearn.decomposition import TruncatedSVD\n",
        "from sklearn.feature_extraction.text import CountVectorizer\n",
        "\n",
        "#training and testing\n",
        "from sklearn.model_selection import train_test_split\n",
        "\n",
        "#Building model\n",
        "import tensorflow as tf\n",
        "from tensorflow import keras\n"
      ],
      "execution_count": 0,
      "outputs": [
        {
          "output_type": "stream",
          "text": [
            "/usr/local/lib/python3.6/dist-packages/statsmodels/tools/_testing.py:19: FutureWarning: pandas.util.testing is deprecated. Use the functions in the public API at pandas.testing instead.\n",
            "  import pandas.util.testing as tm\n"
          ],
          "name": "stderr"
        }
      ]
    },
    {
      "cell_type": "markdown",
      "metadata": {
        "id": "VjUFxVcdOiVf",
        "colab_type": "text"
      },
      "source": [
        "**General**\n",
        ">General category includes basic data manipulation for computation(numpy) and for dataframes(pandas).\n",
        "\n",
        "**Visualisation**\n",
        ">Visualisation category includes matplotlib used for plotting stastical and graphical plots to analise data. Similarly seaborn is also a python data visualization library based on matplotlib.\n",
        "\n",
        "**train_test_split**\n",
        ">train_test_split is a function in Sklearn model selection for splitting data arrays into two subsets: for training data and for testing data.\n",
        "\n",
        "**TensorFlow**\n",
        ">TensorFlow is an open source Deep Learning library developed by Google that is used to perform complex numerical operations and several other tasks to model Deep Learning models.\n",
        "\n",
        "**Keras**\n",
        ">Keras is a powerful and easy-to-use free open source Python library for developing and evaluating deep learning models. It wraps the efficient numerical computation libraries Theano and TensorFlow and allows you to define and train neural network models in just a few lines of code."
      ]
    },
    {
      "cell_type": "markdown",
      "metadata": {
        "id": "xRZjMCMEB2cr",
        "colab_type": "text"
      },
      "source": [
        "**Loading data with pandas**\n",
        "\n",
        "read_csv() takes file path as argument and reads csv files.\n",
        "Here i have given my drive's file location, put on yours by downoading the dataset and uploading into your drive if you are using colab nootebook to work on."
      ]
    },
    {
      "cell_type": "code",
      "metadata": {
        "id": "zJXOc966e4bk",
        "colab_type": "code",
        "colab": {}
      },
      "source": [
        "df=pd.read_csv(\"/content/drive/My Drive/dataset/Womens Clothing E-Commerce Reviews.csv\")"
      ],
      "execution_count": 0,
      "outputs": []
    },
    {
      "cell_type": "markdown",
      "metadata": {
        "id": "Lt158r4GB8l7",
        "colab_type": "text"
      },
      "source": [
        "**A quick look at the dataset...**"
      ]
    },
    {
      "cell_type": "code",
      "metadata": {
        "id": "UraYuXBhf4XE",
        "colab_type": "code",
        "outputId": "2fc9ca3f-2049-4154-fc2a-1a72a530e31d",
        "colab": {
          "base_uri": "https://localhost:8080/",
          "height": 306
        }
      },
      "source": [
        "# dataframe.head() shows the first 5 instances of the data\n",
        "df.head()"
      ],
      "execution_count": 0,
      "outputs": [
        {
          "output_type": "execute_result",
          "data": {
            "text/html": [
              "<div>\n",
              "<style scoped>\n",
              "    .dataframe tbody tr th:only-of-type {\n",
              "        vertical-align: middle;\n",
              "    }\n",
              "\n",
              "    .dataframe tbody tr th {\n",
              "        vertical-align: top;\n",
              "    }\n",
              "\n",
              "    .dataframe thead th {\n",
              "        text-align: right;\n",
              "    }\n",
              "</style>\n",
              "<table border=\"1\" class=\"dataframe\">\n",
              "  <thead>\n",
              "    <tr style=\"text-align: right;\">\n",
              "      <th></th>\n",
              "      <th>Unnamed: 0</th>\n",
              "      <th>Clothing ID</th>\n",
              "      <th>Age</th>\n",
              "      <th>Title</th>\n",
              "      <th>Review Text</th>\n",
              "      <th>Rating</th>\n",
              "      <th>Recommended IND</th>\n",
              "      <th>Positive Feedback Count</th>\n",
              "      <th>Division Name</th>\n",
              "      <th>Department Name</th>\n",
              "      <th>Class Name</th>\n",
              "    </tr>\n",
              "  </thead>\n",
              "  <tbody>\n",
              "    <tr>\n",
              "      <th>0</th>\n",
              "      <td>0</td>\n",
              "      <td>767</td>\n",
              "      <td>33</td>\n",
              "      <td>NaN</td>\n",
              "      <td>Absolutely wonderful - silky and sexy and comf...</td>\n",
              "      <td>4</td>\n",
              "      <td>1</td>\n",
              "      <td>0</td>\n",
              "      <td>Initmates</td>\n",
              "      <td>Intimate</td>\n",
              "      <td>Intimates</td>\n",
              "    </tr>\n",
              "    <tr>\n",
              "      <th>1</th>\n",
              "      <td>1</td>\n",
              "      <td>1080</td>\n",
              "      <td>34</td>\n",
              "      <td>NaN</td>\n",
              "      <td>Love this dress!  it's sooo pretty.  i happene...</td>\n",
              "      <td>5</td>\n",
              "      <td>1</td>\n",
              "      <td>4</td>\n",
              "      <td>General</td>\n",
              "      <td>Dresses</td>\n",
              "      <td>Dresses</td>\n",
              "    </tr>\n",
              "    <tr>\n",
              "      <th>2</th>\n",
              "      <td>2</td>\n",
              "      <td>1077</td>\n",
              "      <td>60</td>\n",
              "      <td>Some major design flaws</td>\n",
              "      <td>I had such high hopes for this dress and reall...</td>\n",
              "      <td>3</td>\n",
              "      <td>0</td>\n",
              "      <td>0</td>\n",
              "      <td>General</td>\n",
              "      <td>Dresses</td>\n",
              "      <td>Dresses</td>\n",
              "    </tr>\n",
              "    <tr>\n",
              "      <th>3</th>\n",
              "      <td>3</td>\n",
              "      <td>1049</td>\n",
              "      <td>50</td>\n",
              "      <td>My favorite buy!</td>\n",
              "      <td>I love, love, love this jumpsuit. it's fun, fl...</td>\n",
              "      <td>5</td>\n",
              "      <td>1</td>\n",
              "      <td>0</td>\n",
              "      <td>General Petite</td>\n",
              "      <td>Bottoms</td>\n",
              "      <td>Pants</td>\n",
              "    </tr>\n",
              "    <tr>\n",
              "      <th>4</th>\n",
              "      <td>4</td>\n",
              "      <td>847</td>\n",
              "      <td>47</td>\n",
              "      <td>Flattering shirt</td>\n",
              "      <td>This shirt is very flattering to all due to th...</td>\n",
              "      <td>5</td>\n",
              "      <td>1</td>\n",
              "      <td>6</td>\n",
              "      <td>General</td>\n",
              "      <td>Tops</td>\n",
              "      <td>Blouses</td>\n",
              "    </tr>\n",
              "  </tbody>\n",
              "</table>\n",
              "</div>"
            ],
            "text/plain": [
              "   Unnamed: 0  Clothing ID  Age  ...   Division Name Department Name  Class Name\n",
              "0           0          767   33  ...       Initmates        Intimate   Intimates\n",
              "1           1         1080   34  ...         General         Dresses     Dresses\n",
              "2           2         1077   60  ...         General         Dresses     Dresses\n",
              "3           3         1049   50  ...  General Petite         Bottoms       Pants\n",
              "4           4          847   47  ...         General            Tops     Blouses\n",
              "\n",
              "[5 rows x 11 columns]"
            ]
          },
          "metadata": {
            "tags": []
          },
          "execution_count": 3
        }
      ]
    },
    {
      "cell_type": "markdown",
      "metadata": {
        "id": "CO-02YaXCG-q",
        "colab_type": "text"
      },
      "source": [
        "Attribute **Unnamed: 0** is just index of the rows and hence it dosent add any value to dataset.\n",
        "\n",
        "\n",
        "Attribute **Title** is a one liner for the actual review. As we have the whole review itself it is better to have more information and hence 'Title' can be dropped.\n",
        "\n"
      ]
    },
    {
      "cell_type": "markdown",
      "metadata": {
        "id": "4M4CTMsgLMZ4",
        "colab_type": "text"
      },
      "source": [
        "# Data preprocesing"
      ]
    },
    {
      "cell_type": "markdown",
      "metadata": {
        "id": "aA5Wd06pHznB",
        "colab_type": "text"
      },
      "source": [
        "**Dropping attributes**"
      ]
    },
    {
      "cell_type": "code",
      "metadata": {
        "id": "a7RMhl01f7AD",
        "colab_type": "code",
        "colab": {}
      },
      "source": [
        "df=df.drop(['Unnamed: 0','Title'],axis=1)"
      ],
      "execution_count": 0,
      "outputs": []
    },
    {
      "cell_type": "markdown",
      "metadata": {
        "id": "BkTigWKKZUEH",
        "colab_type": "text"
      },
      "source": [
        "**Creating features for better understanding of data**\n",
        "\n",
        "- review_len is the character count in the column 'text review'\n",
        "\n",
        "- Word_count is the total no. of words in the review\n",
        "\n",
        "- Good/bad is whether the product is good or bad based upon the rating given by the customer. Rating >=3 is good otherwise bad."
      ]
    },
    {
      "cell_type": "code",
      "metadata": {
        "id": "gQ5uvfz4ZGVl",
        "colab_type": "code",
        "colab": {}
      },
      "source": [
        "df['review_len'] = df['Review Text'].astype(str).apply(len)\n",
        "df['word_count'] = df['Review Text'].apply(lambda x: len(str(x).split()))\n",
        "df[\"Good/bad\"] = 0\n",
        "df.loc[df.Rating >= 3,[\"Good/bad\"]] = 1"
      ],
      "execution_count": 0,
      "outputs": []
    },
    {
      "cell_type": "markdown",
      "metadata": {
        "id": "ZBAIa-paH87_",
        "colab_type": "text"
      },
      "source": [
        "These are the columns we will be working with"
      ]
    },
    {
      "cell_type": "code",
      "metadata": {
        "id": "9qqQyD5ggvEq",
        "colab_type": "code",
        "outputId": "578b4e48-ce89-44f8-dfba-6408b93f2288",
        "colab": {
          "base_uri": "https://localhost:8080/",
          "height": 306
        }
      },
      "source": [
        "df.head()"
      ],
      "execution_count": 0,
      "outputs": [
        {
          "output_type": "execute_result",
          "data": {
            "text/html": [
              "<div>\n",
              "<style scoped>\n",
              "    .dataframe tbody tr th:only-of-type {\n",
              "        vertical-align: middle;\n",
              "    }\n",
              "\n",
              "    .dataframe tbody tr th {\n",
              "        vertical-align: top;\n",
              "    }\n",
              "\n",
              "    .dataframe thead th {\n",
              "        text-align: right;\n",
              "    }\n",
              "</style>\n",
              "<table border=\"1\" class=\"dataframe\">\n",
              "  <thead>\n",
              "    <tr style=\"text-align: right;\">\n",
              "      <th></th>\n",
              "      <th>Clothing ID</th>\n",
              "      <th>Age</th>\n",
              "      <th>Review Text</th>\n",
              "      <th>Rating</th>\n",
              "      <th>Recommended IND</th>\n",
              "      <th>Positive Feedback Count</th>\n",
              "      <th>Division Name</th>\n",
              "      <th>Department Name</th>\n",
              "      <th>Class Name</th>\n",
              "      <th>review_len</th>\n",
              "      <th>word_count</th>\n",
              "      <th>Good/bad</th>\n",
              "    </tr>\n",
              "  </thead>\n",
              "  <tbody>\n",
              "    <tr>\n",
              "      <th>0</th>\n",
              "      <td>767</td>\n",
              "      <td>33</td>\n",
              "      <td>Absolutely wonderful - silky and sexy and comf...</td>\n",
              "      <td>4</td>\n",
              "      <td>1</td>\n",
              "      <td>0</td>\n",
              "      <td>Initmates</td>\n",
              "      <td>Intimate</td>\n",
              "      <td>Intimates</td>\n",
              "      <td>53</td>\n",
              "      <td>8</td>\n",
              "      <td>1</td>\n",
              "    </tr>\n",
              "    <tr>\n",
              "      <th>1</th>\n",
              "      <td>1080</td>\n",
              "      <td>34</td>\n",
              "      <td>Love this dress!  it's sooo pretty.  i happene...</td>\n",
              "      <td>5</td>\n",
              "      <td>1</td>\n",
              "      <td>4</td>\n",
              "      <td>General</td>\n",
              "      <td>Dresses</td>\n",
              "      <td>Dresses</td>\n",
              "      <td>303</td>\n",
              "      <td>62</td>\n",
              "      <td>1</td>\n",
              "    </tr>\n",
              "    <tr>\n",
              "      <th>2</th>\n",
              "      <td>1077</td>\n",
              "      <td>60</td>\n",
              "      <td>I had such high hopes for this dress and reall...</td>\n",
              "      <td>3</td>\n",
              "      <td>0</td>\n",
              "      <td>0</td>\n",
              "      <td>General</td>\n",
              "      <td>Dresses</td>\n",
              "      <td>Dresses</td>\n",
              "      <td>500</td>\n",
              "      <td>98</td>\n",
              "      <td>1</td>\n",
              "    </tr>\n",
              "    <tr>\n",
              "      <th>3</th>\n",
              "      <td>1049</td>\n",
              "      <td>50</td>\n",
              "      <td>I love, love, love this jumpsuit. it's fun, fl...</td>\n",
              "      <td>5</td>\n",
              "      <td>1</td>\n",
              "      <td>0</td>\n",
              "      <td>General Petite</td>\n",
              "      <td>Bottoms</td>\n",
              "      <td>Pants</td>\n",
              "      <td>124</td>\n",
              "      <td>22</td>\n",
              "      <td>1</td>\n",
              "    </tr>\n",
              "    <tr>\n",
              "      <th>4</th>\n",
              "      <td>847</td>\n",
              "      <td>47</td>\n",
              "      <td>This shirt is very flattering to all due to th...</td>\n",
              "      <td>5</td>\n",
              "      <td>1</td>\n",
              "      <td>6</td>\n",
              "      <td>General</td>\n",
              "      <td>Tops</td>\n",
              "      <td>Blouses</td>\n",
              "      <td>192</td>\n",
              "      <td>36</td>\n",
              "      <td>1</td>\n",
              "    </tr>\n",
              "  </tbody>\n",
              "</table>\n",
              "</div>"
            ],
            "text/plain": [
              "   Clothing ID  Age  ... word_count  Good/bad\n",
              "0          767   33  ...          8         1\n",
              "1         1080   34  ...         62         1\n",
              "2         1077   60  ...         98         1\n",
              "3         1049   50  ...         22         1\n",
              "4          847   47  ...         36         1\n",
              "\n",
              "[5 rows x 12 columns]"
            ]
          },
          "metadata": {
            "tags": []
          },
          "execution_count": 6
        }
      ]
    },
    {
      "cell_type": "markdown",
      "metadata": {
        "id": "8E-HNaKwEtSu",
        "colab_type": "text"
      },
      "source": [
        "**Is the dataset biased ??**\n",
        "A dataset is baised when the target has more values of one class compared to other. Such dataset leads to imporper training and results in wrong predictions.\n",
        "\n",
        "Target is taken as Recommended IND and we will be checking whether the dataset is baised or not based ont this column.\n",
        "\n",
        "lets find out.."
      ]
    },
    {
      "cell_type": "code",
      "metadata": {
        "id": "afe6eRiqLg0B",
        "colab_type": "code",
        "outputId": "95af1bb4-d5b5-4f74-825f-d3bace38d6ad",
        "colab": {
          "base_uri": "https://localhost:8080/",
          "height": 299
        }
      },
      "source": [
        "fig1, ax1 = plt.subplots()\n",
        "a,b=df['Recommended IND'].value_counts()\n",
        "sizes=[a,b]\n",
        "labels=[a,b]\n",
        "ax1.pie(sizes, labels=labels, autopct='%1.1f%%')\n",
        "ax1.axis('equal')  # Equal aspect ratio ensures that pie is drawn as a circle.\n",
        "plt.show()\n",
        "df['Recommended IND'].value_counts()"
      ],
      "execution_count": 0,
      "outputs": [
        {
          "output_type": "display_data",
          "data": {
            "image/png": "[encoded data removed]",
            "text/plain": [
              "<Figure size 432x288 with 1 Axes>"
            ]
          },
          "metadata": {
            "tags": []
          }
        },
        {
          "output_type": "execute_result",
          "data": {
            "text/plain": [
              "1    19314\n",
              "0     4172\n",
              "Name: Recommended IND, dtype: int64"
            ]
          },
          "metadata": {
            "tags": []
          },
          "execution_count": 7
        }
      ]
    },
    {
      "cell_type": "markdown",
      "metadata": {
        "id": "2b5AT2vvKj6R",
        "colab_type": "text"
      },
      "source": [
        "In target('Recommended IND') 0 means product is not recommended by the customer where as 1 means product is recommended."
      ]
    },
    {
      "cell_type": "markdown",
      "metadata": {
        "id": "Z5GBZBsVFGl9",
        "colab_type": "text"
      },
      "source": [
        "As we can see the target is highly biased with only 17.8% of targets as not recommended."
      ]
    },
    {
      "cell_type": "markdown",
      "metadata": {
        "id": "QCPbJfaEFVnr",
        "colab_type": "text"
      },
      "source": [
        "Building a model on such a biased dataset may lead to learning wrong relationships and predicting wrong as model will be biased towards reccommened class."
      ]
    },
    {
      "cell_type": "markdown",
      "metadata": {
        "id": "DekXFUy8GBj9",
        "colab_type": "text"
      },
      "source": [
        "Hence we will take same number of instances randomly from both the classes in order to make an unbiased datset."
      ]
    },
    {
      "cell_type": "markdown",
      "metadata": {
        "id": "aK2_Z-qOGXpA",
        "colab_type": "text"
      },
      "source": [
        "**Filtering out Rows with column 'Recommended Id' as 1**"
      ]
    },
    {
      "cell_type": "code",
      "metadata": {
        "id": "eSVDZsU8QG9H",
        "colab_type": "code",
        "colab": {}
      },
      "source": [
        "# data with target as 1\n",
        "df1=df.loc[df['Recommended IND'] == 1]"
      ],
      "execution_count": 0,
      "outputs": []
    },
    {
      "cell_type": "markdown",
      "metadata": {
        "id": "w5mcKZ5_LNMB",
        "colab_type": "text"
      },
      "source": [
        "This dataframe has only those rows with Recommended IND = 1"
      ]
    },
    {
      "cell_type": "code",
      "metadata": {
        "id": "TBtySdblYF57",
        "colab_type": "code",
        "outputId": "99f37dc8-42b6-4b96-9ea1-913c4bf6ef3a",
        "colab": {
          "base_uri": "https://localhost:8080/",
          "height": 606
        }
      },
      "source": [
        "df1"
      ],
      "execution_count": 0,
      "outputs": [
        {
          "output_type": "execute_result",
          "data": {
            "text/html": [
              "<div>\n",
              "<style scoped>\n",
              "    .dataframe tbody tr th:only-of-type {\n",
              "        vertical-align: middle;\n",
              "    }\n",
              "\n",
              "    .dataframe tbody tr th {\n",
              "        vertical-align: top;\n",
              "    }\n",
              "\n",
              "    .dataframe thead th {\n",
              "        text-align: right;\n",
              "    }\n",
              "</style>\n",
              "<table border=\"1\" class=\"dataframe\">\n",
              "  <thead>\n",
              "    <tr style=\"text-align: right;\">\n",
              "      <th></th>\n",
              "      <th>Clothing ID</th>\n",
              "      <th>Age</th>\n",
              "      <th>Review Text</th>\n",
              "      <th>Rating</th>\n",
              "      <th>Recommended IND</th>\n",
              "      <th>Positive Feedback Count</th>\n",
              "      <th>Division Name</th>\n",
              "      <th>Department Name</th>\n",
              "      <th>Class Name</th>\n",
              "      <th>review_len</th>\n",
              "      <th>word_count</th>\n",
              "      <th>Good/bad</th>\n",
              "    </tr>\n",
              "  </thead>\n",
              "  <tbody>\n",
              "    <tr>\n",
              "      <th>0</th>\n",
              "      <td>767</td>\n",
              "      <td>33</td>\n",
              "      <td>Absolutely wonderful - silky and sexy and comf...</td>\n",
              "      <td>4</td>\n",
              "      <td>1</td>\n",
              "      <td>0</td>\n",
              "      <td>Initmates</td>\n",
              "      <td>Intimate</td>\n",
              "      <td>Intimates</td>\n",
              "      <td>53</td>\n",
              "      <td>8</td>\n",
              "      <td>1</td>\n",
              "    </tr>\n",
              "    <tr>\n",
              "      <th>1</th>\n",
              "      <td>1080</td>\n",
              "      <td>34</td>\n",
              "      <td>Love this dress!  it's sooo pretty.  i happene...</td>\n",
              "      <td>5</td>\n",
              "      <td>1</td>\n",
              "      <td>4</td>\n",
              "      <td>General</td>\n",
              "      <td>Dresses</td>\n",
              "      <td>Dresses</td>\n",
              "      <td>303</td>\n",
              "      <td>62</td>\n",
              "      <td>1</td>\n",
              "    </tr>\n",
              "    <tr>\n",
              "      <th>3</th>\n",
              "      <td>1049</td>\n",
              "      <td>50</td>\n",
              "      <td>I love, love, love this jumpsuit. it's fun, fl...</td>\n",
              "      <td>5</td>\n",
              "      <td>1</td>\n",
              "      <td>0</td>\n",
              "      <td>General Petite</td>\n",
              "      <td>Bottoms</td>\n",
              "      <td>Pants</td>\n",
              "      <td>124</td>\n",
              "      <td>22</td>\n",
              "      <td>1</td>\n",
              "    </tr>\n",
              "    <tr>\n",
              "      <th>4</th>\n",
              "      <td>847</td>\n",
              "      <td>47</td>\n",
              "      <td>This shirt is very flattering to all due to th...</td>\n",
              "      <td>5</td>\n",
              "      <td>1</td>\n",
              "      <td>6</td>\n",
              "      <td>General</td>\n",
              "      <td>Tops</td>\n",
              "      <td>Blouses</td>\n",
              "      <td>192</td>\n",
              "      <td>36</td>\n",
              "      <td>1</td>\n",
              "    </tr>\n",
              "    <tr>\n",
              "      <th>6</th>\n",
              "      <td>858</td>\n",
              "      <td>39</td>\n",
              "      <td>I aded this in my basket at hte last mintue to...</td>\n",
              "      <td>5</td>\n",
              "      <td>1</td>\n",
              "      <td>1</td>\n",
              "      <td>General Petite</td>\n",
              "      <td>Tops</td>\n",
              "      <td>Knits</td>\n",
              "      <td>496</td>\n",
              "      <td>101</td>\n",
              "      <td>1</td>\n",
              "    </tr>\n",
              "    <tr>\n",
              "      <th>...</th>\n",
              "      <td>...</td>\n",
              "      <td>...</td>\n",
              "      <td>...</td>\n",
              "      <td>...</td>\n",
              "      <td>...</td>\n",
              "      <td>...</td>\n",
              "      <td>...</td>\n",
              "      <td>...</td>\n",
              "      <td>...</td>\n",
              "      <td>...</td>\n",
              "      <td>...</td>\n",
              "      <td>...</td>\n",
              "    </tr>\n",
              "    <tr>\n",
              "      <th>23480</th>\n",
              "      <td>862</td>\n",
              "      <td>35</td>\n",
              "      <td>NaN</td>\n",
              "      <td>5</td>\n",
              "      <td>1</td>\n",
              "      <td>0</td>\n",
              "      <td>General Petite</td>\n",
              "      <td>Tops</td>\n",
              "      <td>Knits</td>\n",
              "      <td>3</td>\n",
              "      <td>1</td>\n",
              "      <td>1</td>\n",
              "    </tr>\n",
              "    <tr>\n",
              "      <th>23481</th>\n",
              "      <td>1104</td>\n",
              "      <td>34</td>\n",
              "      <td>I was very happy to snag this dress at such a ...</td>\n",
              "      <td>5</td>\n",
              "      <td>1</td>\n",
              "      <td>0</td>\n",
              "      <td>General Petite</td>\n",
              "      <td>Dresses</td>\n",
              "      <td>Dresses</td>\n",
              "      <td>131</td>\n",
              "      <td>28</td>\n",
              "      <td>1</td>\n",
              "    </tr>\n",
              "    <tr>\n",
              "      <th>23482</th>\n",
              "      <td>862</td>\n",
              "      <td>48</td>\n",
              "      <td>It reminds me of maternity clothes. soft, stre...</td>\n",
              "      <td>3</td>\n",
              "      <td>1</td>\n",
              "      <td>0</td>\n",
              "      <td>General Petite</td>\n",
              "      <td>Tops</td>\n",
              "      <td>Knits</td>\n",
              "      <td>223</td>\n",
              "      <td>38</td>\n",
              "      <td>1</td>\n",
              "    </tr>\n",
              "    <tr>\n",
              "      <th>23484</th>\n",
              "      <td>1084</td>\n",
              "      <td>28</td>\n",
              "      <td>I bought this dress for a wedding i have this ...</td>\n",
              "      <td>3</td>\n",
              "      <td>1</td>\n",
              "      <td>2</td>\n",
              "      <td>General</td>\n",
              "      <td>Dresses</td>\n",
              "      <td>Dresses</td>\n",
              "      <td>427</td>\n",
              "      <td>86</td>\n",
              "      <td>1</td>\n",
              "    </tr>\n",
              "    <tr>\n",
              "      <th>23485</th>\n",
              "      <td>1104</td>\n",
              "      <td>52</td>\n",
              "      <td>This dress in a lovely platinum is feminine an...</td>\n",
              "      <td>5</td>\n",
              "      <td>1</td>\n",
              "      <td>22</td>\n",
              "      <td>General Petite</td>\n",
              "      <td>Dresses</td>\n",
              "      <td>Dresses</td>\n",
              "      <td>110</td>\n",
              "      <td>19</td>\n",
              "      <td>1</td>\n",
              "    </tr>\n",
              "  </tbody>\n",
              "</table>\n",
              "<p>19314 rows × 12 columns</p>\n",
              "</div>"
            ],
            "text/plain": [
              "       Clothing ID  Age  ... word_count  Good/bad\n",
              "0              767   33  ...          8         1\n",
              "1             1080   34  ...         62         1\n",
              "3             1049   50  ...         22         1\n",
              "4              847   47  ...         36         1\n",
              "6              858   39  ...        101         1\n",
              "...            ...  ...  ...        ...       ...\n",
              "23480          862   35  ...          1         1\n",
              "23481         1104   34  ...         28         1\n",
              "23482          862   48  ...         38         1\n",
              "23484         1084   28  ...         86         1\n",
              "23485         1104   52  ...         19         1\n",
              "\n",
              "[19314 rows x 12 columns]"
            ]
          },
          "metadata": {
            "tags": []
          },
          "execution_count": 9
        }
      ]
    },
    {
      "cell_type": "markdown",
      "metadata": {
        "id": "nNMlpggmGhVN",
        "colab_type": "text"
      },
      "source": [
        "There are 4172 instances of class not recoomemded(i.e. 0) hence we will take 4172 instances of class recommended(i.e. 1) in order to make datset unbiased.\n",
        "\n",
        "Instances can be selected randomly as well by\n",
        " dataframe.sample(), this function selects rows randomly.\n",
        " random_state is seed to the df.sample(), so that it takes same random rows everytime during execution.\n",
        " n is the number of rows required here it is 4172\n",
        " \n",
        " df1new=df1.sample(n = 4172,random_state=1)\n",
        "\n",
        "Here Im taking first 4172 instances for simplicty."
      ]
    },
    {
      "cell_type": "code",
      "metadata": {
        "id": "9Ddt0XZiYHaV",
        "colab_type": "code",
        "outputId": "1a242ee9-34ba-4e2d-d13b-0eb85febacb2",
        "colab": {
          "base_uri": "https://localhost:8080/",
          "height": 34
        }
      },
      "source": [
        "# 4172 rows with target as 1\n",
        "df1new=df1[:4172]\n",
        "#rest of the data which can be used later on after training\n",
        "df1test=df1[4172:]\n",
        "\n",
        "print(len(df1new),\",\",len(df1test))"
      ],
      "execution_count": 0,
      "outputs": [
        {
          "output_type": "stream",
          "text": [
            "4172 , 15142\n"
          ],
          "name": "stdout"
        }
      ]
    },
    {
      "cell_type": "markdown",
      "metadata": {
        "id": "_fONMtwwYYG-",
        "colab_type": "text"
      },
      "source": [
        "there are total of 4172 rows with 1 as target."
      ]
    },
    {
      "cell_type": "markdown",
      "metadata": {
        "id": "LVC7OdboMUbz",
        "colab_type": "text"
      },
      "source": [
        "**All the rows with Recommended IND = 0**"
      ]
    },
    {
      "cell_type": "code",
      "metadata": {
        "id": "N7HCeusvZ-Hs",
        "colab_type": "code",
        "outputId": "a7b49260-1ae5-44d4-d566-4245dcd32b9b",
        "colab": {
          "base_uri": "https://localhost:8080/",
          "height": 606
        }
      },
      "source": [
        "# data with target as 0\n",
        "df0=df.loc[df['Recommended IND'] == 0]\n",
        "df0"
      ],
      "execution_count": 0,
      "outputs": [
        {
          "output_type": "execute_result",
          "data": {
            "text/html": [
              "<div>\n",
              "<style scoped>\n",
              "    .dataframe tbody tr th:only-of-type {\n",
              "        vertical-align: middle;\n",
              "    }\n",
              "\n",
              "    .dataframe tbody tr th {\n",
              "        vertical-align: top;\n",
              "    }\n",
              "\n",
              "    .dataframe thead th {\n",
              "        text-align: right;\n",
              "    }\n",
              "</style>\n",
              "<table border=\"1\" class=\"dataframe\">\n",
              "  <thead>\n",
              "    <tr style=\"text-align: right;\">\n",
              "      <th></th>\n",
              "      <th>Clothing ID</th>\n",
              "      <th>Age</th>\n",
              "      <th>Review Text</th>\n",
              "      <th>Rating</th>\n",
              "      <th>Recommended IND</th>\n",
              "      <th>Positive Feedback Count</th>\n",
              "      <th>Division Name</th>\n",
              "      <th>Department Name</th>\n",
              "      <th>Class Name</th>\n",
              "      <th>review_len</th>\n",
              "      <th>word_count</th>\n",
              "      <th>Good/bad</th>\n",
              "    </tr>\n",
              "  </thead>\n",
              "  <tbody>\n",
              "    <tr>\n",
              "      <th>2</th>\n",
              "      <td>1077</td>\n",
              "      <td>60</td>\n",
              "      <td>I had such high hopes for this dress and reall...</td>\n",
              "      <td>3</td>\n",
              "      <td>0</td>\n",
              "      <td>0</td>\n",
              "      <td>General</td>\n",
              "      <td>Dresses</td>\n",
              "      <td>Dresses</td>\n",
              "      <td>500</td>\n",
              "      <td>98</td>\n",
              "      <td>1</td>\n",
              "    </tr>\n",
              "    <tr>\n",
              "      <th>5</th>\n",
              "      <td>1080</td>\n",
              "      <td>49</td>\n",
              "      <td>I love tracy reese dresses, but this one is no...</td>\n",
              "      <td>2</td>\n",
              "      <td>0</td>\n",
              "      <td>4</td>\n",
              "      <td>General</td>\n",
              "      <td>Dresses</td>\n",
              "      <td>Dresses</td>\n",
              "      <td>488</td>\n",
              "      <td>98</td>\n",
              "      <td>0</td>\n",
              "    </tr>\n",
              "    <tr>\n",
              "      <th>10</th>\n",
              "      <td>1077</td>\n",
              "      <td>53</td>\n",
              "      <td>Dress runs small esp where the zipper area run...</td>\n",
              "      <td>3</td>\n",
              "      <td>0</td>\n",
              "      <td>14</td>\n",
              "      <td>General</td>\n",
              "      <td>Dresses</td>\n",
              "      <td>Dresses</td>\n",
              "      <td>336</td>\n",
              "      <td>66</td>\n",
              "      <td>1</td>\n",
              "    </tr>\n",
              "    <tr>\n",
              "      <th>22</th>\n",
              "      <td>1077</td>\n",
              "      <td>31</td>\n",
              "      <td>First of all, this is not pullover styling. th...</td>\n",
              "      <td>2</td>\n",
              "      <td>0</td>\n",
              "      <td>7</td>\n",
              "      <td>General</td>\n",
              "      <td>Dresses</td>\n",
              "      <td>Dresses</td>\n",
              "      <td>437</td>\n",
              "      <td>85</td>\n",
              "      <td>0</td>\n",
              "    </tr>\n",
              "    <tr>\n",
              "      <th>25</th>\n",
              "      <td>697</td>\n",
              "      <td>31</td>\n",
              "      <td>Loved the material, but i didnt really look at...</td>\n",
              "      <td>3</td>\n",
              "      <td>0</td>\n",
              "      <td>0</td>\n",
              "      <td>Initmates</td>\n",
              "      <td>Intimate</td>\n",
              "      <td>Lounge</td>\n",
              "      <td>340</td>\n",
              "      <td>69</td>\n",
              "      <td>1</td>\n",
              "    </tr>\n",
              "    <tr>\n",
              "      <th>...</th>\n",
              "      <td>...</td>\n",
              "      <td>...</td>\n",
              "      <td>...</td>\n",
              "      <td>...</td>\n",
              "      <td>...</td>\n",
              "      <td>...</td>\n",
              "      <td>...</td>\n",
              "      <td>...</td>\n",
              "      <td>...</td>\n",
              "      <td>...</td>\n",
              "      <td>...</td>\n",
              "      <td>...</td>\n",
              "    </tr>\n",
              "    <tr>\n",
              "      <th>23449</th>\n",
              "      <td>262</td>\n",
              "      <td>39</td>\n",
              "      <td>I tried these on because the color is really p...</td>\n",
              "      <td>3</td>\n",
              "      <td>0</td>\n",
              "      <td>7</td>\n",
              "      <td>General Petite</td>\n",
              "      <td>Intimate</td>\n",
              "      <td>Lounge</td>\n",
              "      <td>349</td>\n",
              "      <td>65</td>\n",
              "      <td>1</td>\n",
              "    </tr>\n",
              "    <tr>\n",
              "      <th>23450</th>\n",
              "      <td>964</td>\n",
              "      <td>40</td>\n",
              "      <td>I wanted to love this jacket. so soft and grea...</td>\n",
              "      <td>3</td>\n",
              "      <td>0</td>\n",
              "      <td>4</td>\n",
              "      <td>General</td>\n",
              "      <td>Jackets</td>\n",
              "      <td>Jackets</td>\n",
              "      <td>318</td>\n",
              "      <td>60</td>\n",
              "      <td>1</td>\n",
              "    </tr>\n",
              "    <tr>\n",
              "      <th>23460</th>\n",
              "      <td>1078</td>\n",
              "      <td>34</td>\n",
              "      <td>I purchased this for a very good price and i t...</td>\n",
              "      <td>3</td>\n",
              "      <td>0</td>\n",
              "      <td>0</td>\n",
              "      <td>General</td>\n",
              "      <td>Dresses</td>\n",
              "      <td>Dresses</td>\n",
              "      <td>500</td>\n",
              "      <td>95</td>\n",
              "      <td>1</td>\n",
              "    </tr>\n",
              "    <tr>\n",
              "      <th>23478</th>\n",
              "      <td>1104</td>\n",
              "      <td>32</td>\n",
              "      <td>I was surprised at the positive reviews for th...</td>\n",
              "      <td>1</td>\n",
              "      <td>0</td>\n",
              "      <td>0</td>\n",
              "      <td>General Petite</td>\n",
              "      <td>Dresses</td>\n",
              "      <td>Dresses</td>\n",
              "      <td>229</td>\n",
              "      <td>44</td>\n",
              "      <td>0</td>\n",
              "    </tr>\n",
              "    <tr>\n",
              "      <th>23483</th>\n",
              "      <td>1104</td>\n",
              "      <td>31</td>\n",
              "      <td>This fit well, but the top was very see throug...</td>\n",
              "      <td>3</td>\n",
              "      <td>0</td>\n",
              "      <td>1</td>\n",
              "      <td>General Petite</td>\n",
              "      <td>Dresses</td>\n",
              "      <td>Dresses</td>\n",
              "      <td>208</td>\n",
              "      <td>42</td>\n",
              "      <td>1</td>\n",
              "    </tr>\n",
              "  </tbody>\n",
              "</table>\n",
              "<p>4172 rows × 12 columns</p>\n",
              "</div>"
            ],
            "text/plain": [
              "       Clothing ID  Age  ... word_count  Good/bad\n",
              "2             1077   60  ...         98         1\n",
              "5             1080   49  ...         98         0\n",
              "10            1077   53  ...         66         1\n",
              "22            1077   31  ...         85         0\n",
              "25             697   31  ...         69         1\n",
              "...            ...  ...  ...        ...       ...\n",
              "23449          262   39  ...         65         1\n",
              "23450          964   40  ...         60         1\n",
              "23460         1078   34  ...         95         1\n",
              "23478         1104   32  ...         44         0\n",
              "23483         1104   31  ...         42         1\n",
              "\n",
              "[4172 rows x 12 columns]"
            ]
          },
          "metadata": {
            "tags": []
          },
          "execution_count": 11
        }
      ]
    },
    {
      "cell_type": "markdown",
      "metadata": {
        "id": "8kPIlGsPG-hX",
        "colab_type": "text"
      },
      "source": [
        "Both dataframes are concated to form a single final dataframe."
      ]
    },
    {
      "cell_type": "code",
      "metadata": {
        "id": "E56WO3Glaec6",
        "colab_type": "code",
        "outputId": "39cfc8ef-1a2d-44f0-eb40-347e2c0a9db9",
        "colab": {
          "base_uri": "https://localhost:8080/",
          "height": 306
        }
      },
      "source": [
        "final_df=pd.concat([df0,df1new])\n",
        "final_df.head()"
      ],
      "execution_count": 0,
      "outputs": [
        {
          "output_type": "execute_result",
          "data": {
            "text/html": [
              "<div>\n",
              "<style scoped>\n",
              "    .dataframe tbody tr th:only-of-type {\n",
              "        vertical-align: middle;\n",
              "    }\n",
              "\n",
              "    .dataframe tbody tr th {\n",
              "        vertical-align: top;\n",
              "    }\n",
              "\n",
              "    .dataframe thead th {\n",
              "        text-align: right;\n",
              "    }\n",
              "</style>\n",
              "<table border=\"1\" class=\"dataframe\">\n",
              "  <thead>\n",
              "    <tr style=\"text-align: right;\">\n",
              "      <th></th>\n",
              "      <th>Clothing ID</th>\n",
              "      <th>Age</th>\n",
              "      <th>Review Text</th>\n",
              "      <th>Rating</th>\n",
              "      <th>Recommended IND</th>\n",
              "      <th>Positive Feedback Count</th>\n",
              "      <th>Division Name</th>\n",
              "      <th>Department Name</th>\n",
              "      <th>Class Name</th>\n",
              "      <th>review_len</th>\n",
              "      <th>word_count</th>\n",
              "      <th>Good/bad</th>\n",
              "    </tr>\n",
              "  </thead>\n",
              "  <tbody>\n",
              "    <tr>\n",
              "      <th>2</th>\n",
              "      <td>1077</td>\n",
              "      <td>60</td>\n",
              "      <td>I had such high hopes for this dress and reall...</td>\n",
              "      <td>3</td>\n",
              "      <td>0</td>\n",
              "      <td>0</td>\n",
              "      <td>General</td>\n",
              "      <td>Dresses</td>\n",
              "      <td>Dresses</td>\n",
              "      <td>500</td>\n",
              "      <td>98</td>\n",
              "      <td>1</td>\n",
              "    </tr>\n",
              "    <tr>\n",
              "      <th>5</th>\n",
              "      <td>1080</td>\n",
              "      <td>49</td>\n",
              "      <td>I love tracy reese dresses, but this one is no...</td>\n",
              "      <td>2</td>\n",
              "      <td>0</td>\n",
              "      <td>4</td>\n",
              "      <td>General</td>\n",
              "      <td>Dresses</td>\n",
              "      <td>Dresses</td>\n",
              "      <td>488</td>\n",
              "      <td>98</td>\n",
              "      <td>0</td>\n",
              "    </tr>\n",
              "    <tr>\n",
              "      <th>10</th>\n",
              "      <td>1077</td>\n",
              "      <td>53</td>\n",
              "      <td>Dress runs small esp where the zipper area run...</td>\n",
              "      <td>3</td>\n",
              "      <td>0</td>\n",
              "      <td>14</td>\n",
              "      <td>General</td>\n",
              "      <td>Dresses</td>\n",
              "      <td>Dresses</td>\n",
              "      <td>336</td>\n",
              "      <td>66</td>\n",
              "      <td>1</td>\n",
              "    </tr>\n",
              "    <tr>\n",
              "      <th>22</th>\n",
              "      <td>1077</td>\n",
              "      <td>31</td>\n",
              "      <td>First of all, this is not pullover styling. th...</td>\n",
              "      <td>2</td>\n",
              "      <td>0</td>\n",
              "      <td>7</td>\n",
              "      <td>General</td>\n",
              "      <td>Dresses</td>\n",
              "      <td>Dresses</td>\n",
              "      <td>437</td>\n",
              "      <td>85</td>\n",
              "      <td>0</td>\n",
              "    </tr>\n",
              "    <tr>\n",
              "      <th>25</th>\n",
              "      <td>697</td>\n",
              "      <td>31</td>\n",
              "      <td>Loved the material, but i didnt really look at...</td>\n",
              "      <td>3</td>\n",
              "      <td>0</td>\n",
              "      <td>0</td>\n",
              "      <td>Initmates</td>\n",
              "      <td>Intimate</td>\n",
              "      <td>Lounge</td>\n",
              "      <td>340</td>\n",
              "      <td>69</td>\n",
              "      <td>1</td>\n",
              "    </tr>\n",
              "  </tbody>\n",
              "</table>\n",
              "</div>"
            ],
            "text/plain": [
              "    Clothing ID  Age  ... word_count  Good/bad\n",
              "2          1077   60  ...         98         1\n",
              "5          1080   49  ...         98         0\n",
              "10         1077   53  ...         66         1\n",
              "22         1077   31  ...         85         0\n",
              "25          697   31  ...         69         1\n",
              "\n",
              "[5 rows x 12 columns]"
            ]
          },
          "metadata": {
            "tags": []
          },
          "execution_count": 12
        }
      ]
    },
    {
      "cell_type": "markdown",
      "metadata": {
        "id": "QrseWQiGHHMw",
        "colab_type": "text"
      },
      "source": [
        "But there are null values in some columns for some rows.\n",
        "\n",
        "hence removing all NaN values."
      ]
    },
    {
      "cell_type": "code",
      "metadata": {
        "id": "WF9PAXs2evTF",
        "colab_type": "code",
        "outputId": "eb446151-3adc-4f89-86d9-b6fc6be721b4",
        "colab": {
          "base_uri": "https://localhost:8080/",
          "height": 34
        }
      },
      "source": [
        "final_df['Review Text'].isna().sum()"
      ],
      "execution_count": 0,
      "outputs": [
        {
          "output_type": "execute_result",
          "data": {
            "text/plain": [
              "231"
            ]
          },
          "metadata": {
            "tags": []
          },
          "execution_count": 13
        }
      ]
    },
    {
      "cell_type": "markdown",
      "metadata": {
        "id": "Rzqr3kBZQ3z5",
        "colab_type": "text"
      },
      "source": [
        "there are in total 238 Nan values"
      ]
    },
    {
      "cell_type": "markdown",
      "metadata": {
        "id": "d9sdk4ifHaPC",
        "colab_type": "text"
      },
      "source": [
        "**Dropping rows with Nan values.**"
      ]
    },
    {
      "cell_type": "code",
      "metadata": {
        "id": "HHPf5EPzfuM-",
        "colab_type": "code",
        "colab": {}
      },
      "source": [
        "final_df=final_df.dropna()"
      ],
      "execution_count": 0,
      "outputs": []
    },
    {
      "cell_type": "markdown",
      "metadata": {
        "id": "-TLcDonWHjbT",
        "colab_type": "text"
      },
      "source": [
        "This is the final Dataframe that will be working on."
      ]
    },
    {
      "cell_type": "code",
      "metadata": {
        "id": "XXXzuogEgAMe",
        "colab_type": "code",
        "outputId": "1c20167a-1ebe-4362-97b3-cdf9e0f35fb0",
        "colab": {
          "base_uri": "https://localhost:8080/",
          "height": 306
        }
      },
      "source": [
        "final_df.head()"
      ],
      "execution_count": 0,
      "outputs": [
        {
          "output_type": "execute_result",
          "data": {
            "text/html": [
              "<div>\n",
              "<style scoped>\n",
              "    .dataframe tbody tr th:only-of-type {\n",
              "        vertical-align: middle;\n",
              "    }\n",
              "\n",
              "    .dataframe tbody tr th {\n",
              "        vertical-align: top;\n",
              "    }\n",
              "\n",
              "    .dataframe thead th {\n",
              "        text-align: right;\n",
              "    }\n",
              "</style>\n",
              "<table border=\"1\" class=\"dataframe\">\n",
              "  <thead>\n",
              "    <tr style=\"text-align: right;\">\n",
              "      <th></th>\n",
              "      <th>Clothing ID</th>\n",
              "      <th>Age</th>\n",
              "      <th>Review Text</th>\n",
              "      <th>Rating</th>\n",
              "      <th>Recommended IND</th>\n",
              "      <th>Positive Feedback Count</th>\n",
              "      <th>Division Name</th>\n",
              "      <th>Department Name</th>\n",
              "      <th>Class Name</th>\n",
              "      <th>review_len</th>\n",
              "      <th>word_count</th>\n",
              "      <th>Good/bad</th>\n",
              "    </tr>\n",
              "  </thead>\n",
              "  <tbody>\n",
              "    <tr>\n",
              "      <th>2</th>\n",
              "      <td>1077</td>\n",
              "      <td>60</td>\n",
              "      <td>I had such high hopes for this dress and reall...</td>\n",
              "      <td>3</td>\n",
              "      <td>0</td>\n",
              "      <td>0</td>\n",
              "      <td>General</td>\n",
              "      <td>Dresses</td>\n",
              "      <td>Dresses</td>\n",
              "      <td>500</td>\n",
              "      <td>98</td>\n",
              "      <td>1</td>\n",
              "    </tr>\n",
              "    <tr>\n",
              "      <th>5</th>\n",
              "      <td>1080</td>\n",
              "      <td>49</td>\n",
              "      <td>I love tracy reese dresses, but this one is no...</td>\n",
              "      <td>2</td>\n",
              "      <td>0</td>\n",
              "      <td>4</td>\n",
              "      <td>General</td>\n",
              "      <td>Dresses</td>\n",
              "      <td>Dresses</td>\n",
              "      <td>488</td>\n",
              "      <td>98</td>\n",
              "      <td>0</td>\n",
              "    </tr>\n",
              "    <tr>\n",
              "      <th>10</th>\n",
              "      <td>1077</td>\n",
              "      <td>53</td>\n",
              "      <td>Dress runs small esp where the zipper area run...</td>\n",
              "      <td>3</td>\n",
              "      <td>0</td>\n",
              "      <td>14</td>\n",
              "      <td>General</td>\n",
              "      <td>Dresses</td>\n",
              "      <td>Dresses</td>\n",
              "      <td>336</td>\n",
              "      <td>66</td>\n",
              "      <td>1</td>\n",
              "    </tr>\n",
              "    <tr>\n",
              "      <th>22</th>\n",
              "      <td>1077</td>\n",
              "      <td>31</td>\n",
              "      <td>First of all, this is not pullover styling. th...</td>\n",
              "      <td>2</td>\n",
              "      <td>0</td>\n",
              "      <td>7</td>\n",
              "      <td>General</td>\n",
              "      <td>Dresses</td>\n",
              "      <td>Dresses</td>\n",
              "      <td>437</td>\n",
              "      <td>85</td>\n",
              "      <td>0</td>\n",
              "    </tr>\n",
              "    <tr>\n",
              "      <th>25</th>\n",
              "      <td>697</td>\n",
              "      <td>31</td>\n",
              "      <td>Loved the material, but i didnt really look at...</td>\n",
              "      <td>3</td>\n",
              "      <td>0</td>\n",
              "      <td>0</td>\n",
              "      <td>Initmates</td>\n",
              "      <td>Intimate</td>\n",
              "      <td>Lounge</td>\n",
              "      <td>340</td>\n",
              "      <td>69</td>\n",
              "      <td>1</td>\n",
              "    </tr>\n",
              "  </tbody>\n",
              "</table>\n",
              "</div>"
            ],
            "text/plain": [
              "    Clothing ID  Age  ... word_count  Good/bad\n",
              "2          1077   60  ...         98         1\n",
              "5          1080   49  ...         98         0\n",
              "10         1077   53  ...         66         1\n",
              "22         1077   31  ...         85         0\n",
              "25          697   31  ...         69         1\n",
              "\n",
              "[5 rows x 12 columns]"
            ]
          },
          "metadata": {
            "tags": []
          },
          "execution_count": 15
        }
      ]
    },
    {
      "cell_type": "markdown",
      "metadata": {
        "id": "SbGp8nooHqQt",
        "colab_type": "text"
      },
      "source": [
        "**After removing Nan values is the dataset unbiased ?**"
      ]
    },
    {
      "cell_type": "code",
      "metadata": {
        "id": "2iW8k8EMa5y3",
        "colab_type": "code",
        "outputId": "6b0df83d-39b1-4ca3-f75a-b0f3376d4733",
        "colab": {
          "base_uri": "https://localhost:8080/",
          "height": 309
        }
      },
      "source": [
        "fig1, ax1 = plt.subplots()\n",
        "a,b=final_df['Recommended IND'].value_counts()\n",
        "sizes=[a,b]\n",
        "labels=[a,b]\n",
        "ax1.pie(sizes, labels=labels, autopct='%1.1f%%')\n",
        "ax1.axis('equal')  # Equal aspect ratio ensures that pie is drawn as a circle.\n",
        "plt.show()\n",
        "final_df['Recommended IND'].value_counts()"
      ],
      "execution_count": 0,
      "outputs": [
        {
          "output_type": "display_data",
          "data": {
            "image/png": "[encoded data removed]",
            "text/plain": [
              "<Figure size 432x288 with 1 Axes>"
            ]
          },
          "metadata": {
            "tags": []
          }
        },
        {
          "output_type": "execute_result",
          "data": {
            "text/plain": [
              "0    4101\n",
              "1    4012\n",
              "Name: Recommended IND, dtype: int64"
            ]
          },
          "metadata": {
            "tags": []
          },
          "execution_count": 16
        }
      ]
    },
    {
      "cell_type": "markdown",
      "metadata": {
        "id": "B7xMhOTaHzxA",
        "colab_type": "text"
      },
      "source": [
        "yes the dataset remains unbiased with a small variation."
      ]
    },
    {
      "cell_type": "code",
      "metadata": {
        "id": "jz-E6hJjldhS",
        "colab_type": "code",
        "outputId": "668cb443-8eb9-46e7-8d95-e56ac5785eb8",
        "colab": {
          "base_uri": "https://localhost:8080/",
          "height": 306
        }
      },
      "source": [
        "final_df.head()"
      ],
      "execution_count": 0,
      "outputs": [
        {
          "output_type": "execute_result",
          "data": {
            "text/html": [
              "<div>\n",
              "<style scoped>\n",
              "    .dataframe tbody tr th:only-of-type {\n",
              "        vertical-align: middle;\n",
              "    }\n",
              "\n",
              "    .dataframe tbody tr th {\n",
              "        vertical-align: top;\n",
              "    }\n",
              "\n",
              "    .dataframe thead th {\n",
              "        text-align: right;\n",
              "    }\n",
              "</style>\n",
              "<table border=\"1\" class=\"dataframe\">\n",
              "  <thead>\n",
              "    <tr style=\"text-align: right;\">\n",
              "      <th></th>\n",
              "      <th>Clothing ID</th>\n",
              "      <th>Age</th>\n",
              "      <th>Review Text</th>\n",
              "      <th>Rating</th>\n",
              "      <th>Recommended IND</th>\n",
              "      <th>Positive Feedback Count</th>\n",
              "      <th>Division Name</th>\n",
              "      <th>Department Name</th>\n",
              "      <th>Class Name</th>\n",
              "      <th>review_len</th>\n",
              "      <th>word_count</th>\n",
              "      <th>Good/bad</th>\n",
              "    </tr>\n",
              "  </thead>\n",
              "  <tbody>\n",
              "    <tr>\n",
              "      <th>2</th>\n",
              "      <td>1077</td>\n",
              "      <td>60</td>\n",
              "      <td>I had such high hopes for this dress and reall...</td>\n",
              "      <td>3</td>\n",
              "      <td>0</td>\n",
              "      <td>0</td>\n",
              "      <td>General</td>\n",
              "      <td>Dresses</td>\n",
              "      <td>Dresses</td>\n",
              "      <td>500</td>\n",
              "      <td>98</td>\n",
              "      <td>1</td>\n",
              "    </tr>\n",
              "    <tr>\n",
              "      <th>5</th>\n",
              "      <td>1080</td>\n",
              "      <td>49</td>\n",
              "      <td>I love tracy reese dresses, but this one is no...</td>\n",
              "      <td>2</td>\n",
              "      <td>0</td>\n",
              "      <td>4</td>\n",
              "      <td>General</td>\n",
              "      <td>Dresses</td>\n",
              "      <td>Dresses</td>\n",
              "      <td>488</td>\n",
              "      <td>98</td>\n",
              "      <td>0</td>\n",
              "    </tr>\n",
              "    <tr>\n",
              "      <th>10</th>\n",
              "      <td>1077</td>\n",
              "      <td>53</td>\n",
              "      <td>Dress runs small esp where the zipper area run...</td>\n",
              "      <td>3</td>\n",
              "      <td>0</td>\n",
              "      <td>14</td>\n",
              "      <td>General</td>\n",
              "      <td>Dresses</td>\n",
              "      <td>Dresses</td>\n",
              "      <td>336</td>\n",
              "      <td>66</td>\n",
              "      <td>1</td>\n",
              "    </tr>\n",
              "    <tr>\n",
              "      <th>22</th>\n",
              "      <td>1077</td>\n",
              "      <td>31</td>\n",
              "      <td>First of all, this is not pullover styling. th...</td>\n",
              "      <td>2</td>\n",
              "      <td>0</td>\n",
              "      <td>7</td>\n",
              "      <td>General</td>\n",
              "      <td>Dresses</td>\n",
              "      <td>Dresses</td>\n",
              "      <td>437</td>\n",
              "      <td>85</td>\n",
              "      <td>0</td>\n",
              "    </tr>\n",
              "    <tr>\n",
              "      <th>25</th>\n",
              "      <td>697</td>\n",
              "      <td>31</td>\n",
              "      <td>Loved the material, but i didnt really look at...</td>\n",
              "      <td>3</td>\n",
              "      <td>0</td>\n",
              "      <td>0</td>\n",
              "      <td>Initmates</td>\n",
              "      <td>Intimate</td>\n",
              "      <td>Lounge</td>\n",
              "      <td>340</td>\n",
              "      <td>69</td>\n",
              "      <td>1</td>\n",
              "    </tr>\n",
              "  </tbody>\n",
              "</table>\n",
              "</div>"
            ],
            "text/plain": [
              "    Clothing ID  Age  ... word_count  Good/bad\n",
              "2          1077   60  ...         98         1\n",
              "5          1080   49  ...         98         0\n",
              "10         1077   53  ...         66         1\n",
              "22         1077   31  ...         85         0\n",
              "25          697   31  ...         69         1\n",
              "\n",
              "[5 rows x 12 columns]"
            ]
          },
          "metadata": {
            "tags": []
          },
          "execution_count": 17
        }
      ]
    },
    {
      "cell_type": "markdown",
      "metadata": {
        "id": "BYVJ5EhfIOS7",
        "colab_type": "text"
      },
      "source": [
        "# Visualising data for better understanding"
      ]
    },
    {
      "cell_type": "markdown",
      "metadata": {
        "id": "JKIE4nUWFtf7",
        "colab_type": "text"
      },
      "source": [
        "**Class name**: *it is type of product*"
      ]
    },
    {
      "cell_type": "markdown",
      "metadata": {
        "id": "nEVgtHc7iqo3",
        "colab_type": "text"
      },
      "source": [
        "Understanding Class Name with a count plot, which will tell us what product is womens favourite.."
      ]
    },
    {
      "cell_type": "code",
      "metadata": {
        "id": "gRcJpZrnzIMz",
        "colab_type": "code",
        "outputId": "de55ae51-4158-429d-c9af-23e73cb80c08",
        "colab": {
          "base_uri": "https://localhost:8080/",
          "height": 363
        }
      },
      "source": [
        "ax = sns.countplot(x=\"Class Name\", data=df)\n",
        "ax=ax.set_xticklabels(ax.get_xticklabels(), rotation=90)\n",
        "plt.title('Class Name Vs count')\n",
        "plt.show()"
      ],
      "execution_count": 0,
      "outputs": [
        {
          "output_type": "display_data",
          "data": {
            "image/png": "[encoded data removed]",
            "text/plain": [
              "<Figure size 432x288 with 1 Axes>"
            ]
          },
          "metadata": {
            "tags": [],
            "needs_background": "light"
          }
        }
      ]
    },
    {
      "cell_type": "markdown",
      "metadata": {
        "id": "z5gvNqI00xBj",
        "colab_type": "text"
      },
      "source": [
        "Hmm.. so dresses are ladies favourite with a count of 6000+"
      ]
    },
    {
      "cell_type": "markdown",
      "metadata": {
        "id": "udm9TBfeFzhT",
        "colab_type": "text"
      },
      "source": [
        "**Age**: *its the age of the reviewer*"
      ]
    },
    {
      "cell_type": "markdown",
      "metadata": {
        "id": "B6s9MJMVjDaY",
        "colab_type": "text"
      },
      "source": [
        "Understanding Age group which will tell us what age group shops the msot."
      ]
    },
    {
      "cell_type": "code",
      "metadata": {
        "id": "G3ooeIaMzv8o",
        "colab_type": "code",
        "outputId": "e8704298-8672-4aac-bba5-5f2b458e1a08",
        "colab": {
          "base_uri": "https://localhost:8080/",
          "height": 295
        }
      },
      "source": [
        "df['Age'].hist()\n",
        "plt.xlabel('Age')\n",
        "plt.ylabel('count')\n",
        "plt.title('Age Vs count')\n",
        "plt.show()"
      ],
      "execution_count": 0,
      "outputs": [
        {
          "output_type": "display_data",
          "data": {
            "image/png": "[encoded data removed]",
            "text/plain": [
              "<Figure size 432x288 with 1 Axes>"
            ]
          },
          "metadata": {
            "tags": [],
            "needs_background": "light"
          }
        }
      ]
    },
    {
      "cell_type": "markdown",
      "metadata": {
        "id": "JYTlO8iO3Enp",
        "colab_type": "text"
      },
      "source": [
        "Hmm.. So ladies in the age group of 35-45 are shopaholic 😜"
      ]
    },
    {
      "cell_type": "markdown",
      "metadata": {
        "id": "D7de37lzF2Lw",
        "colab_type": "text"
      },
      "source": [
        "**Rating**: *Its the 5 star rating which is found these days in every other E-Commerce sites.* "
      ]
    },
    {
      "cell_type": "markdown",
      "metadata": {
        "id": "pdBCVj-6jRuu",
        "colab_type": "text"
      },
      "source": [
        "Understanding Rating using count plot, so that we can see which rating is most common among the "
      ]
    },
    {
      "cell_type": "code",
      "metadata": {
        "id": "q6jmZordvGJe",
        "colab_type": "code",
        "outputId": "f0a25cef-35b6-45bf-81b1-6686378e15e2",
        "colab": {
          "base_uri": "https://localhost:8080/",
          "height": 295
        }
      },
      "source": [
        "ax1 = sns.countplot(x=\"Rating\", data=df)\n",
        "plt.title('Rating vs Count')\n",
        "plt.show()"
      ],
      "execution_count": 0,
      "outputs": [
        {
          "output_type": "display_data",
          "data": {
            "image/png": "[encoded data removed]",
            "text/plain": [
              "<Figure size 432x288 with 1 Axes>"
            ]
          },
          "metadata": {
            "tags": [],
            "needs_background": "light"
          }
        }
      ]
    },
    {
      "cell_type": "markdown",
      "metadata": {
        "id": "doOqChRrvbEe",
        "colab_type": "text"
      },
      "source": [
        "there are more 5 rated items in the dataset(around 50% ratings are 5)"
      ]
    },
    {
      "cell_type": "markdown",
      "metadata": {
        "id": "ULrCztTpGVft",
        "colab_type": "text"
      },
      "source": [
        "**positive feedbacks count**: *its the number of +ve feedback counts recieved by a particular product.*"
      ]
    },
    {
      "cell_type": "code",
      "metadata": {
        "id": "8XdX6z0GNaGB",
        "colab_type": "code",
        "outputId": "00e860f3-64f9-4e2d-b63b-3e91aab20b24",
        "colab": {
          "base_uri": "https://localhost:8080/",
          "height": 279
        }
      },
      "source": [
        "sns.distplot(df['Positive Feedback Count'])\n",
        "plt.show()"
      ],
      "execution_count": 0,
      "outputs": [
        {
          "output_type": "display_data",
          "data": {
            "image/png": "[encoded data removed]",
            "text/plain": [
              "<Figure size 432x288 with 1 Axes>"
            ]
          },
          "metadata": {
            "tags": [],
            "needs_background": "light"
          }
        }
      ]
    },
    {
      "cell_type": "markdown",
      "metadata": {
        "id": "-A5BwG4bNwdF",
        "colab_type": "text"
      },
      "source": [
        "**How positive feedback and classname are related ?**"
      ]
    },
    {
      "cell_type": "code",
      "metadata": {
        "id": "35oD1iw84eTa",
        "colab_type": "code",
        "colab": {}
      },
      "source": [
        "l=df['Class Name'].unique().tolist()\n",
        "d={}\n",
        "for i in l:\n",
        "  a=df.loc[df['Class Name'] == i ,'Positive Feedback Count'].sum()\n",
        "  d[i]=a"
      ],
      "execution_count": 0,
      "outputs": []
    },
    {
      "cell_type": "code",
      "metadata": {
        "id": "_deuSzTICZq6",
        "colab_type": "code",
        "outputId": "6400c68b-8a5c-4db4-d0b0-e4dd6e400acf",
        "colab": {
          "base_uri": "https://localhost:8080/",
          "height": 363
        }
      },
      "source": [
        "keys = list(d.keys())\n",
        "values = list(d.values())\n",
        "sns.barplot(keys,values)\n",
        "plt.xticks(rotation=90)\n",
        "plt.ylabel('+ve feedback count')\n",
        "plt.xlabel('Class Name')\n",
        "plt.title('Class Name Vs Positive feedback count')\n",
        "plt.show()"
      ],
      "execution_count": 0,
      "outputs": [
        {
          "output_type": "display_data",
          "data": {
            "image/png": "[encoded data removed]",
            "text/plain": [
              "<Figure size 432x288 with 1 Axes>"
            ]
          },
          "metadata": {
            "tags": [],
            "needs_background": "light"
          }
        }
      ]
    },
    {
      "cell_type": "markdown",
      "metadata": {
        "id": "_EiRolAmmQcz",
        "colab_type": "text"
      },
      "source": [
        "So Dresses have the most positive feedbacks"
      ]
    },
    {
      "cell_type": "markdown",
      "metadata": {
        "id": "gXf2Za5AiZLj",
        "colab_type": "text"
      },
      "source": [
        "**Higher Rating ---> Higher reccomendation ???**\n",
        "\n",
        "Lets find out..."
      ]
    },
    {
      "cell_type": "code",
      "metadata": {
        "id": "rxC0NkWynoTi",
        "colab_type": "code",
        "outputId": "9bbb387e-9024-414d-de2d-3b7e88a6dc36",
        "colab": {
          "base_uri": "https://localhost:8080/",
          "height": 34
        }
      },
      "source": [
        "li=df['Rating'].unique().tolist()\n",
        "di={}\n",
        "for i in li:\n",
        "  a=df.loc[df['Rating'] == i ,'Recommended IND'].sum()\n",
        "  di[i]=a\n",
        "di"
      ],
      "execution_count": 0,
      "outputs": [
        {
          "output_type": "execute_result",
          "data": {
            "text/plain": [
              "{1: 16, 2: 94, 3: 1189, 4: 4909, 5: 13106}"
            ]
          },
          "metadata": {
            "tags": []
          },
          "execution_count": 24
        }
      ]
    },
    {
      "cell_type": "markdown",
      "metadata": {
        "id": "dtOng6EWRy9z",
        "colab_type": "text"
      },
      "source": [
        "Here I have created a dictionary with Recommendation count for each star rating. "
      ]
    },
    {
      "cell_type": "code",
      "metadata": {
        "id": "uGamtTKshmrU",
        "colab_type": "code",
        "outputId": "8475d79a-a3c2-4867-b984-f4b6b8ef00a0",
        "colab": {
          "base_uri": "https://localhost:8080/",
          "height": 295
        }
      },
      "source": [
        "keys = list(di.keys())\n",
        "values = list(di.values())\n",
        "sns.barplot(keys,values)\n",
        "plt.ylabel('Reccomendation count')\n",
        "plt.xlabel('Rating')\n",
        "plt.title('Reccomendation Count Vs Rating')\n",
        "plt.show()"
      ],
      "execution_count": 0,
      "outputs": [
        {
          "output_type": "display_data",
          "data": {
            "image/png": "[encoded data removed]",
            "text/plain": [
              "<Figure size 432x288 with 1 Axes>"
            ]
          },
          "metadata": {
            "tags": [],
            "needs_background": "light"
          }
        }
      ]
    },
    {
      "cell_type": "markdown",
      "metadata": {
        "id": "5YWi2xQ4irI4",
        "colab_type": "text"
      },
      "source": [
        "Yes that turns out true !! higher rating turns out to have higher reccomendation."
      ]
    },
    {
      "cell_type": "markdown",
      "metadata": {
        "id": "9u5fUSxPN8rC",
        "colab_type": "text"
      },
      "source": [
        "**Does high rating means more +ve Feedbacks ???**"
      ]
    },
    {
      "cell_type": "code",
      "metadata": {
        "id": "spddmAsTe9EM",
        "colab_type": "code",
        "outputId": "e24dc90d-0364-476f-aace-1c3732880302",
        "colab": {
          "base_uri": "https://localhost:8080/",
          "height": 295
        }
      },
      "source": [
        "li=df['Rating'].unique().tolist()\n",
        "di={}\n",
        "for i in li:\n",
        "  a=df.loc[df['Rating'] == i ,'Positive Feedback Count'].sum()\n",
        "  di[i]=a\n",
        "keys = list(di.keys())\n",
        "values = list(di.values())\n",
        "sns.barplot(keys,values)\n",
        "plt.ylabel('Positive feedback count')\n",
        "plt.xlabel('Rating')\n",
        "plt.title('Positive feedback Count Vs Rating')\n",
        "plt.show()"
      ],
      "execution_count": 0,
      "outputs": [
        {
          "output_type": "display_data",
          "data": {
            "image/png": "[encoded data removed]",
            "text/plain": [
              "<Figure size 432x288 with 1 Axes>"
            ]
          },
          "metadata": {
            "tags": [],
            "needs_background": "light"
          }
        }
      ]
    },
    {
      "cell_type": "markdown",
      "metadata": {
        "id": "zqUkA29Lf0f9",
        "colab_type": "text"
      },
      "source": [
        "As expected 5 stars have more +ve feedbacks."
      ]
    },
    {
      "cell_type": "markdown",
      "metadata": {
        "id": "VNf6F-Q_Oa3d",
        "colab_type": "text"
      },
      "source": [
        "**What is the count of ratings recieved by each class ??**"
      ]
    },
    {
      "cell_type": "markdown",
      "metadata": {
        "id": "QwRXJIzCOrty",
        "colab_type": "text"
      },
      "source": [
        "For example how many 5 star ratings for class 'Dresses' ?"
      ]
    },
    {
      "cell_type": "code",
      "metadata": {
        "id": "YoSSdvM8f9az",
        "colab_type": "code",
        "outputId": "60ba90fe-d595-45f9-fe0b-529947046551",
        "colab": {
          "base_uri": "https://localhost:8080/",
          "height": 357
        }
      },
      "source": [
        "li=df['Class Name'].unique().tolist()\n",
        "di={}\n",
        "dict1={}\n",
        "dict2={}\n",
        "c1=c2=c3=c4=c5=0\n",
        "for i in li:\n",
        "  a=df.loc[df['Class Name'] == i ,'Rating']\n",
        "  d[i]=a\n",
        "for i in li:\n",
        "  for t in list(d[i]):\n",
        "    c=t\n",
        "    if c==1:\n",
        "      c1+=1\n",
        "      b=c1\n",
        "    elif c==2:\n",
        "      c2+=1\n",
        "      b=c2\n",
        "    elif c==3:\n",
        "      c3+=1\n",
        "      b=c3\n",
        "    elif c==4:\n",
        "      c4+=1\n",
        "      b=c4\n",
        "    else:\n",
        "      c5+=1\n",
        "      b=c5\n",
        "    dict1={c:b}\n",
        "    dict2.update(dict1)\n",
        "    di[i]=dict2\n",
        "  dict2={}\n",
        "  c1=c2=c3=c4=c5=0\n",
        "di"
      ],
      "execution_count": 0,
      "outputs": [
        {
          "output_type": "execute_result",
          "data": {
            "text/plain": [
              "{'Blouses': {1: 119, 2: 229, 3: 394, 4: 669, 5: 1686},\n",
              " 'Casual bottoms': {4: 1, 5: 1},\n",
              " 'Chemises': {4: 1},\n",
              " 'Dresses': {1: 228, 2: 461, 3: 838, 4: 1395, 5: 3397},\n",
              " 'Fine gauge': {1: 30, 2: 75, 3: 119, 4: 230, 5: 646},\n",
              " 'Intimates': {1: 7, 2: 8, 3: 16, 4: 27, 5: 96},\n",
              " 'Jackets': {1: 35, 2: 38, 3: 62, 4: 118, 5: 451},\n",
              " 'Jeans': {1: 30, 2: 55, 3: 115, 4: 218, 5: 729},\n",
              " 'Knits': {1: 178, 2: 328, 3: 616, 4: 1132, 5: 2589},\n",
              " 'Layering': {1: 3, 2: 8, 3: 9, 4: 37, 5: 89},\n",
              " 'Legwear': {1: 10, 2: 6, 3: 16, 4: 29, 5: 104},\n",
              " 'Lounge': {1: 23, 2: 25, 3: 78, 4: 160, 5: 405},\n",
              " 'Outerwear': {1: 14, 2: 22, 3: 29, 4: 83, 5: 180},\n",
              " 'Pants': {1: 42, 2: 82, 3: 157, 4: 291, 5: 816},\n",
              " 'Shorts': {1: 9, 2: 17, 3: 41, 4: 67, 5: 183},\n",
              " 'Skirts': {1: 34, 2: 51, 3: 108, 4: 208, 5: 544},\n",
              " 'Sleep': {1: 10, 2: 15, 3: 17, 4: 44, 5: 142},\n",
              " 'Sweaters': {1: 49, 2: 106, 3: 195, 4: 268, 5: 810},\n",
              " 'Swim': {1: 10, 2: 28, 3: 42, 4: 73, 5: 197},\n",
              " 'Trend': {1: 11, 2: 11, 3: 19, 4: 26, 5: 52}}"
            ]
          },
          "metadata": {
            "tags": []
          },
          "execution_count": 27
        }
      ]
    },
    {
      "cell_type": "markdown",
      "metadata": {
        "id": "CUku5ZfdO-vd",
        "colab_type": "text"
      },
      "source": [
        "here i have created a 2 dimensional dictionary which contains the count of star ratings for each class.\n",
        "\n",
        "For example: \n",
        "\n",
        "'Fine gauge': {1: 30, 2: 75, 3: 119, 4: 230, 5: 646}\n",
        "\n",
        "'Fine guage' has 30 '1' star rating 75 '2' star etc."
      ]
    },
    {
      "cell_type": "code",
      "metadata": {
        "id": "rC6fNQ_tPdUz",
        "colab_type": "code",
        "outputId": "d6a62ed6-bc22-4ba0-d90b-b36ae253c9d5",
        "colab": {
          "base_uri": "https://localhost:8080/",
          "height": 548
        }
      },
      "source": [
        "pd.DataFrame(di).plot(kind='bar',figsize=(18,9))\n",
        "plt.xlabel('Rating and class names')\n",
        "plt.ylabel('count')\n",
        "plt.show()"
      ],
      "execution_count": 0,
      "outputs": [
        {
          "output_type": "display_data",
          "data": {
            "image/png": "[encoded data removed]",
            "text/plain": [
              "<Figure size 1296x648 with 1 Axes>"
            ]
          },
          "metadata": {
            "tags": [],
            "needs_background": "light"
          }
        }
      ]
    },
    {
      "cell_type": "markdown",
      "metadata": {
        "id": "zVOAi8S6ENCz",
        "colab_type": "text"
      },
      "source": [
        "This graph shows the count of rating for each class Name.\n",
        "In each rating count of all the class names are plotted.\n",
        "\n",
        "Here we can see that in all the ratings class 'Dresses' is dominating as it is bought more. The count is more in 5 star rating and count gradually decreases in lower rating which is good."
      ]
    },
    {
      "cell_type": "markdown",
      "metadata": {
        "id": "YZImhoeJlqRT",
        "colab_type": "text"
      },
      "source": [
        "**Distribution of word count**"
      ]
    },
    {
      "cell_type": "code",
      "metadata": {
        "id": "ODS6hSC2lnFo",
        "colab_type": "code",
        "outputId": "0ddeecd7-ae3b-4a75-96b7-4d8b9b681ab2",
        "colab": {
          "base_uri": "https://localhost:8080/",
          "height": 295
        }
      },
      "source": [
        "final_df['word_count'].plot(kind='hist',grid=True,bins=50)\n",
        "plt.title('Distribution of word count')\n",
        "plt.xlabel('words')\n",
        "plt.show()"
      ],
      "execution_count": 0,
      "outputs": [
        {
          "output_type": "display_data",
          "data": {
            "image/png": "[encoded data removed]",
            "text/plain": [
              "<Figure size 432x288 with 1 Axes>"
            ]
          },
          "metadata": {
            "tags": [],
            "needs_background": "light"
          }
        }
      ]
    },
    {
      "cell_type": "markdown",
      "metadata": {
        "id": "8Oe9X1xIG4By",
        "colab_type": "text"
      },
      "source": [
        "There are quite a number of people with long reviews."
      ]
    },
    {
      "cell_type": "markdown",
      "metadata": {
        "id": "ehDBmfpuTZkj",
        "colab_type": "text"
      },
      "source": [
        "**Distribution of Review length**"
      ]
    },
    {
      "cell_type": "code",
      "metadata": {
        "id": "LOtTXmy1GLMP",
        "colab_type": "code",
        "outputId": "ac4ef42f-01c5-4263-a313-376537a9c4ae",
        "colab": {
          "base_uri": "https://localhost:8080/",
          "height": 295
        }
      },
      "source": [
        "final_df['review_len'].plot(kind='hist',grid=True,bins=50)\n",
        "plt.title('Distribution of review text length')\n",
        "plt.xlabel('review length')\n",
        "plt.show()"
      ],
      "execution_count": 0,
      "outputs": [
        {
          "output_type": "display_data",
          "data": {
            "image/png": "[encoded data removed]",
            "text/plain": [
              "<Figure size 432x288 with 1 Axes>"
            ]
          },
          "metadata": {
            "tags": [],
            "needs_background": "light"
          }
        }
      ]
    },
    {
      "cell_type": "markdown",
      "metadata": {
        "id": "zDg7GbV7H4C7",
        "colab_type": "text"
      },
      "source": [
        "There were almost 1600 people with 500 characters long reviews where as all other reviews are below 200 characters.\n",
        "\n",
        "We can see that word-count and review-length are very differently distributed."
      ]
    },
    {
      "cell_type": "markdown",
      "metadata": {
        "id": "tr7HRV6jgS0q",
        "colab_type": "text"
      },
      "source": [
        " **Does word count have any relation with Recommended IND ?**"
      ]
    },
    {
      "cell_type": "code",
      "metadata": {
        "id": "FovH9mnzggol",
        "colab_type": "code",
        "outputId": "1e120354-ba56-4904-c2f6-29cf9457a370",
        "colab": {
          "base_uri": "https://localhost:8080/",
          "height": 295
        }
      },
      "source": [
        "# final_df.groupby('word_count').count()['Recommended IND'].plot(kind='hist',grid=True)\n",
        "# plt.xlabel('Word count')\n",
        "# plt.ylabel('Recommended count') \n",
        "di={}\n",
        "li=[]\n",
        "li=final_df['word_count'].unique().tolist()\n",
        "for i in li:\n",
        "  a=final_df.loc[final_df['word_count'] == i ,'Recommended IND'].sum()\n",
        "  di[i]=a\n",
        "values=list(di.values())\n",
        "plt.hist(values,bins=50)\n",
        "plt.xlabel('word count')\n",
        "plt.ylabel('frequency of reccomendation')\n",
        "plt.title('word count vs Recommendation')\n",
        "plt.show()"
      ],
      "execution_count": 0,
      "outputs": [
        {
          "output_type": "display_data",
          "data": {
            "image/png": "[encoded data removed]",
            "text/plain": [
              "<Figure size 432x288 with 1 Axes>"
            ]
          },
          "metadata": {
            "tags": [],
            "needs_background": "light"
          }
        }
      ]
    },
    {
      "cell_type": "markdown",
      "metadata": {
        "id": "OwMzy9q6290d",
        "colab_type": "text"
      },
      "source": [
        "We can see that reviews with word-count near 40 have highehst recommendarion count. So reviews with word-count near to 40 are are most likely to be recommended."
      ]
    },
    {
      "cell_type": "code",
      "metadata": {
        "id": "DIdenIAHtqJi",
        "colab_type": "code",
        "outputId": "4cee445e-1e1c-4043-f6cc-e848c519902e",
        "colab": {
          "base_uri": "https://localhost:8080/",
          "height": 350
        }
      },
      "source": [
        "plt.figure(figsize=(15,5))\n",
        "plt.subplot(1,2,1)\n",
        "sns.countplot(df['Division Name'])\n",
        "plt.title(\"Division name count plot\")\n",
        "plt.subplot(1,2,2)\n",
        "sns.countplot(df['Department Name'])\n",
        "plt.title(\"Department name count plot\")\n",
        "plt.show()"
      ],
      "execution_count": 0,
      "outputs": [
        {
          "output_type": "display_data",
          "data": {
            "image/png": "[encoded data removed]",
            "text/plain": [
              "<Figure size 1080x360 with 2 Axes>"
            ]
          },
          "metadata": {
            "tags": [],
            "needs_background": "light"
          }
        }
      ]
    },
    {
      "cell_type": "markdown",
      "metadata": {
        "id": "6fXOIqpcwO4k",
        "colab_type": "text"
      },
      "source": [
        "**Interpreting count plot of Divsion name** \n",
        ">categories: General, Petite, and Intimates. This offers some insight into the clothing sizes of the customers leaving reviews.\n",
        "\n",
        "**Interpreting count plot of Department name**\n",
        ">Tops and dresses are the most reviewed products"
      ]
    },
    {
      "cell_type": "markdown",
      "metadata": {
        "id": "UCaP9J9IxwZJ",
        "colab_type": "text"
      },
      "source": [
        "**How many products are good or bad ??**"
      ]
    },
    {
      "cell_type": "code",
      "metadata": {
        "id": "OVNpGCJ_vGuv",
        "colab_type": "code",
        "outputId": "31dee32c-2ee2-4d32-b485-c6049f327ade",
        "colab": {
          "base_uri": "https://localhost:8080/",
          "height": 313
        }
      },
      "source": [
        "sns.countplot(df['Good/bad'])\n",
        "plt.show()\n",
        "print(\"1-> Good\\n0-> Bad\")"
      ],
      "execution_count": 0,
      "outputs": [
        {
          "output_type": "display_data",
          "data": {
            "image/png": "[encoded data removed]",
            "text/plain": [
              "<Figure size 432x288 with 1 Axes>"
            ]
          },
          "metadata": {
            "tags": [],
            "needs_background": "light"
          }
        },
        {
          "output_type": "stream",
          "text": [
            "1-> Good\n",
            "0-> Bad\n"
          ],
          "name": "stdout"
        }
      ]
    },
    {
      "cell_type": "markdown",
      "metadata": {
        "id": "o4dUKpdnvvCT",
        "colab_type": "text"
      },
      "source": [
        "Rating above 3 is termed as good product otherwise bad product.\n",
        "\n",
        "We can see majority of the products are termed as good."
      ]
    },
    {
      "cell_type": "markdown",
      "metadata": {
        "id": "TliH3xIe2Cj7",
        "colab_type": "text"
      },
      "source": [
        "**All the good products are recommended ??**"
      ]
    },
    {
      "cell_type": "code",
      "metadata": {
        "id": "yml5fMsfyFHJ",
        "colab_type": "code",
        "outputId": "61a10423-18af-45a4-a155-bb28d7ea724c",
        "colab": {
          "base_uri": "https://localhost:8080/",
          "height": 312
        }
      },
      "source": [
        "li=[0,1]\n",
        "di={}\n",
        "for i in li:\n",
        "  a=df.loc[df['Good/bad'] == i ,'Recommended IND'].sum()\n",
        "  di[i]=a\n",
        "keys = list(di.keys())\n",
        "values = list(di.values())\n",
        "sns.barplot(keys,values)\n",
        "plt.ylabel('Reccomendation count')\n",
        "plt.xlabel('good/bad')\n",
        "plt.title('Reccomendation Count Vs good/bad')\n",
        "plt.show()\n",
        "di"
      ],
      "execution_count": 0,
      "outputs": [
        {
          "output_type": "display_data",
          "data": {
            "image/png": "[encoded data removed]",
            "text/plain": [
              "<Figure size 432x288 with 1 Axes>"
            ]
          },
          "metadata": {
            "tags": [],
            "needs_background": "light"
          }
        },
        {
          "output_type": "execute_result",
          "data": {
            "text/plain": [
              "{0: 110, 1: 19204}"
            ]
          },
          "metadata": {
            "tags": []
          },
          "execution_count": 34
        }
      ]
    },
    {
      "cell_type": "markdown",
      "metadata": {
        "id": "3dbvnYqpzF_R",
        "colab_type": "text"
      },
      "source": [
        "We can say that products which are good are recommended."
      ]
    },
    {
      "cell_type": "code",
      "metadata": {
        "id": "oZ7xAGj20UCW",
        "colab_type": "code",
        "outputId": "b966f66b-33eb-40c2-e2b9-e7d8ddab2eb4",
        "colab": {
          "base_uri": "https://localhost:8080/",
          "height": 473
        }
      },
      "source": [
        "f, axes = plt.subplots(1,2, figsize=[14,7])\n",
        "num = 30\n",
        "sns.countplot(y=\"Clothing ID\", data = df[df[\"Clothing ID\"].isin(df[\"Clothing ID\"].value_counts()[:num].index)],\n",
        "              order= df[\"Clothing ID\"].value_counts()[:num].index, ax=axes[0])\n",
        "axes[0].set_title(\"Frequency Count of Clothing ID\\nTop 30\")\n",
        "axes[0].set_xlabel(\"Count\")\n",
        "\n",
        "sns.countplot(y=\"Clothing ID\", data = df[df[\"Clothing ID\"].isin(df[\"Clothing ID\"].value_counts()[num:60].index)],\n",
        "              order= df[\"Clothing ID\"].value_counts()[num:60].index, ax=axes[1])\n",
        "axes[1].set_title(\"Frequency Count of Clothing ID\\nTop 30 to 60\")\n",
        "axes[1].set_ylabel(\"\")\n",
        "axes[1].set_xlabel(\"Count\")\n",
        "plt.show()"
      ],
      "execution_count": 0,
      "outputs": [
        {
          "output_type": "display_data",
          "data": {
            "image/png": "[encoded data removed]",
            "text/plain": [
              "<Figure size 1008x504 with 2 Axes>"
            ]
          },
          "metadata": {
            "tags": [],
            "needs_background": "light"
          }
        }
      ]
    },
    {
      "cell_type": "markdown",
      "metadata": {
        "id": "kjvTaYSO1hvx",
        "colab_type": "text"
      },
      "source": [
        "clothing Id 1078 is very popular among the customers"
      ]
    },
    {
      "cell_type": "markdown",
      "metadata": {
        "id": "Sr_QHeNsZufd",
        "colab_type": "text"
      },
      "source": [
        "# Cleaning text & making a vocabulary"
      ]
    },
    {
      "cell_type": "markdown",
      "metadata": {
        "id": "oUUfOIZbvm08",
        "colab_type": "text"
      },
      "source": [
        "**Cleaning text review**\n",
        "\n",
        "> clean_word() takes words and removes any special character(,/.*\\%$#@-!_) so that cleaned words can be retreived for training the model."
      ]
    },
    {
      "cell_type": "code",
      "metadata": {
        "id": "QXhYjC2uh16o",
        "colab_type": "code",
        "colab": {}
      },
      "source": [
        "#Function to clean token vector of symbols\n",
        "\n",
        "def clean_word(word_list):\n",
        "  new = []\n",
        "  for i, word in enumerate(word_list):\n",
        "    word = word.replace('.', '')\n",
        "    word = word.replace('-', '')\n",
        "    word = word.replace(',', '')\n",
        "    word = word.replace(';', '')\n",
        "    word=word.replace('!','')\n",
        "    word=word.replace('@','')\n",
        "    word=word.replace('$','')\n",
        "    word=word.replace('_','')\n",
        "    word=word.replace('%','')\n",
        "    word=word.replace('*','')\n",
        "    word=word.replace('?','')\n",
        "    word=word.replace('#','')\n",
        "    word=word.replace('\\r','')\n",
        "    word=word.replace('\\n','')\n",
        "    word=word.replace('\\t','')\n",
        "    word=word.replace('/','')\n",
        "\n",
        "    # all the words are made to lower case as letters can be capital at the start of a sentence,\n",
        "    # thus both the words would be considered different. To avoid this, converting all the words to lower case.\n",
        "    word = word.lower()\n",
        "    if word.isalpha() or word.isdigit():\n",
        "      new.append(word)\n",
        "    \n",
        "  return new"
      ],
      "execution_count": 0,
      "outputs": []
    },
    {
      "cell_type": "markdown",
      "metadata": {
        "id": "KUPXMbI0BDuV",
        "colab_type": "text"
      },
      "source": [
        "Tokenize each sentence , all the words are appended in a list of list.\n",
        "\n",
        "**Tokenize** :*break (text) into individual linguistic units.*"
      ]
    },
    {
      "cell_type": "code",
      "metadata": {
        "id": "DUCHBrYfwIBK",
        "colab_type": "code",
        "colab": {}
      },
      "source": [
        "text = final_df['Review Text'].values\n",
        "text_arr = [row.split(' ') for row in text]"
      ],
      "execution_count": 0,
      "outputs": []
    },
    {
      "cell_type": "markdown",
      "metadata": {
        "id": "YhOT8Ry-wIYq",
        "colab_type": "text"
      },
      "source": [
        "**Creating a vocabulary of words**"
      ]
    },
    {
      "cell_type": "markdown",
      "metadata": {
        "id": "PDEm3wAyAJLh",
        "colab_type": "text"
      },
      "source": [
        "![alt text](https://learnenglish.britishcouncil.org/sites/podcasts/files/styles/article/public/GettyImages-1166859687%20%281%29.jpg?itok=oOvbNb5j)\n",
        "\n",
        "Vocabulary contains all the unique words in the dataset."
      ]
    },
    {
      "cell_type": "code",
      "metadata": {
        "id": "GOAH831OwY9p",
        "colab_type": "code",
        "outputId": "bef91337-1220-47ca-8815-4f04ac1e4ef5",
        "colab": {
          "base_uri": "https://localhost:8080/",
          "height": 34
        }
      },
      "source": [
        "# clean every token word and create vocabulary out of it.\n",
        "vocab = []\n",
        "clean_text_array = []\n",
        "\n",
        "for row in text_arr:\n",
        "  clean_row = clean_word(row)\n",
        "  clean_text_array.append(clean_row)\n",
        "  vocab.extend(clean_row)\n",
        "\n",
        "# create a vocabulary - making sure each word appears only once\n",
        "vocabulary = list(set(clean_word(vocab)))\n",
        "\n",
        "len(vocabulary)"
      ],
      "execution_count": 0,
      "outputs": [
        {
          "output_type": "execute_result",
          "data": {
            "text/plain": [
              "11233"
            ]
          },
          "metadata": {
            "tags": []
          },
          "execution_count": 38
        }
      ]
    },
    {
      "cell_type": "markdown",
      "metadata": {
        "id": "a4UrfRko2wYS",
        "colab_type": "text"
      },
      "source": [
        "There are various features which can be taken as target to build our model.\n",
        "- **Recommended IND** : Predicting whether a product is recommended or not\n",
        "- **Good/bad** : Predicting whether the product is good or bad.\n",
        "- **class name** : Predicting the class name of the product from reviews.\n",
        "\n",
        "Recommended Ind and Good/bad features can lead an E-commerce platform for making profits, they can get an insight from the model what kind of product is popular and bring that more in stock to make huge profits.They can even randomly recommend the popular products to everyone as most of them will end up buying.\n",
        "\n",
        "Where as predicting class name from reviews is not that useful for an e-commerce website bur from ML perspective quite intresting.\n",
        "\n",
        ">Here I have divided project into 3 section.\n",
        "- Firstly we will try predicting class name from reviews\n",
        "- Second we will classify products into good/bad from reviews\n",
        "- Third we will predict whether the product will be recommended by the customer or not based upon the review,"
      ]
    },
    {
      "cell_type": "markdown",
      "metadata": {
        "id": "vrcppFjQi0iJ",
        "colab_type": "text"
      },
      "source": [
        "# Class Name\n",
        "## Model 1 Word Embedding using NN words are LabelEncoded\n",
        "\n",
        "## Target is Class name, targets are also LabelEncoded\n",
        "\n",
        "This model classifies product into garments based on the review\n",
        "\n",
        ">Word embeddings are a type of word representation that allows words with similar meaning to have a similar representation.\n",
        "\n",
        ">In this model words in the vocabulary are encoded using labelEncoder() which encodes each word in the vocabulary with a unique number.\n",
        "\n",
        "*Label Encoding refers to converting the labels into numeric form so as to convert it into the machine-readable form*.\n",
        "\n",
        ">Call the fit() function in order to learn a vocabulary from one or more documents. Call the transform() function on one or more documents as needed to encode each as a vector"
      ]
    },
    {
      "cell_type": "code",
      "metadata": {
        "id": "cM0RnwK9xMGN",
        "colab_type": "code",
        "outputId": "ad5fbe8a-c63b-4bc2-e88b-ad5c480bef57",
        "colab": {
          "base_uri": "https://localhost:8080/",
          "height": 34
        }
      },
      "source": [
        "vectorizer = LabelEncoder()\n",
        "vectorizer.fit(vocabulary)\n",
        "\n",
        "# Create token vector using Label Encoder fit on entire vocabulary\n",
        "token_vector = []\n",
        "\n",
        "# declare max_words to keep count of the longest sentence vectorized\n",
        "# we need this to pad every other vector to same length as longest vector\n",
        "max_words = 0 \n",
        "for row in clean_text_array:\n",
        "  encoded = vectorizer.transform(row).tolist()\n",
        "  size = len(encoded)\n",
        "  if size>max_words: max_words=size\n",
        "  token_vector.append(encoded)\n",
        "\n",
        "# looking at one of the lalbel_encoded words\n",
        "vectorizer.classes_[1000]"
      ],
      "execution_count": 0,
      "outputs": [
        {
          "output_type": "execute_result",
          "data": {
            "text/plain": [
              "'bellowy'"
            ]
          },
          "metadata": {
            "tags": []
          },
          "execution_count": 105
        }
      ]
    },
    {
      "cell_type": "markdown",
      "metadata": {
        "id": "4OSBkDz4clM7",
        "colab_type": "text"
      },
      "source": [
        "After encoding words are encoded with unique number as we can see here 'bellowy' is encoded as 1000"
      ]
    },
    {
      "cell_type": "markdown",
      "metadata": {
        "id": "IMBbp3igczQE",
        "colab_type": "text"
      },
      "source": [
        "Max words is the maximum number of words in a sentence."
      ]
    },
    {
      "cell_type": "code",
      "metadata": {
        "id": "eMDo-pwmcvXv",
        "colab_type": "code",
        "outputId": "53fb0487-8fe8-4e2c-bb93-8240c0e8f84e",
        "colab": {
          "base_uri": "https://localhost:8080/",
          "height": 34
        }
      },
      "source": [
        "max_words"
      ],
      "execution_count": 0,
      "outputs": [
        {
          "output_type": "execute_result",
          "data": {
            "text/plain": [
              "111"
            ]
          },
          "metadata": {
            "tags": []
          },
          "execution_count": 40
        }
      ]
    },
    {
      "cell_type": "markdown",
      "metadata": {
        "id": "tInwCpVPc928",
        "colab_type": "text"
      },
      "source": [
        "Sentences with words less than max_words are padded with 0s at the end to have same length vectors to work with."
      ]
    },
    {
      "cell_type": "code",
      "metadata": {
        "id": "lzARRW0WxZb1",
        "colab_type": "code",
        "colab": {}
      },
      "source": [
        "# Pad every vector in token vector corpus to be as long as longest vector\n",
        "padded = []\n",
        "for row in token_vector:\n",
        "  r = np.pad(row, (0, max_words-len(row)), 'constant')\n",
        "  padded.append(r)"
      ],
      "execution_count": 0,
      "outputs": []
    },
    {
      "cell_type": "code",
      "metadata": {
        "id": "FfhyKH47xbvt",
        "colab_type": "code",
        "outputId": "428327c8-634e-40f1-c011-fe1fd4c11b40",
        "colab": {
          "base_uri": "https://localhost:8080/",
          "height": 34
        }
      },
      "source": [
        "# Convert it into numpy array, we'll call this the examples vector\n",
        "# as it contains all the example to be trained on\n",
        "ex_vector = np.array(padded)\n",
        "ex_vector.shape"
      ],
      "execution_count": 0,
      "outputs": [
        {
          "output_type": "execute_result",
          "data": {
            "text/plain": [
              "(8113, 111)"
            ]
          },
          "metadata": {
            "tags": []
          },
          "execution_count": 107
        }
      ]
    },
    {
      "cell_type": "markdown",
      "metadata": {
        "id": "DWdZNexZjPal",
        "colab_type": "text"
      },
      "source": [
        "These are the various classes in feature Class Name."
      ]
    },
    {
      "cell_type": "code",
      "metadata": {
        "id": "Hx0Jtfhyl0aM",
        "colab_type": "code",
        "outputId": "e3802d9b-8c34-41b1-be12-f645cd932c07",
        "colab": {
          "base_uri": "https://localhost:8080/",
          "height": 68
        }
      },
      "source": [
        "print(final_df['Class Name'].unique())"
      ],
      "execution_count": 0,
      "outputs": [
        {
          "output_type": "stream",
          "text": [
            "['Dresses' 'Lounge' 'Sweaters' 'Intimates' 'Knits' 'Blouses' 'Swim'\n",
            " 'Fine gauge' 'Skirts' 'Pants' 'Jeans' 'Jackets' 'Sleep' 'Trend' 'Legwear'\n",
            " 'Outerwear' 'Shorts' 'Layering']\n"
          ],
          "name": "stdout"
        }
      ]
    },
    {
      "cell_type": "markdown",
      "metadata": {
        "id": "cwwAbd5Ojd6c",
        "colab_type": "text"
      },
      "source": [
        "For this model target is class Name which is catgorical."
      ]
    },
    {
      "cell_type": "code",
      "metadata": {
        "id": "fQoZHXnxiwUn",
        "colab_type": "code",
        "colab": {}
      },
      "source": [
        "target=final_df['Class Name'].values"
      ],
      "execution_count": 0,
      "outputs": []
    },
    {
      "cell_type": "markdown",
      "metadata": {
        "id": "8IRrhPD-jJTv",
        "colab_type": "text"
      },
      "source": [
        "As the target is categorical it must be converted into integers to fed into the model, therefore labelencoding target"
      ]
    },
    {
      "cell_type": "code",
      "metadata": {
        "id": "GsUKWfPu0Hj2",
        "colab_type": "code",
        "outputId": "e0e99564-f3f6-4d36-f032-673c51278d9e",
        "colab": {
          "base_uri": "https://localhost:8080/",
          "height": 34
        }
      },
      "source": [
        "le = LabelEncoder()\n",
        "target = le.fit_transform(final_df['Class Name'])\n",
        "target"
      ],
      "execution_count": 0,
      "outputs": [
        {
          "output_type": "execute_result",
          "data": {
            "text/plain": [
              "array([1, 1, 1, ..., 1, 6, 1])"
            ]
          },
          "metadata": {
            "tags": []
          },
          "execution_count": 46
        }
      ]
    },
    {
      "cell_type": "markdown",
      "metadata": {
        "id": "HAcfjH_5iPFC",
        "colab_type": "text"
      },
      "source": [
        "> split training data and target into test and train sets using train_test_split() from sklearn. This function takes 3 arguments training data, target and size. here size is 0.2 hence data will be splitted 80% for training and 20% for test."
      ]
    },
    {
      "cell_type": "code",
      "metadata": {
        "id": "7_9qnYn_lbu4",
        "colab_type": "code",
        "colab": {}
      },
      "source": [
        "# Split the data into test & train dataset\n",
        "xtrain, xtest, ytrain, ytest = train_test_split(ex_vector,target, test_size=0.2)"
      ],
      "execution_count": 0,
      "outputs": []
    },
    {
      "cell_type": "markdown",
      "metadata": {
        "id": "YlqygjfYiLvv",
        "colab_type": "text"
      },
      "source": [
        ">Create tensors out of numpy arrays xtrain,ytrain and xtest,ytest. \n",
        "\n",
        "**Tensors** are mathematical objects that generalize scalars, vectors and matrices to higher dimensions.\n",
        "\n",
        "Tensors must be created as word embedding layer in keras take tensors as input."
      ]
    },
    {
      "cell_type": "code",
      "metadata": {
        "id": "tPG41YalmImQ",
        "colab_type": "code",
        "colab": {}
      },
      "source": [
        "# Create a tensor out of numpy arrays\n",
        "train_dataset = tf.data.Dataset.from_tensor_slices((xtrain, ytrain))\n",
        "test_dataset = tf.data.Dataset.from_tensor_slices((xtest, ytest))"
      ],
      "execution_count": 0,
      "outputs": []
    },
    {
      "cell_type": "markdown",
      "metadata": {
        "id": "rbKKzoWgiBWk",
        "colab_type": "text"
      },
      "source": [
        "Batch size is a term used in machine learning and refers to the number of training examples utilized in one iteration. Model trains data in batches.Usually batch size is taken as 32,64,128...\n",
        "\n",
        "Batch shuffle size is size in which data is shuffled.It is used for shuffling of data which is alread done during train test split also."
      ]
    },
    {
      "cell_type": "code",
      "metadata": {
        "id": "d_sVfcN5mNcJ",
        "colab_type": "code",
        "colab": {}
      },
      "source": [
        "# shuffle the data and create batches out of it\n",
        "BATCH_SIZE = 64\n",
        "SHUFFLE_BUFFER_SIZE = 100\n",
        "\n",
        "train_dataset = train_dataset.shuffle(SHUFFLE_BUFFER_SIZE).batch(BATCH_SIZE)\n",
        "test_dataset = test_dataset.batch(BATCH_SIZE)"
      ],
      "execution_count": 0,
      "outputs": []
    },
    {
      "cell_type": "markdown",
      "metadata": {
        "id": "uk7Uowv1h3FD",
        "colab_type": "text"
      },
      "source": [
        "**Model**\n",
        ">The focus of the Keras library is a model.The simplest model is defined in the Sequential class which is a linear stack of Layers.\n",
        "\n",
        ">Keras offers an Embedding layer that can be used for neural networks on text data. It requires that the input data be integer encoded, so that each word is represented by a unique integer.\n",
        "- input_dim: This is the size of the vocabulary in the text data\n",
        "- embedding_dim : features around which the model will learn correlatin based on.\n",
        "\n",
        "\n",
        ">There are a large number of core Layer types for standard neural networks.\n",
        "Some common and useful layer types are:\n",
        "- Dense: Fully connected layer and the most common type of layer used on multi-layer perceptron models.\n",
        "- Dropout: Apply dropout to the model, setting a fraction of inputs to zero in an effort to reduce over fitting.\n",
        "- Merge: Combine the inputs from multiple models into a single model.\n",
        "\n",
        "\n",
        ">Keras supports a range of standard neuron activation function, such as: softmax, rectifier, tanh and sigmoid.\n",
        "\n",
        ">Input layer takes length of vocaulary.There is only 1 hidden layer.\n",
        "As there are 18 classes in target output layer hass 18 nodes."
      ]
    },
    {
      "cell_type": "code",
      "metadata": {
        "id": "IuHWahOGmPpI",
        "colab_type": "code",
        "colab": {}
      },
      "source": [
        "# Define the embedding dimensions\n",
        "embedding_dim=10\n",
        "\n",
        "# defining the sequential model with an Embedding layer\n",
        "# Add a Global Average Pooling 1D layer to flattent the matrix into vector\n",
        "model = keras.models.Sequential([\n",
        "  keras.layers.Embedding(11233, embedding_dim),\n",
        "  keras.layers.GlobalAveragePooling1D(),\n",
        "  keras.layers.Dense(36, activation='relu'),\n",
        "  keras.layers.Dense(18, activation='softmax')\n",
        "])"
      ],
      "execution_count": 0,
      "outputs": []
    },
    {
      "cell_type": "markdown",
      "metadata": {
        "id": "6nq-bsDroto8",
        "colab_type": "text"
      },
      "source": [
        "**Compiling Model**\n",
        ">Here we need to specify optimizer.\n",
        "\n",
        "Optimizers are algorithms or methods used to change the attributes of your neural network such as weights and learning rate in order to reduce the losses\n",
        "\n",
        "> Here we deifne the learning rate as well. here it is 0.001.\n",
        "\n",
        ">Loss: A scalar value that we attempt to minimize during our training of the model. The lower the loss, the closer our predictions are to the true labels. There are various ways for calculating losses. "
      ]
    },
    {
      "cell_type": "code",
      "metadata": {
        "id": "iE2C7hzKx_xp",
        "colab_type": "code",
        "colab": {}
      },
      "source": [
        "model.compile(optimizer=keras.optimizers.Adam(0.001),\n",
        "              loss=tf.keras.losses.sparse_categorical_crossentropy,\n",
        "              metrics=['accuracy'])"
      ],
      "execution_count": 0,
      "outputs": []
    },
    {
      "cell_type": "markdown",
      "metadata": {
        "id": "K6VKrFW9piHM",
        "colab_type": "text"
      },
      "source": [
        "**Training our Model**\n",
        "\n",
        ">An **epoch** is a measure of the number of times all of the training vectors are used once to update the weights. For batch training all of the training samples pass through the learning algorithm simultaneously in one epoch before weights are updated.\n",
        "\n",
        "Epochs cannot be less as then model would be undertrained whereas epochs should not be moe also then model will be overtrained.\n",
        "\n",
        "model.fit() trains the predefined model."
      ]
    },
    {
      "cell_type": "code",
      "metadata": {
        "id": "hFeXbqHxyAVj",
        "colab_type": "code",
        "outputId": "e0f38905-ec82-4a13-f15b-1ec04a547f09",
        "colab": {
          "base_uri": "https://localhost:8080/",
          "height": 697
        }
      },
      "source": [
        "# Train the model and benchmark against Test Data as it's validation data\n",
        "epochs=20\n",
        "history = model.fit(train_dataset, epochs=epochs, validation_data=test_dataset, verbose=2)"
      ],
      "execution_count": 0,
      "outputs": [
        {
          "output_type": "stream",
          "text": [
            "Epoch 1/20\n",
            "115/115 - 1s - loss: 2.6745 - accuracy: 0.2694 - val_loss: 2.2660 - val_accuracy: 0.2771\n",
            "Epoch 2/20\n",
            "115/115 - 0s - loss: 2.2327 - accuracy: 0.2806 - val_loss: 2.1813 - val_accuracy: 0.2771\n",
            "Epoch 3/20\n",
            "115/115 - 0s - loss: 2.2037 - accuracy: 0.2806 - val_loss: 2.1623 - val_accuracy: 0.2771\n",
            "Epoch 4/20\n",
            "115/115 - 0s - loss: 2.1836 - accuracy: 0.2806 - val_loss: 2.1414 - val_accuracy: 0.2771\n",
            "Epoch 5/20\n",
            "115/115 - 0s - loss: 2.1574 - accuracy: 0.2808 - val_loss: 2.1121 - val_accuracy: 0.2771\n",
            "Epoch 6/20\n",
            "115/115 - 0s - loss: 2.1139 - accuracy: 0.2905 - val_loss: 2.0550 - val_accuracy: 0.2993\n",
            "Epoch 7/20\n",
            "115/115 - 0s - loss: 2.0369 - accuracy: 0.3280 - val_loss: 1.9712 - val_accuracy: 0.3448\n",
            "Epoch 8/20\n",
            "115/115 - 0s - loss: 1.9362 - accuracy: 0.3721 - val_loss: 1.8823 - val_accuracy: 0.3879\n",
            "Epoch 9/20\n",
            "115/115 - 0s - loss: 1.8396 - accuracy: 0.4124 - val_loss: 1.8059 - val_accuracy: 0.4273\n",
            "Epoch 10/20\n",
            "115/115 - 0s - loss: 1.7543 - accuracy: 0.4423 - val_loss: 1.7394 - val_accuracy: 0.4433\n",
            "Epoch 11/20\n",
            "115/115 - 0s - loss: 1.6779 - accuracy: 0.4677 - val_loss: 1.6803 - val_accuracy: 0.4520\n",
            "Epoch 12/20\n",
            "115/115 - 0s - loss: 1.6073 - accuracy: 0.4842 - val_loss: 1.6254 - val_accuracy: 0.4606\n",
            "Epoch 13/20\n",
            "115/115 - 0s - loss: 1.5410 - accuracy: 0.4982 - val_loss: 1.5766 - val_accuracy: 0.4766\n",
            "Epoch 14/20\n",
            "115/115 - 0s - loss: 1.4806 - accuracy: 0.5149 - val_loss: 1.5356 - val_accuracy: 0.4877\n",
            "Epoch 15/20\n",
            "115/115 - 0s - loss: 1.4280 - accuracy: 0.5306 - val_loss: 1.5033 - val_accuracy: 0.4938\n",
            "Epoch 16/20\n",
            "115/115 - 0s - loss: 1.3843 - accuracy: 0.5390 - val_loss: 1.4782 - val_accuracy: 0.4963\n",
            "Epoch 17/20\n",
            "115/115 - 0s - loss: 1.3471 - accuracy: 0.5469 - val_loss: 1.4582 - val_accuracy: 0.4951\n",
            "Epoch 18/20\n",
            "115/115 - 0s - loss: 1.3145 - accuracy: 0.5531 - val_loss: 1.4452 - val_accuracy: 0.5012\n",
            "Epoch 19/20\n",
            "115/115 - 0s - loss: 1.2867 - accuracy: 0.5607 - val_loss: 1.4331 - val_accuracy: 0.5111\n",
            "Epoch 20/20\n",
            "115/115 - 0s - loss: 1.2611 - accuracy: 0.5695 - val_loss: 1.4244 - val_accuracy: 0.5197\n"
          ],
          "name": "stdout"
        }
      ]
    },
    {
      "cell_type": "markdown",
      "metadata": {
        "id": "4_eHbAlcquIV",
        "colab_type": "text"
      },
      "source": [
        "Accuracy : 56%\n",
        "validation accuracy: 51%\n",
        "\n",
        "As we can see the model could not predict classes well because reviews have very less referrence to class name. This is because Class Name feature is largely biased towards some classes due to which model would be baised towards them."
      ]
    },
    {
      "cell_type": "markdown",
      "metadata": {
        "id": "uoW1hL9JrMrU",
        "colab_type": "text"
      },
      "source": [
        "**Accuracy Curve**\n",
        ">This graph shows how accuracy changed during the training period. We can say that training was pretty good as both accuracy and validation accuracy curves are close by all the time but accuracy could not reach higher values.\n",
        "Training more would over train the model as at the end both the curves are starting to diverge."
      ]
    },
    {
      "cell_type": "code",
      "metadata": {
        "id": "6hJP6uf3yCh9",
        "colab_type": "code",
        "outputId": "362d4c06-51ce-42ea-8cec-816bb0d2d2c0",
        "colab": {
          "base_uri": "https://localhost:8080/",
          "height": 282
        }
      },
      "source": [
        "# Plot Accuracy\n",
        "plt.plot(range(epochs), history.history['accuracy'])\n",
        "plt.plot(range(epochs), history.history['val_accuracy'])"
      ],
      "execution_count": 0,
      "outputs": [
        {
          "output_type": "execute_result",
          "data": {
            "text/plain": [
              "[<matplotlib.lines.Line2D at 0x7f4922d96198>]"
            ]
          },
          "metadata": {
            "tags": []
          },
          "execution_count": 56
        },
        {
          "output_type": "display_data",
          "data": {
            "image/png": "[encoded data removed]",
            "text/plain": [
              "<Figure size 432x288 with 1 Axes>"
            ]
          },
          "metadata": {
            "tags": [],
            "needs_background": "light"
          }
        }
      ]
    },
    {
      "cell_type": "markdown",
      "metadata": {
        "id": "2nI4r7GJr8jr",
        "colab_type": "text"
      },
      "source": [
        "**Loss Curve**\n",
        ">Loss curves tells us that how losses reduce during the training period. As both the loss curves are nearby we could say the trianing went well but losses could not reduce further. Lesser the losses better is the accuracy."
      ]
    },
    {
      "cell_type": "code",
      "metadata": {
        "id": "gUP27jWO1GL7",
        "colab_type": "code",
        "outputId": "0642bfd9-85be-49ba-be91-ad96a32e1765",
        "colab": {
          "base_uri": "https://localhost:8080/",
          "height": 282
        }
      },
      "source": [
        "# Plot Loss\n",
        "plt.plot(range(epochs), history.history['loss'])\n",
        "plt.plot(range(epochs), history.history['val_loss'])"
      ],
      "execution_count": 0,
      "outputs": [
        {
          "output_type": "execute_result",
          "data": {
            "text/plain": [
              "[<matplotlib.lines.Line2D at 0x7f4927d63e48>]"
            ]
          },
          "metadata": {
            "tags": []
          },
          "execution_count": 57
        },
        {
          "output_type": "display_data",
          "data": {
            "image/png": "[encoded data removed]",
            "text/plain": [
              "<Figure size 432x288 with 1 Axes>"
            ]
          },
          "metadata": {
            "tags": [],
            "needs_background": "light"
          }
        }
      ]
    },
    {
      "cell_type": "markdown",
      "metadata": {
        "id": "ibQ0Ey3QF5C3",
        "colab_type": "text"
      },
      "source": [
        "# Good / bad\n",
        "## Model 2 : Word Embedding using NN, words are LabelEncoded\n",
        "\n",
        "## Target is Good/bad"
      ]
    },
    {
      "cell_type": "markdown",
      "metadata": {
        "id": "u-tyGmo30Zgk",
        "colab_type": "text"
      },
      "source": [
        "As we have done label encoding on the vocabulary once, we will use example"
      ]
    },
    {
      "cell_type": "code",
      "metadata": {
        "id": "kWF7q9IvGAmi",
        "colab_type": "code",
        "colab": {}
      },
      "source": [
        "target=final_df['Good/bad'].values"
      ],
      "execution_count": 0,
      "outputs": []
    },
    {
      "cell_type": "markdown",
      "metadata": {
        "id": "kynGhf22I8vT",
        "colab_type": "text"
      },
      "source": [
        "> Splitting into test and train sets"
      ]
    },
    {
      "cell_type": "code",
      "metadata": {
        "id": "09-GvKp5GD8c",
        "colab_type": "code",
        "colab": {}
      },
      "source": [
        "xtrain, xtest, ytrain, ytest = train_test_split(ex_vector,target, test_size=0.1)"
      ],
      "execution_count": 0,
      "outputs": []
    },
    {
      "cell_type": "markdown",
      "metadata": {
        "id": "gvazxXrdJAo_",
        "colab_type": "text"
      },
      "source": [
        "> Creating tensors out of train and test arrays\n",
        "\n",
        "\n"
      ]
    },
    {
      "cell_type": "code",
      "metadata": {
        "id": "l0bAGYcWJ-Mt",
        "colab_type": "code",
        "colab": {}
      },
      "source": [
        "# Create a tensor out of numpy arrays\n",
        "train_dataset = tf.data.Dataset.from_tensor_slices((xtrain, ytrain))\n",
        "test_dataset = tf.data.Dataset.from_tensor_slices((xtest, ytest))"
      ],
      "execution_count": 0,
      "outputs": []
    },
    {
      "cell_type": "markdown",
      "metadata": {
        "id": "IQq_ra_8JMdR",
        "colab_type": "text"
      },
      "source": [
        "> Making batches to train model"
      ]
    },
    {
      "cell_type": "code",
      "metadata": {
        "id": "ru6FOedLKCDA",
        "colab_type": "code",
        "colab": {}
      },
      "source": [
        "# shuffle the data and create batches out of it\n",
        "BATCH_SIZE = 64\n",
        "SHUFFLE_BUFFER_SIZE = 100\n",
        "\n",
        "train_dataset = train_dataset.shuffle(SHUFFLE_BUFFER_SIZE).batch(BATCH_SIZE)\n",
        "test_dataset = test_dataset.batch(BATCH_SIZE)"
      ],
      "execution_count": 0,
      "outputs": []
    },
    {
      "cell_type": "markdown",
      "metadata": {
        "id": "cNO5DT3-JSXB",
        "colab_type": "text"
      },
      "source": [
        "> Model"
      ]
    },
    {
      "cell_type": "code",
      "metadata": {
        "id": "0iAqANsAKJ5y",
        "colab_type": "code",
        "colab": {}
      },
      "source": [
        "# Define the embedding dimensions // features around which the model will learn\n",
        "# correlatin based on.\n",
        "embedding_dim=5\n",
        "\n",
        "# defining the sequential model with an Embedding layer\n",
        "# Add a Global Average Pooling 1D layer to flattent the matrix into vector\n",
        "model = keras.models.Sequential([\n",
        "  keras.layers.Embedding(11233, embedding_dim),\n",
        "  keras.layers.GlobalAveragePooling1D(),\n",
        "  keras.layers.Dense(20, activation='relu'),\n",
        "  keras.layers.Dense(1, activation='sigmoid')\n",
        "])"
      ],
      "execution_count": 0,
      "outputs": []
    },
    {
      "cell_type": "markdown",
      "metadata": {
        "id": "KkqwzeciJUxr",
        "colab_type": "text"
      },
      "source": [
        "> Compiling Model"
      ]
    },
    {
      "cell_type": "code",
      "metadata": {
        "id": "0JZd2NcFKLzk",
        "colab_type": "code",
        "colab": {}
      },
      "source": [
        "model.compile(optimizer=keras.optimizers.Adam(0.001),\n",
        "              loss=tf.keras.losses.BinaryCrossentropy(),\n",
        "              metrics=['accuracy'])"
      ],
      "execution_count": 0,
      "outputs": []
    },
    {
      "cell_type": "markdown",
      "metadata": {
        "id": "GK3QNjj1JZg6",
        "colab_type": "text"
      },
      "source": [
        "> Training "
      ]
    },
    {
      "cell_type": "code",
      "metadata": {
        "id": "etMn6M-RKVzF",
        "colab_type": "code",
        "outputId": "e453c57c-0cd2-4481-9aef-e1647a0e5cb1",
        "colab": {
          "base_uri": "https://localhost:8080/",
          "height": 357
        }
      },
      "source": [
        "# Train the model and benchmark against Test Data as it's validation data\n",
        "epochs=10\n",
        "history = model.fit(train_dataset, epochs=epochs, validation_data=test_dataset, verbose=2)"
      ],
      "execution_count": 0,
      "outputs": [
        {
          "output_type": "stream",
          "text": [
            "Epoch 1/10\n",
            "115/115 - 0s - loss: 0.6328 - accuracy: 0.7178 - val_loss: 0.5826 - val_accuracy: 0.7303\n",
            "Epoch 2/10\n",
            "115/115 - 0s - loss: 0.5884 - accuracy: 0.7178 - val_loss: 0.5737 - val_accuracy: 0.7303\n",
            "Epoch 3/10\n",
            "115/115 - 0s - loss: 0.5791 - accuracy: 0.7178 - val_loss: 0.5633 - val_accuracy: 0.7303\n",
            "Epoch 4/10\n",
            "115/115 - 0s - loss: 0.5624 - accuracy: 0.7178 - val_loss: 0.5437 - val_accuracy: 0.7303\n",
            "Epoch 5/10\n",
            "115/115 - 0s - loss: 0.5286 - accuracy: 0.7192 - val_loss: 0.5025 - val_accuracy: 0.7340\n",
            "Epoch 6/10\n",
            "115/115 - 0s - loss: 0.4671 - accuracy: 0.7509 - val_loss: 0.4543 - val_accuracy: 0.7722\n",
            "Epoch 7/10\n",
            "115/115 - 0s - loss: 0.4139 - accuracy: 0.7936 - val_loss: 0.4279 - val_accuracy: 0.7796\n",
            "Epoch 8/10\n",
            "115/115 - 0s - loss: 0.3789 - accuracy: 0.8188 - val_loss: 0.4166 - val_accuracy: 0.7943\n",
            "Epoch 9/10\n",
            "115/115 - 0s - loss: 0.3542 - accuracy: 0.8341 - val_loss: 0.4122 - val_accuracy: 0.7931\n",
            "Epoch 10/10\n",
            "115/115 - 0s - loss: 0.3344 - accuracy: 0.8488 - val_loss: 0.4116 - val_accuracy: 0.7906\n"
          ],
          "name": "stdout"
        }
      ]
    },
    {
      "cell_type": "markdown",
      "metadata": {
        "id": "YZhQmJyGJsCO",
        "colab_type": "text"
      },
      "source": [
        "Accuracy  : 84%\n",
        "validation Accuracy : 79%\n",
        "\n",
        "Here we can see that we get a better acuuracy compared to the Class name model.\n",
        "Even though the good/bad feature was baised as we saw in visualisation we get better accuracy because words used in reviews correspond to good / bad product very well."
      ]
    },
    {
      "cell_type": "markdown",
      "metadata": {
        "id": "R8xr65t0JdWK",
        "colab_type": "text"
      },
      "source": [
        "> Plotting Accuracy curve\n",
        "\n"
      ]
    },
    {
      "cell_type": "code",
      "metadata": {
        "id": "tEM_DAWAKa7K",
        "colab_type": "code",
        "outputId": "0f2f0c82-8392-4885-d7be-c0c96a335af9",
        "colab": {
          "base_uri": "https://localhost:8080/",
          "height": 282
        }
      },
      "source": [
        "plt.plot(range(epochs), history.history['accuracy'])\n",
        "plt.plot(range(epochs), history.history['val_accuracy'])"
      ],
      "execution_count": 0,
      "outputs": [
        {
          "output_type": "execute_result",
          "data": {
            "text/plain": [
              "[<matplotlib.lines.Line2D at 0x7f4922a00978>]"
            ]
          },
          "metadata": {
            "tags": []
          },
          "execution_count": 181
        },
        {
          "output_type": "display_data",
          "data": {
            "image/png": "[encoded data removed]",
            "text/plain": [
              "<Figure size 432x288 with 1 Axes>"
            ]
          },
          "metadata": {
            "tags": [],
            "needs_background": "light"
          }
        }
      ]
    },
    {
      "cell_type": "markdown",
      "metadata": {
        "id": "-HHXq_xvJmiz",
        "colab_type": "text"
      },
      "source": [
        "> Plotting Loss curve"
      ]
    },
    {
      "cell_type": "code",
      "metadata": {
        "id": "9Y-4Jt_MK_UR",
        "colab_type": "code",
        "outputId": "56397a1f-50ac-4457-8e68-45dc6f87a295",
        "colab": {
          "base_uri": "https://localhost:8080/",
          "height": 282
        }
      },
      "source": [
        "# Plot Loss\n",
        "plt.plot(range(epochs), history.history['loss'])\n",
        "plt.plot(range(epochs), history.history['val_loss'])"
      ],
      "execution_count": 0,
      "outputs": [
        {
          "output_type": "execute_result",
          "data": {
            "text/plain": [
              "[<matplotlib.lines.Line2D at 0x7f4922a36c50>]"
            ]
          },
          "metadata": {
            "tags": []
          },
          "execution_count": 182
        },
        {
          "output_type": "display_data",
          "data": {
            "image/png": "[encoded data removed]",
            "text/plain": [
              "<Figure size 432x288 with 1 Axes>"
            ]
          },
          "metadata": {
            "tags": [],
            "needs_background": "light"
          }
        }
      ]
    },
    {
      "cell_type": "markdown",
      "metadata": {
        "id": "506qUsh0JqxP",
        "colab_type": "text"
      },
      "source": [
        ""
      ]
    },
    {
      "cell_type": "markdown",
      "metadata": {
        "id": "PYCPL5GGfvM1",
        "colab_type": "text"
      },
      "source": [
        "# Recommended IND\n",
        "\n",
        ">In this section we will be building models that predict whether a product will be recommended by the customer or not based upon the review given by the customer."
      ]
    },
    {
      "cell_type": "markdown",
      "metadata": {
        "id": "l5xsaZcvggXP",
        "colab_type": "text"
      },
      "source": [
        "## Model 3: NN with TFIDF vectorizer\n",
        "\n",
        "\n",
        ">  TFIDF, short for term frequency–inverse document frequency, is a numerical statistic that is intended to reflect how important a word is to a document in a collection or corpus.\n",
        "\n"
      ]
    },
    {
      "cell_type": "code",
      "metadata": {
        "id": "G_kZfZxULCee",
        "colab_type": "code",
        "outputId": "52bb505a-a157-4f43-d3c0-8ea5f108ef43",
        "colab": {
          "base_uri": "https://localhost:8080/",
          "height": 34
        }
      },
      "source": [
        "vectoriz = TfidfVectorizer()\n",
        "tfidf_vec = vectoriz.fit_transform(final_df['Review Text'].values)\n",
        "print(tfidf_vec.toarray()[0])"
      ],
      "execution_count": 184,
      "outputs": [
        {
          "output_type": "stream",
          "text": [
            "[0. 0. 0. ... 0. 0. 0.]\n"
          ],
          "name": "stdout"
        }
      ]
    },
    {
      "cell_type": "markdown",
      "metadata": {
        "id": "olrhX2SeNwXm",
        "colab_type": "text"
      },
      "source": [
        "> Singular value decomposition (SVD) provides another way to factorize a matrix, into singular vectors and singular values\n",
        "\n",
        ">Truncated Singular Value Decomposition (SVD) is a matrix factorization technique that factors a matrix M into the three matrices U, Σ, and V. This is very similar to PCA, excepting that the factorization for SVD is done on the data matrix, whereas for PCA, the factorization is done on the covariance matrix."
      ]
    },
    {
      "cell_type": "code",
      "metadata": {
        "id": "uPqN1tlthB_D",
        "colab_type": "code",
        "outputId": "27c1ff6e-a5e6-4c2a-de51-1ecf19fe0b49",
        "colab": {
          "base_uri": "https://localhost:8080/",
          "height": 238
        }
      },
      "source": [
        "tsvd = TruncatedSVD(n_components=100)\n",
        "tsvd.fit(tfidf_vec)\n",
        "scaled = tsvd.transform(tfidf_vec)\n",
        "print(scaled)"
      ],
      "execution_count": 185,
      "outputs": [
        {
          "output_type": "stream",
          "text": [
            "[[ 3.22136194e-01 -4.41275749e-02 -6.19215238e-02 ... -3.00859906e-03\n",
            "  -5.76543285e-03 -3.89816790e-02]\n",
            " [ 4.26110973e-01 -4.17914276e-02 -4.08250825e-02 ... -4.26526809e-02\n",
            "   5.75513314e-03  4.07022984e-03]\n",
            " [ 3.89274455e-01 -1.23650608e-01 -2.87770720e-02 ...  1.85202517e-02\n",
            "   3.64450398e-02 -1.66626538e-02]\n",
            " ...\n",
            " [ 3.08248944e-01  8.70406571e-04 -3.94909747e-02 ... -6.20104577e-03\n",
            "   1.77114396e-02  1.59560346e-02]\n",
            " [ 1.58785469e-01  7.15607990e-02  1.28226394e-01 ... -2.26611743e-02\n",
            "   3.15472683e-04  4.35531155e-03]\n",
            " [ 2.94616574e-01  3.50954317e-02 -7.99175209e-02 ...  6.00733019e-03\n",
            "  -3.05665371e-02  6.28611270e-02]]\n"
          ],
          "name": "stdout"
        }
      ]
    },
    {
      "cell_type": "markdown",
      "metadata": {
        "id": "aVqe0rfNN9F0",
        "colab_type": "text"
      },
      "source": [
        "> Target is Recommended Ind"
      ]
    },
    {
      "cell_type": "code",
      "metadata": {
        "id": "NaSThZ1bhVPc",
        "colab_type": "code",
        "colab": {}
      },
      "source": [
        "target=final_df['Recommended IND'].values"
      ],
      "execution_count": 0,
      "outputs": []
    },
    {
      "cell_type": "markdown",
      "metadata": {
        "id": "m-PqVkDEODp0",
        "colab_type": "text"
      },
      "source": [
        "> Model"
      ]
    },
    {
      "cell_type": "code",
      "metadata": {
        "id": "A7vpFy8-hGa2",
        "colab_type": "code",
        "colab": {}
      },
      "source": [
        "model = keras.models.Sequential([\n",
        "        keras.layers.Dense(60, input_shape=[100,], activation='relu'),\n",
        "        keras.layers.Dense(20, activation='relu'),\n",
        "        keras.layers.Dense(1, activation='sigmoid')\n",
        "]) "
      ],
      "execution_count": 0,
      "outputs": []
    },
    {
      "cell_type": "markdown",
      "metadata": {
        "id": "704PS9CQOHGE",
        "colab_type": "text"
      },
      "source": [
        "Compiling Model\n",
        "\n",
        "> here loss function is Binay cross Entropy as target is binary i.e(0 or 1)"
      ]
    },
    {
      "cell_type": "code",
      "metadata": {
        "id": "r0gT0MathQ3h",
        "colab_type": "code",
        "colab": {}
      },
      "source": [
        "model.compile(optimizer=keras.optimizers.Adam(0.001),\n",
        "              loss=keras.losses.BinaryCrossentropy(),\n",
        "              metrics=['accuracy'])"
      ],
      "execution_count": 0,
      "outputs": []
    },
    {
      "cell_type": "markdown",
      "metadata": {
        "id": "joxEZ41POXpm",
        "colab_type": "text"
      },
      "source": [
        "> Training"
      ]
    },
    {
      "cell_type": "code",
      "metadata": {
        "id": "k0sARs4ChTUw",
        "colab_type": "code",
        "outputId": "9b1c606a-98a1-457b-de4e-2c1b625b82ce",
        "colab": {
          "base_uri": "https://localhost:8080/",
          "height": 357
        }
      },
      "source": [
        "history= model.fit(scaled, target, epochs=10, verbose=1, validation_split=0.3)"
      ],
      "execution_count": 194,
      "outputs": [
        {
          "output_type": "stream",
          "text": [
            "Epoch 1/10\n",
            "178/178 [==============================] - 0s 2ms/step - loss: 0.5771 - accuracy: 0.7202 - val_loss: 1.0678 - val_accuracy: 0.0904\n",
            "Epoch 2/10\n",
            "178/178 [==============================] - 0s 2ms/step - loss: 0.3592 - accuracy: 0.8554 - val_loss: 0.6929 - val_accuracy: 0.6750\n",
            "Epoch 3/10\n",
            "178/178 [==============================] - 0s 2ms/step - loss: 0.3073 - accuracy: 0.8783 - val_loss: 0.6845 - val_accuracy: 0.6861\n",
            "Epoch 4/10\n",
            "178/178 [==============================] - 0s 2ms/step - loss: 0.2987 - accuracy: 0.8820 - val_loss: 0.6563 - val_accuracy: 0.7038\n",
            "Epoch 5/10\n",
            "178/178 [==============================] - 0s 2ms/step - loss: 0.2948 - accuracy: 0.8854 - val_loss: 0.7764 - val_accuracy: 0.6561\n",
            "Epoch 6/10\n",
            "178/178 [==============================] - 0s 2ms/step - loss: 0.2924 - accuracy: 0.8866 - val_loss: 0.6170 - val_accuracy: 0.7260\n",
            "Epoch 7/10\n",
            "178/178 [==============================] - 0s 2ms/step - loss: 0.2899 - accuracy: 0.8862 - val_loss: 0.7555 - val_accuracy: 0.6602\n",
            "Epoch 8/10\n",
            "178/178 [==============================] - 0s 2ms/step - loss: 0.2847 - accuracy: 0.8871 - val_loss: 0.5421 - val_accuracy: 0.7638\n",
            "Epoch 9/10\n",
            "178/178 [==============================] - 0s 2ms/step - loss: 0.2811 - accuracy: 0.8912 - val_loss: 0.6939 - val_accuracy: 0.6952\n",
            "Epoch 10/10\n",
            "178/178 [==============================] - 0s 2ms/step - loss: 0.2759 - accuracy: 0.8922 - val_loss: 0.5612 - val_accuracy: 0.7560\n"
          ],
          "name": "stdout"
        }
      ]
    },
    {
      "cell_type": "markdown",
      "metadata": {
        "id": "As6X1vAnOvRR",
        "colab_type": "text"
      },
      "source": [
        "Accuracy : 89%\n",
        "validation Accuracy : 75%\n",
        "\n"
      ]
    },
    {
      "cell_type": "markdown",
      "metadata": {
        "id": "j5qi97b_PEb9",
        "colab_type": "text"
      },
      "source": [
        "> Accuracy Plot"
      ]
    },
    {
      "cell_type": "code",
      "metadata": {
        "id": "J3n_488VhfoE",
        "colab_type": "code",
        "colab": {
          "base_uri": "https://localhost:8080/",
          "height": 282
        },
        "outputId": "25542cac-6c20-4146-9fbe-1f67c795c26a"
      },
      "source": [
        "plt.plot(range(epochs), history.history['accuracy'])\n",
        "plt.plot(range(epochs), history.history['val_accuracy'])"
      ],
      "execution_count": 190,
      "outputs": [
        {
          "output_type": "execute_result",
          "data": {
            "text/plain": [
              "[<matplotlib.lines.Line2D at 0x7f49229926d8>]"
            ]
          },
          "metadata": {
            "tags": []
          },
          "execution_count": 190
        },
        {
          "output_type": "display_data",
          "data": {
            "image/png": "[encoded data removed]",
            "text/plain": [
              "<Figure size 432x288 with 1 Axes>"
            ]
          },
          "metadata": {
            "tags": [],
            "needs_background": "light"
          }
        }
      ]
    },
    {
      "cell_type": "markdown",
      "metadata": {
        "id": "TuOUMbDgPG7Q",
        "colab_type": "text"
      },
      "source": [
        "> loss plot"
      ]
    },
    {
      "cell_type": "code",
      "metadata": {
        "id": "L-7LIBTuOtD-",
        "colab_type": "code",
        "colab": {
          "base_uri": "https://localhost:8080/",
          "height": 282
        },
        "outputId": "f5f420ea-23c8-4664-cd38-2a230294a001"
      },
      "source": [
        "# Plot Loss\n",
        "plt.plot(range(epochs), history.history['loss'])\n",
        "plt.plot(range(epochs), history.history['val_loss'])"
      ],
      "execution_count": 191,
      "outputs": [
        {
          "output_type": "execute_result",
          "data": {
            "text/plain": [
              "[<matplotlib.lines.Line2D at 0x7f4922bb4550>]"
            ]
          },
          "metadata": {
            "tags": []
          },
          "execution_count": 191
        },
        {
          "output_type": "display_data",
          "data": {
            "image/png": "[encoded data removed]",
            "text/plain": [
              "<Figure size 432x288 with 1 Axes>"
            ]
          },
          "metadata": {
            "tags": [],
            "needs_background": "light"
          }
        }
      ]
    },
    {
      "cell_type": "markdown",
      "metadata": {
        "id": "3_5WmWijgokj",
        "colab_type": "text"
      },
      "source": [
        "## Model 4: NN using Count Vectorizer \n",
        "\n",
        "The CountVectorizer provides a simple way to both tokenize a collection of text documents and build a vocabulary of known words, but also to encode new documents using that vocabulary"
      ]
    },
    {
      "cell_type": "code",
      "metadata": {
        "id": "2aNRntwT9YA2",
        "colab_type": "code",
        "colab": {}
      },
      "source": [
        "vec=CountVectorizer()"
      ],
      "execution_count": 0,
      "outputs": []
    },
    {
      "cell_type": "markdown",
      "metadata": {
        "id": "mGQBM_dsPWqT",
        "colab_type": "text"
      },
      "source": [
        "Fit and transform vocabulary "
      ]
    },
    {
      "cell_type": "code",
      "metadata": {
        "id": "4vHv6F2L9jhu",
        "colab_type": "code",
        "colab": {}
      },
      "source": [
        "vec.fit(final_df[\"Review Text\"].values)\n",
        "count_vect=vec.transform(final_df[\"Review Text\"].values)"
      ],
      "execution_count": 0,
      "outputs": []
    },
    {
      "cell_type": "code",
      "metadata": {
        "id": "Fe-LEFZ0-H2P",
        "colab_type": "code",
        "colab": {}
      },
      "source": [
        "voca=vec.vocabulary_"
      ],
      "execution_count": 0,
      "outputs": []
    },
    {
      "cell_type": "code",
      "metadata": {
        "id": "HhscKRQ6-OMA",
        "colab_type": "code",
        "outputId": "d37275d5-e3c1-47e9-e2fc-f4b14241680f",
        "colab": {
          "base_uri": "https://localhost:8080/",
          "height": 34
        }
      },
      "source": [
        "len(voca)"
      ],
      "execution_count": 220,
      "outputs": [
        {
          "output_type": "execute_result",
          "data": {
            "text/plain": [
              "9269"
            ]
          },
          "metadata": {
            "tags": []
          },
          "execution_count": 220
        }
      ]
    },
    {
      "cell_type": "code",
      "metadata": {
        "id": "8_mSG9HD-UiL",
        "colab_type": "code",
        "outputId": "2b215a43-19b3-4f5f-bb0e-287d51590df1",
        "colab": {
          "base_uri": "https://localhost:8080/",
          "height": 34
        }
      },
      "source": [
        "count_vect.shape"
      ],
      "execution_count": 221,
      "outputs": [
        {
          "output_type": "execute_result",
          "data": {
            "text/plain": [
              "(8113, 9269)"
            ]
          },
          "metadata": {
            "tags": []
          },
          "execution_count": 221
        }
      ]
    },
    {
      "cell_type": "code",
      "metadata": {
        "id": "CHSMczyV-XVW",
        "colab_type": "code",
        "colab": {}
      },
      "source": [
        "count_arr=count_vect.toarray()"
      ],
      "execution_count": 0,
      "outputs": []
    },
    {
      "cell_type": "code",
      "metadata": {
        "id": "1m1kRpy4-1x_",
        "colab_type": "code",
        "colab": {}
      },
      "source": [
        "tsvd = TruncatedSVD(n_components=50)\n",
        "tsvd.fit(count_arr)\n",
        "scaled = tsvd.transform(count_arr)"
      ],
      "execution_count": 0,
      "outputs": []
    },
    {
      "cell_type": "code",
      "metadata": {
        "id": "NnKDwYj6JHj1",
        "colab_type": "code",
        "outputId": "9734fa9e-9c80-4bd8-bc4a-7c57718c8a62",
        "colab": {
          "base_uri": "https://localhost:8080/",
          "height": 34
        }
      },
      "source": [
        "scaled.shape"
      ],
      "execution_count": 224,
      "outputs": [
        {
          "output_type": "execute_result",
          "data": {
            "text/plain": [
              "(8113, 50)"
            ]
          },
          "metadata": {
            "tags": []
          },
          "execution_count": 224
        }
      ]
    },
    {
      "cell_type": "code",
      "metadata": {
        "id": "u-HJDNHgO44W",
        "colab_type": "code",
        "colab": {
          "base_uri": "https://localhost:8080/",
          "height": 34
        },
        "outputId": "9bbeff91-d770-44ee-f3af-69a40adbc621"
      },
      "source": [
        "target=final_df['Recommended IND'].values\n",
        "target.shape"
      ],
      "execution_count": 225,
      "outputs": [
        {
          "output_type": "execute_result",
          "data": {
            "text/plain": [
              "(8113,)"
            ]
          },
          "metadata": {
            "tags": []
          },
          "execution_count": 225
        }
      ]
    },
    {
      "cell_type": "code",
      "metadata": {
        "id": "0w-BGMh8J5Jg",
        "colab_type": "code",
        "colab": {}
      },
      "source": [
        "model = keras.models.Sequential([\n",
        "        keras.layers.Dense(15, input_shape=[50,], activation='relu'),\n",
        "        keras.layers.Dense(10, activation='relu'),\n",
        "        keras.layers.Dense(2, activation='softmax')\n",
        "]) "
      ],
      "execution_count": 0,
      "outputs": []
    },
    {
      "cell_type": "code",
      "metadata": {
        "id": "WNPDpVpGOTIB",
        "colab_type": "code",
        "colab": {}
      },
      "source": [
        "model.compile(optimizer=keras.optimizers.Adam(0.001),\n",
        "              loss=keras.losses.sparse_categorical_crossentropy,\n",
        "              metrics=['accuracy'])"
      ],
      "execution_count": 0,
      "outputs": []
    },
    {
      "cell_type": "code",
      "metadata": {
        "id": "iHteXnG1OwYI",
        "colab_type": "code",
        "outputId": "ed8dc4c7-56d4-492f-bb05-f40b6d3f9e7d",
        "colab": {
          "base_uri": "https://localhost:8080/",
          "height": 374
        }
      },
      "source": [
        "model.fit(scaled, target, epochs=10, verbose=1, validation_split=0.4)"
      ],
      "execution_count": 228,
      "outputs": [
        {
          "output_type": "stream",
          "text": [
            "Epoch 1/10\n",
            "153/153 [==============================] - 0s 3ms/step - loss: 0.4721 - accuracy: 0.8206 - val_loss: 1.4136 - val_accuracy: 0.1473\n",
            "Epoch 2/10\n",
            "153/153 [==============================] - 0s 2ms/step - loss: 0.3633 - accuracy: 0.8667 - val_loss: 1.4894 - val_accuracy: 0.2388\n",
            "Epoch 3/10\n",
            "153/153 [==============================] - 0s 2ms/step - loss: 0.3261 - accuracy: 0.8800 - val_loss: 1.3022 - val_accuracy: 0.3417\n",
            "Epoch 4/10\n",
            "153/153 [==============================] - 0s 2ms/step - loss: 0.3110 - accuracy: 0.8864 - val_loss: 1.3104 - val_accuracy: 0.3654\n",
            "Epoch 5/10\n",
            "153/153 [==============================] - 0s 2ms/step - loss: 0.3010 - accuracy: 0.8888 - val_loss: 1.2471 - val_accuracy: 0.4251\n",
            "Epoch 6/10\n",
            "153/153 [==============================] - 0s 2ms/step - loss: 0.2964 - accuracy: 0.8925 - val_loss: 1.2487 - val_accuracy: 0.4177\n",
            "Epoch 7/10\n",
            "153/153 [==============================] - 0s 2ms/step - loss: 0.2912 - accuracy: 0.8934 - val_loss: 1.3988 - val_accuracy: 0.3635\n",
            "Epoch 8/10\n",
            "153/153 [==============================] - 0s 2ms/step - loss: 0.2856 - accuracy: 0.8942 - val_loss: 1.2614 - val_accuracy: 0.4137\n",
            "Epoch 9/10\n",
            "153/153 [==============================] - 0s 2ms/step - loss: 0.2818 - accuracy: 0.8936 - val_loss: 1.2598 - val_accuracy: 0.4356\n",
            "Epoch 10/10\n",
            "153/153 [==============================] - 0s 2ms/step - loss: 0.2769 - accuracy: 0.8973 - val_loss: 1.2767 - val_accuracy: 0.4205\n"
          ],
          "name": "stdout"
        },
        {
          "output_type": "execute_result",
          "data": {
            "text/plain": [
              "<tensorflow.python.keras.callbacks.History at 0x7f490f821278>"
            ]
          },
          "metadata": {
            "tags": []
          },
          "execution_count": 228
        }
      ]
    },
    {
      "cell_type": "code",
      "metadata": {
        "id": "nz3Te90bQoLd",
        "colab_type": "code",
        "colab": {}
      },
      "source": [
        ""
      ],
      "execution_count": 0,
      "outputs": []
    },
    {
      "cell_type": "markdown",
      "metadata": {
        "id": "7qew6Kf3wQk1",
        "colab_type": "text"
      },
      "source": [
        "## Model 5 : Word embedding using Nueral Networks words are LabelEncoded\n",
        "\n"
      ]
    },
    {
      "cell_type": "markdown",
      "metadata": {
        "id": "LNmR7N60T9Wo",
        "colab_type": "text"
      },
      "source": [
        "> target is taken as 'Recommended Ind'"
      ]
    },
    {
      "cell_type": "code",
      "metadata": {
        "id": "fCuZXGR5xhRd",
        "colab_type": "code",
        "outputId": "bcec6e43-4f8a-4014-c360-52da89939fab",
        "colab": {
          "base_uri": "https://localhost:8080/",
          "height": 34
        }
      },
      "source": [
        "target=final_df['Recommended IND'].values\n",
        "target.shape"
      ],
      "execution_count": 0,
      "outputs": [
        {
          "output_type": "execute_result",
          "data": {
            "text/plain": [
              "(8113,)"
            ]
          },
          "metadata": {
            "tags": []
          },
          "execution_count": 89
        }
      ]
    },
    {
      "cell_type": "markdown",
      "metadata": {
        "id": "kv6b4zSVUZ8M",
        "colab_type": "text"
      },
      "source": [
        "> Split the data into test & train dataset\n",
        "using train_test_split from sklearn"
      ]
    },
    {
      "cell_type": "code",
      "metadata": {
        "id": "lqnRmPkfxmfl",
        "colab_type": "code",
        "colab": {}
      },
      "source": [
        "xtrain, xtest, ytrain, ytest = train_test_split(ex_vector,target, test_size=0.1)"
      ],
      "execution_count": 0,
      "outputs": []
    },
    {
      "cell_type": "markdown",
      "metadata": {
        "id": "3ePlfXy0Uxko",
        "colab_type": "text"
      },
      "source": [
        "> Create tensors out of numpy arrays xtrain,ytrain and xtest,ytest "
      ]
    },
    {
      "cell_type": "code",
      "metadata": {
        "id": "htlGYEa7x9oc",
        "colab_type": "code",
        "colab": {}
      },
      "source": [
        "train_dataset = tf.data.Dataset.from_tensor_slices((xtrain, ytrain))\n",
        "test_dataset = tf.data.Dataset.from_tensor_slices((xtest, ytest))"
      ],
      "execution_count": 0,
      "outputs": []
    },
    {
      "cell_type": "markdown",
      "metadata": {
        "id": "ylBubCkeVK_I",
        "colab_type": "text"
      },
      "source": [
        "> shuffle the data and create batches out of it"
      ]
    },
    {
      "cell_type": "code",
      "metadata": {
        "id": "KX9C4P1TyNxM",
        "colab_type": "code",
        "colab": {}
      },
      "source": [
        "BATCH_SIZE = 64\n",
        "SHUFFLE_BUFFER_SIZE = 100\n",
        "\n",
        "train_dataset = train_dataset.shuffle(SHUFFLE_BUFFER_SIZE).batch(BATCH_SIZE)\n",
        "test_dataset = test_dataset.batch(BATCH_SIZE)"
      ],
      "execution_count": 0,
      "outputs": []
    },
    {
      "cell_type": "code",
      "metadata": {
        "id": "xsykkgMfyZI3",
        "colab_type": "code",
        "colab": {}
      },
      "source": [
        "# Define the embedding dimensions // features around which the model will learn\n",
        "# correlatin based on.\n",
        "embedding_dim=10\n",
        "\n",
        "# defining the sequential model with an Embedding layer\n",
        "# Add a Global Average Pooling 1D layer to flattent the matrix into vector\n",
        "model = keras.models.Sequential([\n",
        "  keras.layers.Embedding(11305, embedding_dim),\n",
        "  keras.layers.GlobalAveragePooling1D(),\n",
        "  keras.layers.Dense(5, activation='relu'),\n",
        "  keras.layers.Dense(1, activation='sigmoid')\n",
        "])"
      ],
      "execution_count": 0,
      "outputs": []
    },
    {
      "cell_type": "code",
      "metadata": {
        "id": "Z750JhnzyhaW",
        "colab_type": "code",
        "colab": {}
      },
      "source": [
        "model.compile(optimizer=keras.optimizers.Adam(0.001),\n",
        "              loss=tf.keras.losses.BinaryCrossentropy(),\n",
        "              metrics=['accuracy'])"
      ],
      "execution_count": 0,
      "outputs": []
    },
    {
      "cell_type": "code",
      "metadata": {
        "id": "vYrEQpz5yje5",
        "colab_type": "code",
        "outputId": "d8f57803-0f4a-49a5-cd41-e291017fbdb1",
        "colab": {
          "base_uri": "https://localhost:8080/",
          "height": 697
        }
      },
      "source": [
        "# Train the model and benchmark against Test Data as it's validation data\n",
        "epochs=20\n",
        "history = model.fit(train_dataset, epochs=epochs, validation_data=test_dataset, verbose=2)"
      ],
      "execution_count": 0,
      "outputs": [
        {
          "output_type": "stream",
          "text": [
            "Epoch 1/20\n",
            "115/115 - 0s - loss: 0.6869 - accuracy: 0.6284 - val_loss: 0.6772 - val_accuracy: 0.6835\n",
            "Epoch 2/20\n",
            "115/115 - 0s - loss: 0.6547 - accuracy: 0.7558 - val_loss: 0.6307 - val_accuracy: 0.7783\n",
            "Epoch 3/20\n",
            "115/115 - 0s - loss: 0.5877 - accuracy: 0.8296 - val_loss: 0.5594 - val_accuracy: 0.8103\n",
            "Epoch 4/20\n",
            "115/115 - 0s - loss: 0.5043 - accuracy: 0.8534 - val_loss: 0.4881 - val_accuracy: 0.8337\n",
            "Epoch 5/20\n",
            "115/115 - 0s - loss: 0.4313 - accuracy: 0.8686 - val_loss: 0.4365 - val_accuracy: 0.8337\n",
            "Epoch 6/20\n",
            "115/115 - 0s - loss: 0.3782 - accuracy: 0.8780 - val_loss: 0.4037 - val_accuracy: 0.8350\n",
            "Epoch 7/20\n",
            "115/115 - 0s - loss: 0.3399 - accuracy: 0.8856 - val_loss: 0.3813 - val_accuracy: 0.8362\n",
            "Epoch 8/20\n",
            "115/115 - 0s - loss: 0.3123 - accuracy: 0.8947 - val_loss: 0.3693 - val_accuracy: 0.8399\n",
            "Epoch 9/20\n",
            "115/115 - 0s - loss: 0.2909 - accuracy: 0.9000 - val_loss: 0.3607 - val_accuracy: 0.8461\n",
            "Epoch 10/20\n",
            "115/115 - 0s - loss: 0.2734 - accuracy: 0.9066 - val_loss: 0.3555 - val_accuracy: 0.8473\n",
            "Epoch 11/20\n",
            "115/115 - 0s - loss: 0.2587 - accuracy: 0.9118 - val_loss: 0.3545 - val_accuracy: 0.8485\n",
            "Epoch 12/20\n",
            "115/115 - 0s - loss: 0.2460 - accuracy: 0.9164 - val_loss: 0.3542 - val_accuracy: 0.8485\n",
            "Epoch 13/20\n",
            "115/115 - 0s - loss: 0.2343 - accuracy: 0.9215 - val_loss: 0.3516 - val_accuracy: 0.8510\n",
            "Epoch 14/20\n",
            "115/115 - 0s - loss: 0.2239 - accuracy: 0.9249 - val_loss: 0.3548 - val_accuracy: 0.8485\n",
            "Epoch 15/20\n",
            "115/115 - 0s - loss: 0.2142 - accuracy: 0.9292 - val_loss: 0.3568 - val_accuracy: 0.8473\n",
            "Epoch 16/20\n",
            "115/115 - 0s - loss: 0.2049 - accuracy: 0.9317 - val_loss: 0.3600 - val_accuracy: 0.8461\n",
            "Epoch 17/20\n",
            "115/115 - 0s - loss: 0.1964 - accuracy: 0.9356 - val_loss: 0.3618 - val_accuracy: 0.8473\n",
            "Epoch 18/20\n",
            "115/115 - 0s - loss: 0.1880 - accuracy: 0.9401 - val_loss: 0.3672 - val_accuracy: 0.8473\n",
            "Epoch 19/20\n",
            "115/115 - 0s - loss: 0.1805 - accuracy: 0.9434 - val_loss: 0.3664 - val_accuracy: 0.8424\n",
            "Epoch 20/20\n",
            "115/115 - 0s - loss: 0.1728 - accuracy: 0.9456 - val_loss: 0.3716 - val_accuracy: 0.8399\n"
          ],
          "name": "stdout"
        }
      ]
    },
    {
      "cell_type": "code",
      "metadata": {
        "id": "56MeOB9xynX1",
        "colab_type": "code",
        "outputId": "ec338700-432a-455e-8e78-33581672283a",
        "colab": {
          "base_uri": "https://localhost:8080/",
          "height": 282
        }
      },
      "source": [
        "# Plot Accuracy\n",
        "plt.plot(range(epochs), history.history['accuracy'])\n",
        "plt.plot(range(epochs), history.history['val_accuracy'])\n"
      ],
      "execution_count": 0,
      "outputs": [
        {
          "output_type": "execute_result",
          "data": {
            "text/plain": [
              "[<matplotlib.lines.Line2D at 0x7f4922b7b940>]"
            ]
          },
          "metadata": {
            "tags": []
          },
          "execution_count": 96
        },
        {
          "output_type": "display_data",
          "data": {
            "image/png": "[encoded data removed]",
            "text/plain": [
              "<Figure size 432x288 with 1 Axes>"
            ]
          },
          "metadata": {
            "tags": [],
            "needs_background": "light"
          }
        }
      ]
    },
    {
      "cell_type": "code",
      "metadata": {
        "id": "VgTadcKtzAFc",
        "colab_type": "code",
        "outputId": "75b715b1-bd37-47aa-80d0-91c9c7c7ddd3",
        "colab": {
          "base_uri": "https://localhost:8080/",
          "height": 282
        }
      },
      "source": [
        "# Plot Loss\n",
        "plt.plot(range(epochs), history.history['loss'])\n",
        "plt.plot(range(epochs), history.history['val_loss'])"
      ],
      "execution_count": 0,
      "outputs": [
        {
          "output_type": "execute_result",
          "data": {
            "text/plain": [
              "[<matplotlib.lines.Line2D at 0x7f4922b51c18>]"
            ]
          },
          "metadata": {
            "tags": []
          },
          "execution_count": 97
        },
        {
          "output_type": "display_data",
          "data": {
            "image/png": "[encoded data removed]",
            "text/plain": [
              "<Figure size 432x288 with 1 Axes>"
            ]
          },
          "metadata": {
            "tags": [],
            "needs_background": "light"
          }
        }
      ]
    },
    {
      "cell_type": "markdown",
      "metadata": {
        "id": "IMr98oiLiBvi",
        "colab_type": "text"
      },
      "source": [
        "Validating Model with raw data"
      ]
    },
    {
      "cell_type": "code",
      "metadata": {
        "id": "pu7UA8DazCnN",
        "colab_type": "code",
        "colab": {}
      },
      "source": [
        "data=final_df['Review Text'][:10]"
      ],
      "execution_count": 0,
      "outputs": []
    },
    {
      "cell_type": "code",
      "metadata": {
        "id": "oriCNVFaiJSP",
        "colab_type": "code",
        "outputId": "3cddcc94-753c-47db-d8fe-9d21471627f0",
        "colab": {
          "base_uri": "https://localhost:8080/",
          "height": 204
        }
      },
      "source": [
        "data"
      ],
      "execution_count": 0,
      "outputs": [
        {
          "output_type": "execute_result",
          "data": {
            "text/plain": [
              "2     I had such high hopes for this dress and reall...\n",
              "5     I love tracy reese dresses, but this one is no...\n",
              "10    Dress runs small esp where the zipper area run...\n",
              "22    First of all, this is not pullover styling. th...\n",
              "25    Loved the material, but i didnt really look at...\n",
              "26    I have been waiting for this sweater coat to s...\n",
              "33    I ordered this 3 months ago, and it finally ca...\n",
              "56    I am pregnant and i thought this would be a gr...\n",
              "57    This tank fit well and i loved the ruffle in t...\n",
              "61    3 tags sewn in, 2 small (about 1'' long) and 1...\n",
              "Name: Review Text, dtype: object"
            ]
          },
          "metadata": {
            "tags": []
          },
          "execution_count": 110
        }
      ]
    },
    {
      "cell_type": "code",
      "metadata": {
        "id": "WBa8Ke9JiR-E",
        "colab_type": "code",
        "colab": {}
      },
      "source": [
        "text_arr = [row.split(' ') for row in data]"
      ],
      "execution_count": 0,
      "outputs": []
    },
    {
      "cell_type": "code",
      "metadata": {
        "id": "U-OGf-iRiVo0",
        "colab_type": "code",
        "colab": {}
      },
      "source": [
        "clean_text=[]\n",
        "\n",
        "for row in text_arr:\n",
        "  clean_row=clean_word(row)\n",
        "  clean_text.append(clean_row)"
      ],
      "execution_count": 0,
      "outputs": []
    },
    {
      "cell_type": "code",
      "metadata": {
        "id": "Z6wZHuH-iYRN",
        "colab_type": "code",
        "colab": {}
      },
      "source": [
        "test_token_vector = []\n",
        "\n",
        "for row in clean_text:\n",
        "  encoded = vectorizer.transform(row).tolist()\n",
        "  test_token_vector.append(encoded)\n"
      ],
      "execution_count": 0,
      "outputs": []
    },
    {
      "cell_type": "code",
      "metadata": {
        "id": "9fACr0OViflb",
        "colab_type": "code",
        "colab": {}
      },
      "source": [
        "padded = []\n",
        "for row in test_token_vector:\n",
        "  r = np.pad(row, (0, max_words-len(row)), 'constant')\n",
        "  padded.append(r)"
      ],
      "execution_count": 0,
      "outputs": []
    },
    {
      "cell_type": "code",
      "metadata": {
        "id": "UHsXEKrCiha9",
        "colab_type": "code",
        "colab": {}
      },
      "source": [
        "pred=model.predict(np.array(padded))"
      ],
      "execution_count": 0,
      "outputs": []
    },
    {
      "cell_type": "code",
      "metadata": {
        "id": "8dXqGxg5ijO0",
        "colab_type": "code",
        "outputId": "fc218a0b-7c7e-486d-8bea-32afa32d0198",
        "colab": {
          "base_uri": "https://localhost:8080/",
          "height": 187
        }
      },
      "source": [
        "res=[]\n",
        "for op in np.round(pred):\n",
        "  res.append(op)\n",
        "  print(op)"
      ],
      "execution_count": 0,
      "outputs": [
        {
          "output_type": "stream",
          "text": [
            "[0.]\n",
            "[0.]\n",
            "[0.]\n",
            "[0.]\n",
            "[0.]\n",
            "[0.]\n",
            "[0.]\n",
            "[0.]\n",
            "[0.]\n",
            "[0.]\n"
          ],
          "name": "stdout"
        }
      ]
    },
    {
      "cell_type": "code",
      "metadata": {
        "id": "WXbeW7smilUY",
        "colab_type": "code",
        "outputId": "48d3139d-6268-4970-9cde-2a02fed09b0d",
        "colab": {
          "base_uri": "https://localhost:8080/",
          "height": 34
        }
      },
      "source": [
        "b=final_df['Recommended IND'][:10].tolist()\n",
        "b"
      ],
      "execution_count": 0,
      "outputs": [
        {
          "output_type": "execute_result",
          "data": {
            "text/plain": [
              "[0, 0, 0, 0, 0, 0, 0, 0, 0, 0]"
            ]
          },
          "metadata": {
            "tags": []
          },
          "execution_count": 117
        }
      ]
    },
    {
      "cell_type": "code",
      "metadata": {
        "id": "CQpTUpKqisn6",
        "colab_type": "code",
        "outputId": "f0747ee5-5289-4c3b-c40e-4858a1cb9948",
        "colab": {
          "base_uri": "https://localhost:8080/",
          "height": 34
        }
      },
      "source": [
        "def accuracy():\n",
        "  score=0\n",
        "  for i in range(len(res)):\n",
        "    if res[i]==b[i]:\n",
        "      score+=1\n",
        "  result=(score/len(res))*100\n",
        "  print(f\"accuracy: {result}%\")\n",
        "accuracy()"
      ],
      "execution_count": 0,
      "outputs": [
        {
          "output_type": "stream",
          "text": [
            "accuracy: 100.0%\n"
          ],
          "name": "stdout"
        }
      ]
    },
    {
      "cell_type": "markdown",
      "metadata": {
        "id": "a2lXwpvUktwQ",
        "colab_type": "text"
      },
      "source": [
        "#Conclusion\n",
        "                                          Target               Accuracy\n",
        "\n",
        "    Model 1: Word Embedding              Class Name              50%\n",
        "\n",
        "    Model 2: Word Embedding              Good/bad                84%\n",
        "\n",
        "    Model 3: NN with TFIDF vectorizer    Recommended IND         89%\n",
        "\n",
        "    Model 4: NN using Count Vectorizer   Recommended IND         82%\n",
        "\n",
        "    Model 5 : Word Embedding             Recommended IND         94%"
      ]
    },
    {
      "cell_type": "markdown",
      "metadata": {
        "id": "-njRuD4HSdko",
        "colab_type": "text"
      },
      "source": [
        "> Best results were achieved using word embedding with target as Recommended IND which tells us that Reviews can be interpreted in a better way to understand what product a customer is likely to recommend this also leads to what the customer wants. Fullfilling these demands would increase the websites revenue shoot like a rocket.\n",
        "\n",
        "# ThankYou"
      ]
    }
  ]
}