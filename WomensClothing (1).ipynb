{
  "nbformat": 4,
  "nbformat_minor": 0,
  "metadata": {
    "colab": {
      "name": "WomensClothing.ipynb",
      "provenance": [],
      "collapsed_sections": []
    },
    "kernelspec": {
      "name": "python3",
      "display_name": "Python 3"
    }
  },
  "cells": [
    {
      "cell_type": "markdown",
      "metadata": {
        "id": "Z2X23xQr6bWi",
        "colab_type": "text"
      },
      "source": [
        "# Women's E-Commerce Clothing Reviews"
      ]
    },
    {
      "cell_type": "markdown",
      "metadata": {
        "id": "8Ta_P0Ne8HF8",
        "colab_type": "text"
      },
      "source": [
        "![alt text](https://images.unsplash.com/photo-1540221652346-e5dd6b50f3e7?ixlib=rb-1.2.1&ixid=eyJhcHBfaWQiOjEyMDd9&auto=format&fit=crop&w=500&q=60)"
      ]
    },
    {
      "cell_type": "markdown",
      "metadata": {
        "id": "2bbkSgLQKhSY",
        "colab_type": "text"
      },
      "source": [
        "# Contents\n",
        "\n",
        "1. Introduction\n",
        "\n",
        "2. Dataset Desciption\n",
        "\n",
        "3. Problem Statement\n",
        "\n",
        "4. Data preprocessing\n",
        "\n",
        "5. Visualising data for better understanding\n",
        "\n",
        "6. Cleaning text & making a vocabulary\n",
        "\n",
        "7. Models\n",
        "\n",
        "8. Conclusion\n"
      ]
    },
    {
      "cell_type": "markdown",
      "metadata": {
        "id": "hmNucsROXeVg",
        "colab_type": "text"
      },
      "source": [
        "# Introduction\n",
        "\n",
        ">This notebook is concerned with using the Python programming language and Natural Language Processing technology to explore trends in the customer reviews from a women’s clothing E-commerce platform/website, and extract actionable plans to improve its online e-commerce. This analysis will focus on using Natural Language techniques to find broad trends in the written thoughts of the customers. This Machine learning project aims to learn and explore new and intresting ways to look upon a text data and coming up with a model in order to understand the reviews written by humans to machines."
      ]
    },
    {
      "cell_type": "markdown",
      "metadata": {
        "id": "M4ahhrVs6jWb",
        "colab_type": "text"
      },
      "source": [
        "# Dataset Discription:\n",
        "\n",
        ">This is a Women’s Clothing E-Commerce dataset revolving around the reviews written by customers. Its nine supportive features offer a great environment to parse out the text through its multiple dimensions. Because this is real commercial data, it has been anonymized, and references to the company in the review text and body have been replaced with “retailer”.\n",
        "\n",
        "---\n",
        "\n",
        "This dataset includes 23486 rows and 10 feature variables.Each row includes a written comment as well as additional customer information, and includes the variables:\n",
        "\n",
        "- **Clothing ID**: Integer Categorical variable that refers to the specific piece being reviewed.\n",
        "\n",
        "- **Age**: Positive Integer variable of the reviewers age.\n",
        "\n",
        "- **Title**: String variable for the title of the review.\n",
        "\n",
        "- **Review Tex**t: String variable for the review body.\n",
        "\n",
        "- **Rating**: Positive Ordinal Integer variable for the product score granted by the customer from 1 Worst, to 5 Best.\n",
        "\n",
        "- **Recommended IND**: Binary variable stating where the customer recommends the product where 1 is recommended, 0 is not recommended.\n",
        "\n",
        "- **Positive Feedback Count**: Positive Integer documenting the number of other customers who found this review positive.\n",
        "\n",
        "- **Division Name**: Categorical name of the product high level division.\n",
        "\n",
        "- **Department Name**: Categorical name of the product department name.\n",
        "\n",
        "- **Class Name**: Type of product(Categorical)\n",
        "\n",
        "---\n",
        "\n",
        "Dataset : https://www.kaggle.com/nicapotato/womens-ecommerce-clothing-reviews\n",
        "\n",
        "---\n",
        "\n",
        "# Problem Statement\n",
        ">Reviews written by customers are a valuable asset as they give feedback to improve the platform.These reviews can be used by the E-commerce platform for the benefit of both customer and platform as they can understand the trend of the customer and make changes accordingly by understanding the data properly. There are a lot of reviews generated on a E-commerce website everyday which is a lot of data for a human to digest.So there is a need of understanding these reviews throuh Machine learning.\n",
        "\n",
        "Now lets explore the data...!!"
      ]
    },
    {
      "cell_type": "markdown",
      "metadata": {
        "id": "jFyMyF9P-bli",
        "colab_type": "text"
      },
      "source": [
        "**Importing Libraries**"
      ]
    },
    {
      "cell_type": "code",
      "metadata": {
        "id": "20NVnp-4evW5",
        "colab_type": "code",
        "colab": {}
      },
      "source": [
        "#general\n",
        "import numpy as np\n",
        "import pandas as pd\n",
        "\n",
        "#visualisation\n",
        "import matplotlib.pyplot as plt\n",
        "import seaborn as sns\n",
        "\n",
        "#text processing\n",
        "from sklearn.preprocessing import LabelEncoder\n",
        "from sklearn.feature_extraction.text import TfidfVectorizer\n",
        "from sklearn.feature_extraction.text import CountVectorizer\n",
        "from sklearn.decomposition import TruncatedSVD\n",
        "\n",
        "#training and testing\n",
        "from sklearn.model_selection import train_test_split\n",
        "\n",
        "#Building model\n",
        "import tensorflow as tf\n",
        "from tensorflow import keras\n"
      ],
      "execution_count": 0,
      "outputs": []
    },
    {
      "cell_type": "markdown",
      "metadata": {
        "id": "VjUFxVcdOiVf",
        "colab_type": "text"
      },
      "source": [
        "**General**\n",
        ">General category includes basic data manipulation for computation(numpy) and for dataframes(pandas).\n",
        "\n",
        "**Visualisation**\n",
        ">Visualisation category includes matplotlib used for plotting stastical and graphical plots to analise data. Similarly seaborn is also a python data visualization library based on matplotlib.\n",
        "\n",
        "**text processing**\n",
        "> LabelEncoder encode labels with a value between 0 and n_classes-1 where n is the number of distinct labels. If a label repeats it assigns the same value to as assigned earlier.\n",
        "\n",
        ">TfidfVectorizer weights the word counts by a measure of how often they appear in the documents. \n",
        "\n",
        ">CountVectorizer implements both tokenization and count of occurrence.\n",
        "\n",
        ">Dimensionality reduction using truncated SVD (aka LSA).This transformer performs linear dimensionality reduction by means of truncated singular value decomposition (SVD).\n",
        "\n",
        "**train_test_split**\n",
        ">train_test_split is a function in Sklearn model selection for splitting data arrays into two subsets: for training data and for testing data.\n",
        "\n",
        "**TensorFlow**\n",
        ">TensorFlow is an open source Deep Learning library developed by Google that is used to perform complex numerical operations and several other tasks to model Deep Learning models.\n",
        "\n",
        "**Keras**\n",
        ">Keras is a powerful and easy-to-use free open source Python library for developing and evaluating deep learning models. It wraps the efficient numerical computation libraries Theano and TensorFlow and allows you to define and train neural network models in just a few lines of code."
      ]
    },
    {
      "cell_type": "markdown",
      "metadata": {
        "id": "xRZjMCMEB2cr",
        "colab_type": "text"
      },
      "source": [
        "**Loading data with pandas**\n",
        "\n",
        "read_csv() takes file path as argument and reads csv files.\n",
        "Here i have given my drive's file location, put on yours by downoading the dataset and uploading into your drive if you are using colab nootebook to work on."
      ]
    },
    {
      "cell_type": "code",
      "metadata": {
        "id": "zJXOc966e4bk",
        "colab_type": "code",
        "colab": {}
      },
      "source": [
        "df=pd.read_csv(\"/content/drive/My Drive/dataset/Womens Clothing E-Commerce Reviews.csv\")"
      ],
      "execution_count": 0,
      "outputs": []
    },
    {
      "cell_type": "markdown",
      "metadata": {
        "id": "Lt158r4GB8l7",
        "colab_type": "text"
      },
      "source": [
        "**A quick look at the dataset...**"
      ]
    },
    {
      "cell_type": "code",
      "metadata": {
        "id": "UraYuXBhf4XE",
        "colab_type": "code",
        "outputId": "99704963-22a9-448a-dedc-9a33b196ff3a",
        "colab": {
          "base_uri": "https://localhost:8080/",
          "height": 306
        }
      },
      "source": [
        "# dataframe.head() shows the first 5 instances of the data\n",
        "df.head()"
      ],
      "execution_count": 91,
      "outputs": [
        {
          "output_type": "execute_result",
          "data": {
            "text/html": [
              "<div>\n",
              "<style scoped>\n",
              "    .dataframe tbody tr th:only-of-type {\n",
              "        vertical-align: middle;\n",
              "    }\n",
              "\n",
              "    .dataframe tbody tr th {\n",
              "        vertical-align: top;\n",
              "    }\n",
              "\n",
              "    .dataframe thead th {\n",
              "        text-align: right;\n",
              "    }\n",
              "</style>\n",
              "<table border=\"1\" class=\"dataframe\">\n",
              "  <thead>\n",
              "    <tr style=\"text-align: right;\">\n",
              "      <th></th>\n",
              "      <th>Unnamed: 0</th>\n",
              "      <th>Clothing ID</th>\n",
              "      <th>Age</th>\n",
              "      <th>Title</th>\n",
              "      <th>Review Text</th>\n",
              "      <th>Rating</th>\n",
              "      <th>Recommended IND</th>\n",
              "      <th>Positive Feedback Count</th>\n",
              "      <th>Division Name</th>\n",
              "      <th>Department Name</th>\n",
              "      <th>Class Name</th>\n",
              "    </tr>\n",
              "  </thead>\n",
              "  <tbody>\n",
              "    <tr>\n",
              "      <th>0</th>\n",
              "      <td>0</td>\n",
              "      <td>767</td>\n",
              "      <td>33</td>\n",
              "      <td>NaN</td>\n",
              "      <td>Absolutely wonderful - silky and sexy and comf...</td>\n",
              "      <td>4</td>\n",
              "      <td>1</td>\n",
              "      <td>0</td>\n",
              "      <td>Initmates</td>\n",
              "      <td>Intimate</td>\n",
              "      <td>Intimates</td>\n",
              "    </tr>\n",
              "    <tr>\n",
              "      <th>1</th>\n",
              "      <td>1</td>\n",
              "      <td>1080</td>\n",
              "      <td>34</td>\n",
              "      <td>NaN</td>\n",
              "      <td>Love this dress!  it's sooo pretty.  i happene...</td>\n",
              "      <td>5</td>\n",
              "      <td>1</td>\n",
              "      <td>4</td>\n",
              "      <td>General</td>\n",
              "      <td>Dresses</td>\n",
              "      <td>Dresses</td>\n",
              "    </tr>\n",
              "    <tr>\n",
              "      <th>2</th>\n",
              "      <td>2</td>\n",
              "      <td>1077</td>\n",
              "      <td>60</td>\n",
              "      <td>Some major design flaws</td>\n",
              "      <td>I had such high hopes for this dress and reall...</td>\n",
              "      <td>3</td>\n",
              "      <td>0</td>\n",
              "      <td>0</td>\n",
              "      <td>General</td>\n",
              "      <td>Dresses</td>\n",
              "      <td>Dresses</td>\n",
              "    </tr>\n",
              "    <tr>\n",
              "      <th>3</th>\n",
              "      <td>3</td>\n",
              "      <td>1049</td>\n",
              "      <td>50</td>\n",
              "      <td>My favorite buy!</td>\n",
              "      <td>I love, love, love this jumpsuit. it's fun, fl...</td>\n",
              "      <td>5</td>\n",
              "      <td>1</td>\n",
              "      <td>0</td>\n",
              "      <td>General Petite</td>\n",
              "      <td>Bottoms</td>\n",
              "      <td>Pants</td>\n",
              "    </tr>\n",
              "    <tr>\n",
              "      <th>4</th>\n",
              "      <td>4</td>\n",
              "      <td>847</td>\n",
              "      <td>47</td>\n",
              "      <td>Flattering shirt</td>\n",
              "      <td>This shirt is very flattering to all due to th...</td>\n",
              "      <td>5</td>\n",
              "      <td>1</td>\n",
              "      <td>6</td>\n",
              "      <td>General</td>\n",
              "      <td>Tops</td>\n",
              "      <td>Blouses</td>\n",
              "    </tr>\n",
              "  </tbody>\n",
              "</table>\n",
              "</div>"
            ],
            "text/plain": [
              "   Unnamed: 0  Clothing ID  Age  ...   Division Name Department Name  Class Name\n",
              "0           0          767   33  ...       Initmates        Intimate   Intimates\n",
              "1           1         1080   34  ...         General         Dresses     Dresses\n",
              "2           2         1077   60  ...         General         Dresses     Dresses\n",
              "3           3         1049   50  ...  General Petite         Bottoms       Pants\n",
              "4           4          847   47  ...         General            Tops     Blouses\n",
              "\n",
              "[5 rows x 11 columns]"
            ]
          },
          "metadata": {
            "tags": []
          },
          "execution_count": 91
        }
      ]
    },
    {
      "cell_type": "markdown",
      "metadata": {
        "id": "CO-02YaXCG-q",
        "colab_type": "text"
      },
      "source": [
        "Attribute **Unnamed: 0** is just index of the rows and hence it dosent add any value to dataset.\n",
        "\n",
        "\n",
        "Attribute **Title** is a one liner for the actual review. As we have the whole review itself it is better to have more information and hence 'Title' can be dropped.\n",
        "\n"
      ]
    },
    {
      "cell_type": "markdown",
      "metadata": {
        "id": "4M4CTMsgLMZ4",
        "colab_type": "text"
      },
      "source": [
        "# Data preprocesing"
      ]
    },
    {
      "cell_type": "markdown",
      "metadata": {
        "id": "aA5Wd06pHznB",
        "colab_type": "text"
      },
      "source": [
        "**Dropping attributes**"
      ]
    },
    {
      "cell_type": "code",
      "metadata": {
        "id": "a7RMhl01f7AD",
        "colab_type": "code",
        "colab": {}
      },
      "source": [
        "df=df.drop(['Unnamed: 0','Title'],axis=1)"
      ],
      "execution_count": 0,
      "outputs": []
    },
    {
      "cell_type": "markdown",
      "metadata": {
        "id": "BkTigWKKZUEH",
        "colab_type": "text"
      },
      "source": [
        "**Creating features for better understanding of data**\n",
        "\n",
        "- review_len is the character count in the column 'text review'\n",
        "\n",
        "- Word_count is the total no. of words in the review\n",
        "\n",
        "- Good/bad is whether the product is good or bad based upon the rating given by the customer. Rating >=3 is good otherwise bad."
      ]
    },
    {
      "cell_type": "code",
      "metadata": {
        "id": "gQ5uvfz4ZGVl",
        "colab_type": "code",
        "colab": {}
      },
      "source": [
        "df['review_len'] = df['Review Text'].astype(str).apply(len)\n",
        "df['word_count'] = df['Review Text'].apply(lambda x: len(str(x).split()))\n",
        "df[\"Good/bad\"] = 0\n",
        "df.loc[df.Rating >= 3,[\"Good/bad\"]] = 1"
      ],
      "execution_count": 0,
      "outputs": []
    },
    {
      "cell_type": "markdown",
      "metadata": {
        "id": "ZBAIa-paH87_",
        "colab_type": "text"
      },
      "source": [
        "These are the columns we will be working with"
      ]
    },
    {
      "cell_type": "code",
      "metadata": {
        "id": "9qqQyD5ggvEq",
        "colab_type": "code",
        "outputId": "45dfb36f-1640-46d6-8770-1c711b3f504c",
        "colab": {
          "base_uri": "https://localhost:8080/",
          "height": 306
        }
      },
      "source": [
        "df.head()"
      ],
      "execution_count": 94,
      "outputs": [
        {
          "output_type": "execute_result",
          "data": {
            "text/html": [
              "<div>\n",
              "<style scoped>\n",
              "    .dataframe tbody tr th:only-of-type {\n",
              "        vertical-align: middle;\n",
              "    }\n",
              "\n",
              "    .dataframe tbody tr th {\n",
              "        vertical-align: top;\n",
              "    }\n",
              "\n",
              "    .dataframe thead th {\n",
              "        text-align: right;\n",
              "    }\n",
              "</style>\n",
              "<table border=\"1\" class=\"dataframe\">\n",
              "  <thead>\n",
              "    <tr style=\"text-align: right;\">\n",
              "      <th></th>\n",
              "      <th>Clothing ID</th>\n",
              "      <th>Age</th>\n",
              "      <th>Review Text</th>\n",
              "      <th>Rating</th>\n",
              "      <th>Recommended IND</th>\n",
              "      <th>Positive Feedback Count</th>\n",
              "      <th>Division Name</th>\n",
              "      <th>Department Name</th>\n",
              "      <th>Class Name</th>\n",
              "      <th>review_len</th>\n",
              "      <th>word_count</th>\n",
              "      <th>Good/bad</th>\n",
              "    </tr>\n",
              "  </thead>\n",
              "  <tbody>\n",
              "    <tr>\n",
              "      <th>0</th>\n",
              "      <td>767</td>\n",
              "      <td>33</td>\n",
              "      <td>Absolutely wonderful - silky and sexy and comf...</td>\n",
              "      <td>4</td>\n",
              "      <td>1</td>\n",
              "      <td>0</td>\n",
              "      <td>Initmates</td>\n",
              "      <td>Intimate</td>\n",
              "      <td>Intimates</td>\n",
              "      <td>53</td>\n",
              "      <td>8</td>\n",
              "      <td>1</td>\n",
              "    </tr>\n",
              "    <tr>\n",
              "      <th>1</th>\n",
              "      <td>1080</td>\n",
              "      <td>34</td>\n",
              "      <td>Love this dress!  it's sooo pretty.  i happene...</td>\n",
              "      <td>5</td>\n",
              "      <td>1</td>\n",
              "      <td>4</td>\n",
              "      <td>General</td>\n",
              "      <td>Dresses</td>\n",
              "      <td>Dresses</td>\n",
              "      <td>303</td>\n",
              "      <td>62</td>\n",
              "      <td>1</td>\n",
              "    </tr>\n",
              "    <tr>\n",
              "      <th>2</th>\n",
              "      <td>1077</td>\n",
              "      <td>60</td>\n",
              "      <td>I had such high hopes for this dress and reall...</td>\n",
              "      <td>3</td>\n",
              "      <td>0</td>\n",
              "      <td>0</td>\n",
              "      <td>General</td>\n",
              "      <td>Dresses</td>\n",
              "      <td>Dresses</td>\n",
              "      <td>500</td>\n",
              "      <td>98</td>\n",
              "      <td>1</td>\n",
              "    </tr>\n",
              "    <tr>\n",
              "      <th>3</th>\n",
              "      <td>1049</td>\n",
              "      <td>50</td>\n",
              "      <td>I love, love, love this jumpsuit. it's fun, fl...</td>\n",
              "      <td>5</td>\n",
              "      <td>1</td>\n",
              "      <td>0</td>\n",
              "      <td>General Petite</td>\n",
              "      <td>Bottoms</td>\n",
              "      <td>Pants</td>\n",
              "      <td>124</td>\n",
              "      <td>22</td>\n",
              "      <td>1</td>\n",
              "    </tr>\n",
              "    <tr>\n",
              "      <th>4</th>\n",
              "      <td>847</td>\n",
              "      <td>47</td>\n",
              "      <td>This shirt is very flattering to all due to th...</td>\n",
              "      <td>5</td>\n",
              "      <td>1</td>\n",
              "      <td>6</td>\n",
              "      <td>General</td>\n",
              "      <td>Tops</td>\n",
              "      <td>Blouses</td>\n",
              "      <td>192</td>\n",
              "      <td>36</td>\n",
              "      <td>1</td>\n",
              "    </tr>\n",
              "  </tbody>\n",
              "</table>\n",
              "</div>"
            ],
            "text/plain": [
              "   Clothing ID  Age  ... word_count  Good/bad\n",
              "0          767   33  ...          8         1\n",
              "1         1080   34  ...         62         1\n",
              "2         1077   60  ...         98         1\n",
              "3         1049   50  ...         22         1\n",
              "4          847   47  ...         36         1\n",
              "\n",
              "[5 rows x 12 columns]"
            ]
          },
          "metadata": {
            "tags": []
          },
          "execution_count": 94
        }
      ]
    },
    {
      "cell_type": "markdown",
      "metadata": {
        "id": "8E-HNaKwEtSu",
        "colab_type": "text"
      },
      "source": [
        "**Is the dataset biased ??**\n",
        "A dataset is baised when the target has more values of one class compared to other. Such dataset leads to imporper training and results in wrong predictions.\n",
        "\n",
        "Target is taken as Recommended IND and we will be checking whether the dataset is baised or not based ont this column.\n",
        "\n",
        "lets find out.."
      ]
    },
    {
      "cell_type": "code",
      "metadata": {
        "id": "afe6eRiqLg0B",
        "colab_type": "code",
        "outputId": "e814779a-49e7-4d17-f51e-22fee15ff753",
        "colab": {
          "base_uri": "https://localhost:8080/",
          "height": 299
        }
      },
      "source": [
        "fig1, ax1 = plt.subplots()\n",
        "a,b=df['Recommended IND'].value_counts()\n",
        "sizes=[a,b]\n",
        "labels=[a,b]\n",
        "ax1.pie(sizes, labels=labels, autopct='%1.1f%%')\n",
        "ax1.axis('equal')  # Equal aspect ratio ensures that pie is drawn as a circle.\n",
        "plt.show()\n",
        "df['Recommended IND'].value_counts()"
      ],
      "execution_count": 95,
      "outputs": [
        {
          "output_type": "display_data",
          "data": {
            "image/png": "[encoded data removed]",
            "text/plain": [
              "<Figure size 432x288 with 1 Axes>"
            ]
          },
          "metadata": {
            "tags": []
          }
        },
        {
          "output_type": "execute_result",
          "data": {
            "text/plain": [
              "1    19314\n",
              "0     4172\n",
              "Name: Recommended IND, dtype: int64"
            ]
          },
          "metadata": {
            "tags": []
          },
          "execution_count": 95
        }
      ]
    },
    {
      "cell_type": "markdown",
      "metadata": {
        "id": "2b5AT2vvKj6R",
        "colab_type": "text"
      },
      "source": [
        "In target('Recommended IND') 0 means product is not recommended by the customer where as 1 means product is recommended."
      ]
    },
    {
      "cell_type": "markdown",
      "metadata": {
        "id": "Z5GBZBsVFGl9",
        "colab_type": "text"
      },
      "source": [
        "As we can see the target is highly biased with only 17.8% of targets as not recommended."
      ]
    },
    {
      "cell_type": "markdown",
      "metadata": {
        "id": "QCPbJfaEFVnr",
        "colab_type": "text"
      },
      "source": [
        "Building a model on such a biased dataset may lead to learning wrong relationships and predicting wrong as model will be biased towards reccommened class."
      ]
    },
    {
      "cell_type": "markdown",
      "metadata": {
        "id": "DekXFUy8GBj9",
        "colab_type": "text"
      },
      "source": [
        "Hence we will take same number of instances randomly from both the classes in order to make an unbiased datset."
      ]
    },
    {
      "cell_type": "markdown",
      "metadata": {
        "id": "aK2_Z-qOGXpA",
        "colab_type": "text"
      },
      "source": [
        "**Filtering out Rows with column 'Recommended Id' as 1**"
      ]
    },
    {
      "cell_type": "code",
      "metadata": {
        "id": "eSVDZsU8QG9H",
        "colab_type": "code",
        "colab": {}
      },
      "source": [
        "# data with target as 1\n",
        "df1=df.loc[df['Recommended IND'] == 1]"
      ],
      "execution_count": 0,
      "outputs": []
    },
    {
      "cell_type": "markdown",
      "metadata": {
        "id": "w5mcKZ5_LNMB",
        "colab_type": "text"
      },
      "source": [
        "This dataframe has only those rows with Recommended IND = 1"
      ]
    },
    {
      "cell_type": "code",
      "metadata": {
        "id": "TBtySdblYF57",
        "colab_type": "code",
        "outputId": "b2914ac3-fb38-482a-ad39-4c5955f15dd6",
        "colab": {
          "base_uri": "https://localhost:8080/",
          "height": 606
        }
      },
      "source": [
        "df1"
      ],
      "execution_count": 97,
      "outputs": [
        {
          "output_type": "execute_result",
          "data": {
            "text/html": [
              "<div>\n",
              "<style scoped>\n",
              "    .dataframe tbody tr th:only-of-type {\n",
              "        vertical-align: middle;\n",
              "    }\n",
              "\n",
              "    .dataframe tbody tr th {\n",
              "        vertical-align: top;\n",
              "    }\n",
              "\n",
              "    .dataframe thead th {\n",
              "        text-align: right;\n",
              "    }\n",
              "</style>\n",
              "<table border=\"1\" class=\"dataframe\">\n",
              "  <thead>\n",
              "    <tr style=\"text-align: right;\">\n",
              "      <th></th>\n",
              "      <th>Clothing ID</th>\n",
              "      <th>Age</th>\n",
              "      <th>Review Text</th>\n",
              "      <th>Rating</th>\n",
              "      <th>Recommended IND</th>\n",
              "      <th>Positive Feedback Count</th>\n",
              "      <th>Division Name</th>\n",
              "      <th>Department Name</th>\n",
              "      <th>Class Name</th>\n",
              "      <th>review_len</th>\n",
              "      <th>word_count</th>\n",
              "      <th>Good/bad</th>\n",
              "    </tr>\n",
              "  </thead>\n",
              "  <tbody>\n",
              "    <tr>\n",
              "      <th>0</th>\n",
              "      <td>767</td>\n",
              "      <td>33</td>\n",
              "      <td>Absolutely wonderful - silky and sexy and comf...</td>\n",
              "      <td>4</td>\n",
              "      <td>1</td>\n",
              "      <td>0</td>\n",
              "      <td>Initmates</td>\n",
              "      <td>Intimate</td>\n",
              "      <td>Intimates</td>\n",
              "      <td>53</td>\n",
              "      <td>8</td>\n",
              "      <td>1</td>\n",
              "    </tr>\n",
              "    <tr>\n",
              "      <th>1</th>\n",
              "      <td>1080</td>\n",
              "      <td>34</td>\n",
              "      <td>Love this dress!  it's sooo pretty.  i happene...</td>\n",
              "      <td>5</td>\n",
              "      <td>1</td>\n",
              "      <td>4</td>\n",
              "      <td>General</td>\n",
              "      <td>Dresses</td>\n",
              "      <td>Dresses</td>\n",
              "      <td>303</td>\n",
              "      <td>62</td>\n",
              "      <td>1</td>\n",
              "    </tr>\n",
              "    <tr>\n",
              "      <th>3</th>\n",
              "      <td>1049</td>\n",
              "      <td>50</td>\n",
              "      <td>I love, love, love this jumpsuit. it's fun, fl...</td>\n",
              "      <td>5</td>\n",
              "      <td>1</td>\n",
              "      <td>0</td>\n",
              "      <td>General Petite</td>\n",
              "      <td>Bottoms</td>\n",
              "      <td>Pants</td>\n",
              "      <td>124</td>\n",
              "      <td>22</td>\n",
              "      <td>1</td>\n",
              "    </tr>\n",
              "    <tr>\n",
              "      <th>4</th>\n",
              "      <td>847</td>\n",
              "      <td>47</td>\n",
              "      <td>This shirt is very flattering to all due to th...</td>\n",
              "      <td>5</td>\n",
              "      <td>1</td>\n",
              "      <td>6</td>\n",
              "      <td>General</td>\n",
              "      <td>Tops</td>\n",
              "      <td>Blouses</td>\n",
              "      <td>192</td>\n",
              "      <td>36</td>\n",
              "      <td>1</td>\n",
              "    </tr>\n",
              "    <tr>\n",
              "      <th>6</th>\n",
              "      <td>858</td>\n",
              "      <td>39</td>\n",
              "      <td>I aded this in my basket at hte last mintue to...</td>\n",
              "      <td>5</td>\n",
              "      <td>1</td>\n",
              "      <td>1</td>\n",
              "      <td>General Petite</td>\n",
              "      <td>Tops</td>\n",
              "      <td>Knits</td>\n",
              "      <td>496</td>\n",
              "      <td>101</td>\n",
              "      <td>1</td>\n",
              "    </tr>\n",
              "    <tr>\n",
              "      <th>...</th>\n",
              "      <td>...</td>\n",
              "      <td>...</td>\n",
              "      <td>...</td>\n",
              "      <td>...</td>\n",
              "      <td>...</td>\n",
              "      <td>...</td>\n",
              "      <td>...</td>\n",
              "      <td>...</td>\n",
              "      <td>...</td>\n",
              "      <td>...</td>\n",
              "      <td>...</td>\n",
              "      <td>...</td>\n",
              "    </tr>\n",
              "    <tr>\n",
              "      <th>23480</th>\n",
              "      <td>862</td>\n",
              "      <td>35</td>\n",
              "      <td>NaN</td>\n",
              "      <td>5</td>\n",
              "      <td>1</td>\n",
              "      <td>0</td>\n",
              "      <td>General Petite</td>\n",
              "      <td>Tops</td>\n",
              "      <td>Knits</td>\n",
              "      <td>3</td>\n",
              "      <td>1</td>\n",
              "      <td>1</td>\n",
              "    </tr>\n",
              "    <tr>\n",
              "      <th>23481</th>\n",
              "      <td>1104</td>\n",
              "      <td>34</td>\n",
              "      <td>I was very happy to snag this dress at such a ...</td>\n",
              "      <td>5</td>\n",
              "      <td>1</td>\n",
              "      <td>0</td>\n",
              "      <td>General Petite</td>\n",
              "      <td>Dresses</td>\n",
              "      <td>Dresses</td>\n",
              "      <td>131</td>\n",
              "      <td>28</td>\n",
              "      <td>1</td>\n",
              "    </tr>\n",
              "    <tr>\n",
              "      <th>23482</th>\n",
              "      <td>862</td>\n",
              "      <td>48</td>\n",
              "      <td>It reminds me of maternity clothes. soft, stre...</td>\n",
              "      <td>3</td>\n",
              "      <td>1</td>\n",
              "      <td>0</td>\n",
              "      <td>General Petite</td>\n",
              "      <td>Tops</td>\n",
              "      <td>Knits</td>\n",
              "      <td>223</td>\n",
              "      <td>38</td>\n",
              "      <td>1</td>\n",
              "    </tr>\n",
              "    <tr>\n",
              "      <th>23484</th>\n",
              "      <td>1084</td>\n",
              "      <td>28</td>\n",
              "      <td>I bought this dress for a wedding i have this ...</td>\n",
              "      <td>3</td>\n",
              "      <td>1</td>\n",
              "      <td>2</td>\n",
              "      <td>General</td>\n",
              "      <td>Dresses</td>\n",
              "      <td>Dresses</td>\n",
              "      <td>427</td>\n",
              "      <td>86</td>\n",
              "      <td>1</td>\n",
              "    </tr>\n",
              "    <tr>\n",
              "      <th>23485</th>\n",
              "      <td>1104</td>\n",
              "      <td>52</td>\n",
              "      <td>This dress in a lovely platinum is feminine an...</td>\n",
              "      <td>5</td>\n",
              "      <td>1</td>\n",
              "      <td>22</td>\n",
              "      <td>General Petite</td>\n",
              "      <td>Dresses</td>\n",
              "      <td>Dresses</td>\n",
              "      <td>110</td>\n",
              "      <td>19</td>\n",
              "      <td>1</td>\n",
              "    </tr>\n",
              "  </tbody>\n",
              "</table>\n",
              "<p>19314 rows × 12 columns</p>\n",
              "</div>"
            ],
            "text/plain": [
              "       Clothing ID  Age  ... word_count  Good/bad\n",
              "0              767   33  ...          8         1\n",
              "1             1080   34  ...         62         1\n",
              "3             1049   50  ...         22         1\n",
              "4              847   47  ...         36         1\n",
              "6              858   39  ...        101         1\n",
              "...            ...  ...  ...        ...       ...\n",
              "23480          862   35  ...          1         1\n",
              "23481         1104   34  ...         28         1\n",
              "23482          862   48  ...         38         1\n",
              "23484         1084   28  ...         86         1\n",
              "23485         1104   52  ...         19         1\n",
              "\n",
              "[19314 rows x 12 columns]"
            ]
          },
          "metadata": {
            "tags": []
          },
          "execution_count": 97
        }
      ]
    },
    {
      "cell_type": "markdown",
      "metadata": {
        "id": "nNMlpggmGhVN",
        "colab_type": "text"
      },
      "source": [
        "There are 4172 instances of class not recoomemded(i.e. 0) hence we will take 4172 instances of class recommended(i.e. 1) in order to make datset unbiased.\n",
        "\n",
        "Instances can be selected randomly as well by\n",
        " dataframe.sample(), this function selects rows randomly.\n",
        " random_state is seed to the df.sample(), so that it takes same random rows everytime during execution.\n",
        " n is the number of rows required here it is 4172\n",
        " \n",
        " df1new=df1.sample(n = 4172,random_state=1)\n",
        "\n",
        "Here Im taking first 4172 instances for simplicty."
      ]
    },
    {
      "cell_type": "code",
      "metadata": {
        "id": "9Ddt0XZiYHaV",
        "colab_type": "code",
        "outputId": "0a09cc8a-3d76-40b7-8e3c-f783a9295ac8",
        "colab": {
          "base_uri": "https://localhost:8080/",
          "height": 34
        }
      },
      "source": [
        "# 4172 rows with target as 1\n",
        "df1new=df1[:4172]\n",
        "#rest of the data which can be used later on after training\n",
        "df1test=df1[4172:]\n",
        "\n",
        "print(len(df1new),\",\",len(df1test))"
      ],
      "execution_count": 98,
      "outputs": [
        {
          "output_type": "stream",
          "text": [
            "4172 , 15142\n"
          ],
          "name": "stdout"
        }
      ]
    },
    {
      "cell_type": "markdown",
      "metadata": {
        "id": "_fONMtwwYYG-",
        "colab_type": "text"
      },
      "source": [
        "there are total of 4172 rows with 1 as target."
      ]
    },
    {
      "cell_type": "markdown",
      "metadata": {
        "id": "LVC7OdboMUbz",
        "colab_type": "text"
      },
      "source": [
        "**All the rows with Recommended IND = 0**"
      ]
    },
    {
      "cell_type": "code",
      "metadata": {
        "id": "N7HCeusvZ-Hs",
        "colab_type": "code",
        "outputId": "ff63a15b-7539-43c2-f5a1-67d960858137",
        "colab": {
          "base_uri": "https://localhost:8080/",
          "height": 606
        }
      },
      "source": [
        "# data with target as 0\n",
        "df0=df.loc[df['Recommended IND'] == 0]\n",
        "df0"
      ],
      "execution_count": 99,
      "outputs": [
        {
          "output_type": "execute_result",
          "data": {
            "text/html": [
              "<div>\n",
              "<style scoped>\n",
              "    .dataframe tbody tr th:only-of-type {\n",
              "        vertical-align: middle;\n",
              "    }\n",
              "\n",
              "    .dataframe tbody tr th {\n",
              "        vertical-align: top;\n",
              "    }\n",
              "\n",
              "    .dataframe thead th {\n",
              "        text-align: right;\n",
              "    }\n",
              "</style>\n",
              "<table border=\"1\" class=\"dataframe\">\n",
              "  <thead>\n",
              "    <tr style=\"text-align: right;\">\n",
              "      <th></th>\n",
              "      <th>Clothing ID</th>\n",
              "      <th>Age</th>\n",
              "      <th>Review Text</th>\n",
              "      <th>Rating</th>\n",
              "      <th>Recommended IND</th>\n",
              "      <th>Positive Feedback Count</th>\n",
              "      <th>Division Name</th>\n",
              "      <th>Department Name</th>\n",
              "      <th>Class Name</th>\n",
              "      <th>review_len</th>\n",
              "      <th>word_count</th>\n",
              "      <th>Good/bad</th>\n",
              "    </tr>\n",
              "  </thead>\n",
              "  <tbody>\n",
              "    <tr>\n",
              "      <th>2</th>\n",
              "      <td>1077</td>\n",
              "      <td>60</td>\n",
              "      <td>I had such high hopes for this dress and reall...</td>\n",
              "      <td>3</td>\n",
              "      <td>0</td>\n",
              "      <td>0</td>\n",
              "      <td>General</td>\n",
              "      <td>Dresses</td>\n",
              "      <td>Dresses</td>\n",
              "      <td>500</td>\n",
              "      <td>98</td>\n",
              "      <td>1</td>\n",
              "    </tr>\n",
              "    <tr>\n",
              "      <th>5</th>\n",
              "      <td>1080</td>\n",
              "      <td>49</td>\n",
              "      <td>I love tracy reese dresses, but this one is no...</td>\n",
              "      <td>2</td>\n",
              "      <td>0</td>\n",
              "      <td>4</td>\n",
              "      <td>General</td>\n",
              "      <td>Dresses</td>\n",
              "      <td>Dresses</td>\n",
              "      <td>488</td>\n",
              "      <td>98</td>\n",
              "      <td>0</td>\n",
              "    </tr>\n",
              "    <tr>\n",
              "      <th>10</th>\n",
              "      <td>1077</td>\n",
              "      <td>53</td>\n",
              "      <td>Dress runs small esp where the zipper area run...</td>\n",
              "      <td>3</td>\n",
              "      <td>0</td>\n",
              "      <td>14</td>\n",
              "      <td>General</td>\n",
              "      <td>Dresses</td>\n",
              "      <td>Dresses</td>\n",
              "      <td>336</td>\n",
              "      <td>66</td>\n",
              "      <td>1</td>\n",
              "    </tr>\n",
              "    <tr>\n",
              "      <th>22</th>\n",
              "      <td>1077</td>\n",
              "      <td>31</td>\n",
              "      <td>First of all, this is not pullover styling. th...</td>\n",
              "      <td>2</td>\n",
              "      <td>0</td>\n",
              "      <td>7</td>\n",
              "      <td>General</td>\n",
              "      <td>Dresses</td>\n",
              "      <td>Dresses</td>\n",
              "      <td>437</td>\n",
              "      <td>85</td>\n",
              "      <td>0</td>\n",
              "    </tr>\n",
              "    <tr>\n",
              "      <th>25</th>\n",
              "      <td>697</td>\n",
              "      <td>31</td>\n",
              "      <td>Loved the material, but i didnt really look at...</td>\n",
              "      <td>3</td>\n",
              "      <td>0</td>\n",
              "      <td>0</td>\n",
              "      <td>Initmates</td>\n",
              "      <td>Intimate</td>\n",
              "      <td>Lounge</td>\n",
              "      <td>340</td>\n",
              "      <td>69</td>\n",
              "      <td>1</td>\n",
              "    </tr>\n",
              "    <tr>\n",
              "      <th>...</th>\n",
              "      <td>...</td>\n",
              "      <td>...</td>\n",
              "      <td>...</td>\n",
              "      <td>...</td>\n",
              "      <td>...</td>\n",
              "      <td>...</td>\n",
              "      <td>...</td>\n",
              "      <td>...</td>\n",
              "      <td>...</td>\n",
              "      <td>...</td>\n",
              "      <td>...</td>\n",
              "      <td>...</td>\n",
              "    </tr>\n",
              "    <tr>\n",
              "      <th>23449</th>\n",
              "      <td>262</td>\n",
              "      <td>39</td>\n",
              "      <td>I tried these on because the color is really p...</td>\n",
              "      <td>3</td>\n",
              "      <td>0</td>\n",
              "      <td>7</td>\n",
              "      <td>General Petite</td>\n",
              "      <td>Intimate</td>\n",
              "      <td>Lounge</td>\n",
              "      <td>349</td>\n",
              "      <td>65</td>\n",
              "      <td>1</td>\n",
              "    </tr>\n",
              "    <tr>\n",
              "      <th>23450</th>\n",
              "      <td>964</td>\n",
              "      <td>40</td>\n",
              "      <td>I wanted to love this jacket. so soft and grea...</td>\n",
              "      <td>3</td>\n",
              "      <td>0</td>\n",
              "      <td>4</td>\n",
              "      <td>General</td>\n",
              "      <td>Jackets</td>\n",
              "      <td>Jackets</td>\n",
              "      <td>318</td>\n",
              "      <td>60</td>\n",
              "      <td>1</td>\n",
              "    </tr>\n",
              "    <tr>\n",
              "      <th>23460</th>\n",
              "      <td>1078</td>\n",
              "      <td>34</td>\n",
              "      <td>I purchased this for a very good price and i t...</td>\n",
              "      <td>3</td>\n",
              "      <td>0</td>\n",
              "      <td>0</td>\n",
              "      <td>General</td>\n",
              "      <td>Dresses</td>\n",
              "      <td>Dresses</td>\n",
              "      <td>500</td>\n",
              "      <td>95</td>\n",
              "      <td>1</td>\n",
              "    </tr>\n",
              "    <tr>\n",
              "      <th>23478</th>\n",
              "      <td>1104</td>\n",
              "      <td>32</td>\n",
              "      <td>I was surprised at the positive reviews for th...</td>\n",
              "      <td>1</td>\n",
              "      <td>0</td>\n",
              "      <td>0</td>\n",
              "      <td>General Petite</td>\n",
              "      <td>Dresses</td>\n",
              "      <td>Dresses</td>\n",
              "      <td>229</td>\n",
              "      <td>44</td>\n",
              "      <td>0</td>\n",
              "    </tr>\n",
              "    <tr>\n",
              "      <th>23483</th>\n",
              "      <td>1104</td>\n",
              "      <td>31</td>\n",
              "      <td>This fit well, but the top was very see throug...</td>\n",
              "      <td>3</td>\n",
              "      <td>0</td>\n",
              "      <td>1</td>\n",
              "      <td>General Petite</td>\n",
              "      <td>Dresses</td>\n",
              "      <td>Dresses</td>\n",
              "      <td>208</td>\n",
              "      <td>42</td>\n",
              "      <td>1</td>\n",
              "    </tr>\n",
              "  </tbody>\n",
              "</table>\n",
              "<p>4172 rows × 12 columns</p>\n",
              "</div>"
            ],
            "text/plain": [
              "       Clothing ID  Age  ... word_count  Good/bad\n",
              "2             1077   60  ...         98         1\n",
              "5             1080   49  ...         98         0\n",
              "10            1077   53  ...         66         1\n",
              "22            1077   31  ...         85         0\n",
              "25             697   31  ...         69         1\n",
              "...            ...  ...  ...        ...       ...\n",
              "23449          262   39  ...         65         1\n",
              "23450          964   40  ...         60         1\n",
              "23460         1078   34  ...         95         1\n",
              "23478         1104   32  ...         44         0\n",
              "23483         1104   31  ...         42         1\n",
              "\n",
              "[4172 rows x 12 columns]"
            ]
          },
          "metadata": {
            "tags": []
          },
          "execution_count": 99
        }
      ]
    },
    {
      "cell_type": "markdown",
      "metadata": {
        "id": "8kPIlGsPG-hX",
        "colab_type": "text"
      },
      "source": [
        "Both dataframes are concated to form a single final dataframe."
      ]
    },
    {
      "cell_type": "code",
      "metadata": {
        "id": "E56WO3Glaec6",
        "colab_type": "code",
        "outputId": "e0ee29c2-c784-40a4-827b-c3860b708f63",
        "colab": {
          "base_uri": "https://localhost:8080/",
          "height": 306
        }
      },
      "source": [
        "final_df=pd.concat([df0,df1new])\n",
        "final_df.head()"
      ],
      "execution_count": 100,
      "outputs": [
        {
          "output_type": "execute_result",
          "data": {
            "text/html": [
              "<div>\n",
              "<style scoped>\n",
              "    .dataframe tbody tr th:only-of-type {\n",
              "        vertical-align: middle;\n",
              "    }\n",
              "\n",
              "    .dataframe tbody tr th {\n",
              "        vertical-align: top;\n",
              "    }\n",
              "\n",
              "    .dataframe thead th {\n",
              "        text-align: right;\n",
              "    }\n",
              "</style>\n",
              "<table border=\"1\" class=\"dataframe\">\n",
              "  <thead>\n",
              "    <tr style=\"text-align: right;\">\n",
              "      <th></th>\n",
              "      <th>Clothing ID</th>\n",
              "      <th>Age</th>\n",
              "      <th>Review Text</th>\n",
              "      <th>Rating</th>\n",
              "      <th>Recommended IND</th>\n",
              "      <th>Positive Feedback Count</th>\n",
              "      <th>Division Name</th>\n",
              "      <th>Department Name</th>\n",
              "      <th>Class Name</th>\n",
              "      <th>review_len</th>\n",
              "      <th>word_count</th>\n",
              "      <th>Good/bad</th>\n",
              "    </tr>\n",
              "  </thead>\n",
              "  <tbody>\n",
              "    <tr>\n",
              "      <th>2</th>\n",
              "      <td>1077</td>\n",
              "      <td>60</td>\n",
              "      <td>I had such high hopes for this dress and reall...</td>\n",
              "      <td>3</td>\n",
              "      <td>0</td>\n",
              "      <td>0</td>\n",
              "      <td>General</td>\n",
              "      <td>Dresses</td>\n",
              "      <td>Dresses</td>\n",
              "      <td>500</td>\n",
              "      <td>98</td>\n",
              "      <td>1</td>\n",
              "    </tr>\n",
              "    <tr>\n",
              "      <th>5</th>\n",
              "      <td>1080</td>\n",
              "      <td>49</td>\n",
              "      <td>I love tracy reese dresses, but this one is no...</td>\n",
              "      <td>2</td>\n",
              "      <td>0</td>\n",
              "      <td>4</td>\n",
              "      <td>General</td>\n",
              "      <td>Dresses</td>\n",
              "      <td>Dresses</td>\n",
              "      <td>488</td>\n",
              "      <td>98</td>\n",
              "      <td>0</td>\n",
              "    </tr>\n",
              "    <tr>\n",
              "      <th>10</th>\n",
              "      <td>1077</td>\n",
              "      <td>53</td>\n",
              "      <td>Dress runs small esp where the zipper area run...</td>\n",
              "      <td>3</td>\n",
              "      <td>0</td>\n",
              "      <td>14</td>\n",
              "      <td>General</td>\n",
              "      <td>Dresses</td>\n",
              "      <td>Dresses</td>\n",
              "      <td>336</td>\n",
              "      <td>66</td>\n",
              "      <td>1</td>\n",
              "    </tr>\n",
              "    <tr>\n",
              "      <th>22</th>\n",
              "      <td>1077</td>\n",
              "      <td>31</td>\n",
              "      <td>First of all, this is not pullover styling. th...</td>\n",
              "      <td>2</td>\n",
              "      <td>0</td>\n",
              "      <td>7</td>\n",
              "      <td>General</td>\n",
              "      <td>Dresses</td>\n",
              "      <td>Dresses</td>\n",
              "      <td>437</td>\n",
              "      <td>85</td>\n",
              "      <td>0</td>\n",
              "    </tr>\n",
              "    <tr>\n",
              "      <th>25</th>\n",
              "      <td>697</td>\n",
              "      <td>31</td>\n",
              "      <td>Loved the material, but i didnt really look at...</td>\n",
              "      <td>3</td>\n",
              "      <td>0</td>\n",
              "      <td>0</td>\n",
              "      <td>Initmates</td>\n",
              "      <td>Intimate</td>\n",
              "      <td>Lounge</td>\n",
              "      <td>340</td>\n",
              "      <td>69</td>\n",
              "      <td>1</td>\n",
              "    </tr>\n",
              "  </tbody>\n",
              "</table>\n",
              "</div>"
            ],
            "text/plain": [
              "    Clothing ID  Age  ... word_count  Good/bad\n",
              "2          1077   60  ...         98         1\n",
              "5          1080   49  ...         98         0\n",
              "10         1077   53  ...         66         1\n",
              "22         1077   31  ...         85         0\n",
              "25          697   31  ...         69         1\n",
              "\n",
              "[5 rows x 12 columns]"
            ]
          },
          "metadata": {
            "tags": []
          },
          "execution_count": 100
        }
      ]
    },
    {
      "cell_type": "markdown",
      "metadata": {
        "id": "QrseWQiGHHMw",
        "colab_type": "text"
      },
      "source": [
        "But there are null values in some columns for some rows.\n",
        "\n",
        "hence removing all NaN values."
      ]
    },
    {
      "cell_type": "code",
      "metadata": {
        "id": "WF9PAXs2evTF",
        "colab_type": "code",
        "outputId": "8f2db712-3a43-4b51-a622-3f1bc74e496b",
        "colab": {
          "base_uri": "https://localhost:8080/",
          "height": 34
        }
      },
      "source": [
        "final_df['Review Text'].isna().sum()"
      ],
      "execution_count": 101,
      "outputs": [
        {
          "output_type": "execute_result",
          "data": {
            "text/plain": [
              "231"
            ]
          },
          "metadata": {
            "tags": []
          },
          "execution_count": 101
        }
      ]
    },
    {
      "cell_type": "markdown",
      "metadata": {
        "id": "Rzqr3kBZQ3z5",
        "colab_type": "text"
      },
      "source": [
        "there are in total 238 Nan values"
      ]
    },
    {
      "cell_type": "markdown",
      "metadata": {
        "id": "d9sdk4ifHaPC",
        "colab_type": "text"
      },
      "source": [
        "**Dropping rows with Nan values.**"
      ]
    },
    {
      "cell_type": "code",
      "metadata": {
        "id": "HHPf5EPzfuM-",
        "colab_type": "code",
        "colab": {}
      },
      "source": [
        "final_df=final_df.dropna()"
      ],
      "execution_count": 0,
      "outputs": []
    },
    {
      "cell_type": "markdown",
      "metadata": {
        "id": "-TLcDonWHjbT",
        "colab_type": "text"
      },
      "source": [
        "This is the final Dataframe that will be working on."
      ]
    },
    {
      "cell_type": "code",
      "metadata": {
        "id": "XXXzuogEgAMe",
        "colab_type": "code",
        "outputId": "61e7c0ab-5a1a-46b0-88fe-50a16530473c",
        "colab": {
          "base_uri": "https://localhost:8080/",
          "height": 306
        }
      },
      "source": [
        "final_df.head()"
      ],
      "execution_count": 103,
      "outputs": [
        {
          "output_type": "execute_result",
          "data": {
            "text/html": [
              "<div>\n",
              "<style scoped>\n",
              "    .dataframe tbody tr th:only-of-type {\n",
              "        vertical-align: middle;\n",
              "    }\n",
              "\n",
              "    .dataframe tbody tr th {\n",
              "        vertical-align: top;\n",
              "    }\n",
              "\n",
              "    .dataframe thead th {\n",
              "        text-align: right;\n",
              "    }\n",
              "</style>\n",
              "<table border=\"1\" class=\"dataframe\">\n",
              "  <thead>\n",
              "    <tr style=\"text-align: right;\">\n",
              "      <th></th>\n",
              "      <th>Clothing ID</th>\n",
              "      <th>Age</th>\n",
              "      <th>Review Text</th>\n",
              "      <th>Rating</th>\n",
              "      <th>Recommended IND</th>\n",
              "      <th>Positive Feedback Count</th>\n",
              "      <th>Division Name</th>\n",
              "      <th>Department Name</th>\n",
              "      <th>Class Name</th>\n",
              "      <th>review_len</th>\n",
              "      <th>word_count</th>\n",
              "      <th>Good/bad</th>\n",
              "    </tr>\n",
              "  </thead>\n",
              "  <tbody>\n",
              "    <tr>\n",
              "      <th>2</th>\n",
              "      <td>1077</td>\n",
              "      <td>60</td>\n",
              "      <td>I had such high hopes for this dress and reall...</td>\n",
              "      <td>3</td>\n",
              "      <td>0</td>\n",
              "      <td>0</td>\n",
              "      <td>General</td>\n",
              "      <td>Dresses</td>\n",
              "      <td>Dresses</td>\n",
              "      <td>500</td>\n",
              "      <td>98</td>\n",
              "      <td>1</td>\n",
              "    </tr>\n",
              "    <tr>\n",
              "      <th>5</th>\n",
              "      <td>1080</td>\n",
              "      <td>49</td>\n",
              "      <td>I love tracy reese dresses, but this one is no...</td>\n",
              "      <td>2</td>\n",
              "      <td>0</td>\n",
              "      <td>4</td>\n",
              "      <td>General</td>\n",
              "      <td>Dresses</td>\n",
              "      <td>Dresses</td>\n",
              "      <td>488</td>\n",
              "      <td>98</td>\n",
              "      <td>0</td>\n",
              "    </tr>\n",
              "    <tr>\n",
              "      <th>10</th>\n",
              "      <td>1077</td>\n",
              "      <td>53</td>\n",
              "      <td>Dress runs small esp where the zipper area run...</td>\n",
              "      <td>3</td>\n",
              "      <td>0</td>\n",
              "      <td>14</td>\n",
              "      <td>General</td>\n",
              "      <td>Dresses</td>\n",
              "      <td>Dresses</td>\n",
              "      <td>336</td>\n",
              "      <td>66</td>\n",
              "      <td>1</td>\n",
              "    </tr>\n",
              "    <tr>\n",
              "      <th>22</th>\n",
              "      <td>1077</td>\n",
              "      <td>31</td>\n",
              "      <td>First of all, this is not pullover styling. th...</td>\n",
              "      <td>2</td>\n",
              "      <td>0</td>\n",
              "      <td>7</td>\n",
              "      <td>General</td>\n",
              "      <td>Dresses</td>\n",
              "      <td>Dresses</td>\n",
              "      <td>437</td>\n",
              "      <td>85</td>\n",
              "      <td>0</td>\n",
              "    </tr>\n",
              "    <tr>\n",
              "      <th>25</th>\n",
              "      <td>697</td>\n",
              "      <td>31</td>\n",
              "      <td>Loved the material, but i didnt really look at...</td>\n",
              "      <td>3</td>\n",
              "      <td>0</td>\n",
              "      <td>0</td>\n",
              "      <td>Initmates</td>\n",
              "      <td>Intimate</td>\n",
              "      <td>Lounge</td>\n",
              "      <td>340</td>\n",
              "      <td>69</td>\n",
              "      <td>1</td>\n",
              "    </tr>\n",
              "  </tbody>\n",
              "</table>\n",
              "</div>"
            ],
            "text/plain": [
              "    Clothing ID  Age  ... word_count  Good/bad\n",
              "2          1077   60  ...         98         1\n",
              "5          1080   49  ...         98         0\n",
              "10         1077   53  ...         66         1\n",
              "22         1077   31  ...         85         0\n",
              "25          697   31  ...         69         1\n",
              "\n",
              "[5 rows x 12 columns]"
            ]
          },
          "metadata": {
            "tags": []
          },
          "execution_count": 103
        }
      ]
    },
    {
      "cell_type": "markdown",
      "metadata": {
        "id": "SbGp8nooHqQt",
        "colab_type": "text"
      },
      "source": [
        "**After removing Nan values is the dataset unbiased ?**"
      ]
    },
    {
      "cell_type": "code",
      "metadata": {
        "id": "2iW8k8EMa5y3",
        "colab_type": "code",
        "outputId": "d72904c1-3d6e-4f40-95ce-681774c76e19",
        "colab": {
          "base_uri": "https://localhost:8080/",
          "height": 309
        }
      },
      "source": [
        "fig1, ax1 = plt.subplots()\n",
        "a,b=final_df['Recommended IND'].value_counts()\n",
        "sizes=[a,b]\n",
        "labels=[a,b]\n",
        "ax1.pie(sizes, labels=labels, autopct='%1.1f%%')\n",
        "ax1.axis('equal')  # Equal aspect ratio ensures that pie is drawn as a circle.\n",
        "plt.show()\n",
        "final_df['Recommended IND'].value_counts()"
      ],
      "execution_count": 104,
      "outputs": [
        {
          "output_type": "display_data",
          "data": {
            "image/png": "[encoded data removed]",
            "text/plain": [
              "<Figure size 432x288 with 1 Axes>"
            ]
          },
          "metadata": {
            "tags": []
          }
        },
        {
          "output_type": "execute_result",
          "data": {
            "text/plain": [
              "0    4101\n",
              "1    4012\n",
              "Name: Recommended IND, dtype: int64"
            ]
          },
          "metadata": {
            "tags": []
          },
          "execution_count": 104
        }
      ]
    },
    {
      "cell_type": "markdown",
      "metadata": {
        "id": "B7xMhOTaHzxA",
        "colab_type": "text"
      },
      "source": [
        "yes the dataset remains unbiased with a small variation."
      ]
    },
    {
      "cell_type": "code",
      "metadata": {
        "id": "jz-E6hJjldhS",
        "colab_type": "code",
        "outputId": "a3e7a45c-11f8-4603-f0be-c26000162b64",
        "colab": {
          "base_uri": "https://localhost:8080/",
          "height": 306
        }
      },
      "source": [
        "final_df.head()"
      ],
      "execution_count": 105,
      "outputs": [
        {
          "output_type": "execute_result",
          "data": {
            "text/html": [
              "<div>\n",
              "<style scoped>\n",
              "    .dataframe tbody tr th:only-of-type {\n",
              "        vertical-align: middle;\n",
              "    }\n",
              "\n",
              "    .dataframe tbody tr th {\n",
              "        vertical-align: top;\n",
              "    }\n",
              "\n",
              "    .dataframe thead th {\n",
              "        text-align: right;\n",
              "    }\n",
              "</style>\n",
              "<table border=\"1\" class=\"dataframe\">\n",
              "  <thead>\n",
              "    <tr style=\"text-align: right;\">\n",
              "      <th></th>\n",
              "      <th>Clothing ID</th>\n",
              "      <th>Age</th>\n",
              "      <th>Review Text</th>\n",
              "      <th>Rating</th>\n",
              "      <th>Recommended IND</th>\n",
              "      <th>Positive Feedback Count</th>\n",
              "      <th>Division Name</th>\n",
              "      <th>Department Name</th>\n",
              "      <th>Class Name</th>\n",
              "      <th>review_len</th>\n",
              "      <th>word_count</th>\n",
              "      <th>Good/bad</th>\n",
              "    </tr>\n",
              "  </thead>\n",
              "  <tbody>\n",
              "    <tr>\n",
              "      <th>2</th>\n",
              "      <td>1077</td>\n",
              "      <td>60</td>\n",
              "      <td>I had such high hopes for this dress and reall...</td>\n",
              "      <td>3</td>\n",
              "      <td>0</td>\n",
              "      <td>0</td>\n",
              "      <td>General</td>\n",
              "      <td>Dresses</td>\n",
              "      <td>Dresses</td>\n",
              "      <td>500</td>\n",
              "      <td>98</td>\n",
              "      <td>1</td>\n",
              "    </tr>\n",
              "    <tr>\n",
              "      <th>5</th>\n",
              "      <td>1080</td>\n",
              "      <td>49</td>\n",
              "      <td>I love tracy reese dresses, but this one is no...</td>\n",
              "      <td>2</td>\n",
              "      <td>0</td>\n",
              "      <td>4</td>\n",
              "      <td>General</td>\n",
              "      <td>Dresses</td>\n",
              "      <td>Dresses</td>\n",
              "      <td>488</td>\n",
              "      <td>98</td>\n",
              "      <td>0</td>\n",
              "    </tr>\n",
              "    <tr>\n",
              "      <th>10</th>\n",
              "      <td>1077</td>\n",
              "      <td>53</td>\n",
              "      <td>Dress runs small esp where the zipper area run...</td>\n",
              "      <td>3</td>\n",
              "      <td>0</td>\n",
              "      <td>14</td>\n",
              "      <td>General</td>\n",
              "      <td>Dresses</td>\n",
              "      <td>Dresses</td>\n",
              "      <td>336</td>\n",
              "      <td>66</td>\n",
              "      <td>1</td>\n",
              "    </tr>\n",
              "    <tr>\n",
              "      <th>22</th>\n",
              "      <td>1077</td>\n",
              "      <td>31</td>\n",
              "      <td>First of all, this is not pullover styling. th...</td>\n",
              "      <td>2</td>\n",
              "      <td>0</td>\n",
              "      <td>7</td>\n",
              "      <td>General</td>\n",
              "      <td>Dresses</td>\n",
              "      <td>Dresses</td>\n",
              "      <td>437</td>\n",
              "      <td>85</td>\n",
              "      <td>0</td>\n",
              "    </tr>\n",
              "    <tr>\n",
              "      <th>25</th>\n",
              "      <td>697</td>\n",
              "      <td>31</td>\n",
              "      <td>Loved the material, but i didnt really look at...</td>\n",
              "      <td>3</td>\n",
              "      <td>0</td>\n",
              "      <td>0</td>\n",
              "      <td>Initmates</td>\n",
              "      <td>Intimate</td>\n",
              "      <td>Lounge</td>\n",
              "      <td>340</td>\n",
              "      <td>69</td>\n",
              "      <td>1</td>\n",
              "    </tr>\n",
              "  </tbody>\n",
              "</table>\n",
              "</div>"
            ],
            "text/plain": [
              "    Clothing ID  Age  ... word_count  Good/bad\n",
              "2          1077   60  ...         98         1\n",
              "5          1080   49  ...         98         0\n",
              "10         1077   53  ...         66         1\n",
              "22         1077   31  ...         85         0\n",
              "25          697   31  ...         69         1\n",
              "\n",
              "[5 rows x 12 columns]"
            ]
          },
          "metadata": {
            "tags": []
          },
          "execution_count": 105
        }
      ]
    },
    {
      "cell_type": "markdown",
      "metadata": {
        "id": "BYVJ5EhfIOS7",
        "colab_type": "text"
      },
      "source": [
        "# Visualising data for better understanding"
      ]
    },
    {
      "cell_type": "markdown",
      "metadata": {
        "id": "JKIE4nUWFtf7",
        "colab_type": "text"
      },
      "source": [
        "**Class name**: *it is type of product*"
      ]
    },
    {
      "cell_type": "markdown",
      "metadata": {
        "id": "nEVgtHc7iqo3",
        "colab_type": "text"
      },
      "source": [
        "Understanding Class Name with a count plot, which will tell us what product is womens favourite.."
      ]
    },
    {
      "cell_type": "code",
      "metadata": {
        "id": "gRcJpZrnzIMz",
        "colab_type": "code",
        "outputId": "bbfca687-8657-4f91-c52a-65d8e0467803",
        "colab": {
          "base_uri": "https://localhost:8080/",
          "height": 363
        }
      },
      "source": [
        "ax = sns.countplot(x=\"Class Name\", data=df)\n",
        "ax=ax.set_xticklabels(ax.get_xticklabels(), rotation=90)\n",
        "plt.title('Class Name Vs count')\n",
        "plt.show()"
      ],
      "execution_count": 19,
      "outputs": [
        {
          "output_type": "display_data",
          "data": {
            "image/png": "[encoded data removed]",
            "text/plain": [
              "<Figure size 432x288 with 1 Axes>"
            ]
          },
          "metadata": {
            "tags": [],
            "needs_background": "light"
          }
        }
      ]
    },
    {
      "cell_type": "markdown",
      "metadata": {
        "id": "z5gvNqI00xBj",
        "colab_type": "text"
      },
      "source": [
        "Hmm.. so dresses are ladies favourite with a count of 6000+"
      ]
    },
    {
      "cell_type": "markdown",
      "metadata": {
        "id": "udm9TBfeFzhT",
        "colab_type": "text"
      },
      "source": [
        "**Age**: *its the age of the reviewer*"
      ]
    },
    {
      "cell_type": "markdown",
      "metadata": {
        "id": "B6s9MJMVjDaY",
        "colab_type": "text"
      },
      "source": [
        "Understanding Age group which will tell us what age group shops the msot."
      ]
    },
    {
      "cell_type": "code",
      "metadata": {
        "id": "G3ooeIaMzv8o",
        "colab_type": "code",
        "outputId": "bacfee44-71d0-44e2-cabb-d8aa6b833a6e",
        "colab": {
          "base_uri": "https://localhost:8080/",
          "height": 295
        }
      },
      "source": [
        "df['Age'].hist()\n",
        "plt.xlabel('Age')\n",
        "plt.ylabel('count')\n",
        "plt.title('Age Vs count')\n",
        "plt.show()"
      ],
      "execution_count": 20,
      "outputs": [
        {
          "output_type": "display_data",
          "data": {
            "image/png": "[encoded data removed]",
            "text/plain": [
              "<Figure size 432x288 with 1 Axes>"
            ]
          },
          "metadata": {
            "tags": [],
            "needs_background": "light"
          }
        }
      ]
    },
    {
      "cell_type": "markdown",
      "metadata": {
        "id": "JYTlO8iO3Enp",
        "colab_type": "text"
      },
      "source": [
        "Hmm.. So ladies in the age group of 35-45 are shopaholic 😜"
      ]
    },
    {
      "cell_type": "markdown",
      "metadata": {
        "id": "D7de37lzF2Lw",
        "colab_type": "text"
      },
      "source": [
        "**Rating**: *Its the 5 star rating which is found these days in every other E-Commerce sites.* "
      ]
    },
    {
      "cell_type": "markdown",
      "metadata": {
        "id": "pdBCVj-6jRuu",
        "colab_type": "text"
      },
      "source": [
        "Understanding Rating using count plot, so that we can see which rating is most common among the "
      ]
    },
    {
      "cell_type": "code",
      "metadata": {
        "id": "q6jmZordvGJe",
        "colab_type": "code",
        "outputId": "c15d79a8-7060-437b-ff59-313d03fcd62a",
        "colab": {
          "base_uri": "https://localhost:8080/",
          "height": 295
        }
      },
      "source": [
        "ax1 = sns.countplot(x=\"Rating\", data=df)\n",
        "plt.title('Rating vs Count')\n",
        "plt.show()"
      ],
      "execution_count": 21,
      "outputs": [
        {
          "output_type": "display_data",
          "data": {
            "image/png": "[encoded data removed]",
            "text/plain": [
              "<Figure size 432x288 with 1 Axes>"
            ]
          },
          "metadata": {
            "tags": [],
            "needs_background": "light"
          }
        }
      ]
    },
    {
      "cell_type": "markdown",
      "metadata": {
        "id": "doOqChRrvbEe",
        "colab_type": "text"
      },
      "source": [
        "there are more 5 rated items in the dataset(around 50% ratings are 5)"
      ]
    },
    {
      "cell_type": "markdown",
      "metadata": {
        "id": "ULrCztTpGVft",
        "colab_type": "text"
      },
      "source": [
        "**positive feedbacks count**: *its the number of +ve feedback counts recieved by a particular product.*"
      ]
    },
    {
      "cell_type": "code",
      "metadata": {
        "id": "8XdX6z0GNaGB",
        "colab_type": "code",
        "outputId": "ff49fd6a-ae95-463f-82b4-22b5c3e4f0a8",
        "colab": {
          "base_uri": "https://localhost:8080/",
          "height": 279
        }
      },
      "source": [
        "sns.distplot(df['Positive Feedback Count'])\n",
        "plt.show()"
      ],
      "execution_count": 22,
      "outputs": [
        {
          "output_type": "display_data",
          "data": {
            "image/png": "[encoded data removed]",
            "text/plain": [
              "<Figure size 432x288 with 1 Axes>"
            ]
          },
          "metadata": {
            "tags": [],
            "needs_background": "light"
          }
        }
      ]
    },
    {
      "cell_type": "markdown",
      "metadata": {
        "id": "-A5BwG4bNwdF",
        "colab_type": "text"
      },
      "source": [
        "**How positive feedback and classname are related ?**"
      ]
    },
    {
      "cell_type": "code",
      "metadata": {
        "id": "35oD1iw84eTa",
        "colab_type": "code",
        "colab": {}
      },
      "source": [
        "l=df['Class Name'].unique().tolist()\n",
        "d={}\n",
        "for i in l:\n",
        "  a=df.loc[df['Class Name'] == i ,'Positive Feedback Count'].sum()\n",
        "  d[i]=a"
      ],
      "execution_count": 0,
      "outputs": []
    },
    {
      "cell_type": "code",
      "metadata": {
        "id": "_deuSzTICZq6",
        "colab_type": "code",
        "outputId": "3d49e41d-e1e0-4498-ffd4-f4bc6c743cbe",
        "colab": {
          "base_uri": "https://localhost:8080/",
          "height": 363
        }
      },
      "source": [
        "keys = list(d.keys())\n",
        "values = list(d.values())\n",
        "sns.barplot(keys,values)\n",
        "plt.xticks(rotation=90)\n",
        "plt.ylabel('+ve feedback count')\n",
        "plt.xlabel('Class Name')\n",
        "plt.title('Class Name Vs Positive feedback count')\n",
        "plt.show()"
      ],
      "execution_count": 24,
      "outputs": [
        {
          "output_type": "display_data",
          "data": {
            "image/png": "[encoded data removed]",
            "text/plain": [
              "<Figure size 432x288 with 1 Axes>"
            ]
          },
          "metadata": {
            "tags": [],
            "needs_background": "light"
          }
        }
      ]
    },
    {
      "cell_type": "markdown",
      "metadata": {
        "id": "_EiRolAmmQcz",
        "colab_type": "text"
      },
      "source": [
        "So Dresses have the most positive feedbacks"
      ]
    },
    {
      "cell_type": "markdown",
      "metadata": {
        "id": "gXf2Za5AiZLj",
        "colab_type": "text"
      },
      "source": [
        "**Higher Rating ---> Higher reccomendation ???**\n",
        "\n",
        "Lets find out..."
      ]
    },
    {
      "cell_type": "code",
      "metadata": {
        "id": "rxC0NkWynoTi",
        "colab_type": "code",
        "outputId": "75ad4d29-1247-414a-997c-8789cd6e49d6",
        "colab": {
          "base_uri": "https://localhost:8080/",
          "height": 34
        }
      },
      "source": [
        "li=df['Rating'].unique().tolist()\n",
        "di={}\n",
        "for i in li:\n",
        "  a=df.loc[df['Rating'] == i ,'Recommended IND'].sum()\n",
        "  di[i]=a\n",
        "di"
      ],
      "execution_count": 25,
      "outputs": [
        {
          "output_type": "execute_result",
          "data": {
            "text/plain": [
              "{1: 16, 2: 94, 3: 1189, 4: 4909, 5: 13106}"
            ]
          },
          "metadata": {
            "tags": []
          },
          "execution_count": 25
        }
      ]
    },
    {
      "cell_type": "markdown",
      "metadata": {
        "id": "dtOng6EWRy9z",
        "colab_type": "text"
      },
      "source": [
        "Here I have created a dictionary with Recommendation count for each star rating. "
      ]
    },
    {
      "cell_type": "code",
      "metadata": {
        "id": "uGamtTKshmrU",
        "colab_type": "code",
        "outputId": "8c0bb525-4e81-4f8b-dc86-f3ace9d925c3",
        "colab": {
          "base_uri": "https://localhost:8080/",
          "height": 295
        }
      },
      "source": [
        "keys = list(di.keys())\n",
        "values = list(di.values())\n",
        "sns.barplot(keys,values)\n",
        "plt.ylabel('Reccomendation count')\n",
        "plt.xlabel('Rating')\n",
        "plt.title('Reccomendation Count Vs Rating')\n",
        "plt.show()"
      ],
      "execution_count": 26,
      "outputs": [
        {
          "output_type": "display_data",
          "data": {
            "image/png": "[encoded data removed]",
            "text/plain": [
              "<Figure size 432x288 with 1 Axes>"
            ]
          },
          "metadata": {
            "tags": [],
            "needs_background": "light"
          }
        }
      ]
    },
    {
      "cell_type": "markdown",
      "metadata": {
        "id": "5YWi2xQ4irI4",
        "colab_type": "text"
      },
      "source": [
        "Yes that turns out true !! higher rating turns out to have higher reccomendation."
      ]
    },
    {
      "cell_type": "markdown",
      "metadata": {
        "id": "9u5fUSxPN8rC",
        "colab_type": "text"
      },
      "source": [
        "**Does high rating means more +ve Feedbacks ???**"
      ]
    },
    {
      "cell_type": "code",
      "metadata": {
        "id": "spddmAsTe9EM",
        "colab_type": "code",
        "outputId": "09a9dbe4-781e-42c3-92ec-ef3eb11a6ee4",
        "colab": {
          "base_uri": "https://localhost:8080/",
          "height": 295
        }
      },
      "source": [
        "li=df['Rating'].unique().tolist()\n",
        "di={}\n",
        "for i in li:\n",
        "  a=df.loc[df['Rating'] == i ,'Positive Feedback Count'].sum()\n",
        "  di[i]=a\n",
        "keys = list(di.keys())\n",
        "values = list(di.values())\n",
        "sns.barplot(keys,values)\n",
        "plt.ylabel('Positive feedback count')\n",
        "plt.xlabel('Rating')\n",
        "plt.title('Positive feedback Count Vs Rating')\n",
        "plt.show()"
      ],
      "execution_count": 27,
      "outputs": [
        {
          "output_type": "display_data",
          "data": {
            "image/png": "[encoded data removed]",
            "text/plain": [
              "<Figure size 432x288 with 1 Axes>"
            ]
          },
          "metadata": {
            "tags": [],
            "needs_background": "light"
          }
        }
      ]
    },
    {
      "cell_type": "markdown",
      "metadata": {
        "id": "zqUkA29Lf0f9",
        "colab_type": "text"
      },
      "source": [
        "As expected 5 stars have more +ve feedbacks."
      ]
    },
    {
      "cell_type": "markdown",
      "metadata": {
        "id": "VNf6F-Q_Oa3d",
        "colab_type": "text"
      },
      "source": [
        "**What is the count of ratings recieved by each class ??**"
      ]
    },
    {
      "cell_type": "markdown",
      "metadata": {
        "id": "QwRXJIzCOrty",
        "colab_type": "text"
      },
      "source": [
        "For example how many 5 star ratings for class 'Dresses' ?"
      ]
    },
    {
      "cell_type": "code",
      "metadata": {
        "id": "YoSSdvM8f9az",
        "colab_type": "code",
        "outputId": "60ba90fe-d595-45f9-fe0b-529947046551",
        "colab": {
          "base_uri": "https://localhost:8080/",
          "height": 357
        }
      },
      "source": [
        "li=df['Class Name'].unique().tolist()\n",
        "di={}\n",
        "dict1={}\n",
        "dict2={}\n",
        "c1=c2=c3=c4=c5=0\n",
        "for i in li:\n",
        "  a=df.loc[df['Class Name'] == i ,'Rating']\n",
        "  d[i]=a\n",
        "for i in li:\n",
        "  for t in list(d[i]):\n",
        "    c=t\n",
        "    if c==1:\n",
        "      c1+=1\n",
        "      b=c1\n",
        "    elif c==2:\n",
        "      c2+=1\n",
        "      b=c2\n",
        "    elif c==3:\n",
        "      c3+=1\n",
        "      b=c3\n",
        "    elif c==4:\n",
        "      c4+=1\n",
        "      b=c4\n",
        "    else:\n",
        "      c5+=1\n",
        "      b=c5\n",
        "    dict1={c:b}\n",
        "    dict2.update(dict1)\n",
        "    di[i]=dict2\n",
        "  dict2={}\n",
        "  c1=c2=c3=c4=c5=0\n",
        "di"
      ],
      "execution_count": 0,
      "outputs": [
        {
          "output_type": "execute_result",
          "data": {
            "text/plain": [
              "{'Blouses': {1: 119, 2: 229, 3: 394, 4: 669, 5: 1686},\n",
              " 'Casual bottoms': {4: 1, 5: 1},\n",
              " 'Chemises': {4: 1},\n",
              " 'Dresses': {1: 228, 2: 461, 3: 838, 4: 1395, 5: 3397},\n",
              " 'Fine gauge': {1: 30, 2: 75, 3: 119, 4: 230, 5: 646},\n",
              " 'Intimates': {1: 7, 2: 8, 3: 16, 4: 27, 5: 96},\n",
              " 'Jackets': {1: 35, 2: 38, 3: 62, 4: 118, 5: 451},\n",
              " 'Jeans': {1: 30, 2: 55, 3: 115, 4: 218, 5: 729},\n",
              " 'Knits': {1: 178, 2: 328, 3: 616, 4: 1132, 5: 2589},\n",
              " 'Layering': {1: 3, 2: 8, 3: 9, 4: 37, 5: 89},\n",
              " 'Legwear': {1: 10, 2: 6, 3: 16, 4: 29, 5: 104},\n",
              " 'Lounge': {1: 23, 2: 25, 3: 78, 4: 160, 5: 405},\n",
              " 'Outerwear': {1: 14, 2: 22, 3: 29, 4: 83, 5: 180},\n",
              " 'Pants': {1: 42, 2: 82, 3: 157, 4: 291, 5: 816},\n",
              " 'Shorts': {1: 9, 2: 17, 3: 41, 4: 67, 5: 183},\n",
              " 'Skirts': {1: 34, 2: 51, 3: 108, 4: 208, 5: 544},\n",
              " 'Sleep': {1: 10, 2: 15, 3: 17, 4: 44, 5: 142},\n",
              " 'Sweaters': {1: 49, 2: 106, 3: 195, 4: 268, 5: 810},\n",
              " 'Swim': {1: 10, 2: 28, 3: 42, 4: 73, 5: 197},\n",
              " 'Trend': {1: 11, 2: 11, 3: 19, 4: 26, 5: 52}}"
            ]
          },
          "metadata": {
            "tags": []
          },
          "execution_count": 27
        }
      ]
    },
    {
      "cell_type": "markdown",
      "metadata": {
        "id": "CUku5ZfdO-vd",
        "colab_type": "text"
      },
      "source": [
        "here i have created a 2 dimensional dictionary which contains the count of star ratings for each class.\n",
        "\n",
        "For example: \n",
        "\n",
        "'Fine gauge': {1: 30, 2: 75, 3: 119, 4: 230, 5: 646}\n",
        "\n",
        "'Fine guage' has 30 '1' star rating 75 '2' star etc."
      ]
    },
    {
      "cell_type": "code",
      "metadata": {
        "id": "rC6fNQ_tPdUz",
        "colab_type": "code",
        "outputId": "d6a62ed6-bc22-4ba0-d90b-b36ae253c9d5",
        "colab": {
          "base_uri": "https://localhost:8080/",
          "height": 548
        }
      },
      "source": [
        "pd.DataFrame(di).plot(kind='bar',figsize=(18,9))\n",
        "plt.xlabel('Rating and class names')\n",
        "plt.ylabel('count')\n",
        "plt.show()"
      ],
      "execution_count": 0,
      "outputs": [
        {
          "output_type": "display_data",
          "data": {
            "image/png": "[encoded data removed]",
            "text/plain": [
              "<Figure size 1296x648 with 1 Axes>"
            ]
          },
          "metadata": {
            "tags": [],
            "needs_background": "light"
          }
        }
      ]
    },
    {
      "cell_type": "markdown",
      "metadata": {
        "id": "zVOAi8S6ENCz",
        "colab_type": "text"
      },
      "source": [
        "This graph shows the count of rating for each class Name.\n",
        "In each rating count of all the class names are plotted.\n",
        "\n",
        "Here we can see that in all the ratings class 'Dresses' is dominating as it is bought more. The count is more in 5 star rating and count gradually decreases in lower rating which is good."
      ]
    },
    {
      "cell_type": "markdown",
      "metadata": {
        "id": "YZImhoeJlqRT",
        "colab_type": "text"
      },
      "source": [
        "**Distribution of word count**"
      ]
    },
    {
      "cell_type": "code",
      "metadata": {
        "id": "ODS6hSC2lnFo",
        "colab_type": "code",
        "outputId": "0ddeecd7-ae3b-4a75-96b7-4d8b9b681ab2",
        "colab": {
          "base_uri": "https://localhost:8080/",
          "height": 295
        }
      },
      "source": [
        "final_df['word_count'].plot(kind='hist',grid=True,bins=50)\n",
        "plt.title('Distribution of word count')\n",
        "plt.xlabel('words')\n",
        "plt.show()"
      ],
      "execution_count": 0,
      "outputs": [
        {
          "output_type": "display_data",
          "data": {
            "image/png": "[encoded data removed]",
            "text/plain": [
              "<Figure size 432x288 with 1 Axes>"
            ]
          },
          "metadata": {
            "tags": [],
            "needs_background": "light"
          }
        }
      ]
    },
    {
      "cell_type": "markdown",
      "metadata": {
        "id": "8Oe9X1xIG4By",
        "colab_type": "text"
      },
      "source": [
        "There are quite a number of people with long reviews."
      ]
    },
    {
      "cell_type": "markdown",
      "metadata": {
        "id": "ehDBmfpuTZkj",
        "colab_type": "text"
      },
      "source": [
        "**Distribution of Review length**"
      ]
    },
    {
      "cell_type": "code",
      "metadata": {
        "id": "LOtTXmy1GLMP",
        "colab_type": "code",
        "outputId": "ac4ef42f-01c5-4263-a313-376537a9c4ae",
        "colab": {
          "base_uri": "https://localhost:8080/",
          "height": 295
        }
      },
      "source": [
        "final_df['review_len'].plot(kind='hist',grid=True,bins=50)\n",
        "plt.title('Distribution of review text length')\n",
        "plt.xlabel('review length')\n",
        "plt.show()"
      ],
      "execution_count": 0,
      "outputs": [
        {
          "output_type": "display_data",
          "data": {
            "image/png": "[encoded data removed]",
            "text/plain": [
              "<Figure size 432x288 with 1 Axes>"
            ]
          },
          "metadata": {
            "tags": [],
            "needs_background": "light"
          }
        }
      ]
    },
    {
      "cell_type": "markdown",
      "metadata": {
        "id": "zDg7GbV7H4C7",
        "colab_type": "text"
      },
      "source": [
        "There were almost 1600 people with 500 characters long reviews where as all other reviews are below 200 characters.\n",
        "\n",
        "We can see that word-count and review-length are very differently distributed."
      ]
    },
    {
      "cell_type": "markdown",
      "metadata": {
        "id": "tr7HRV6jgS0q",
        "colab_type": "text"
      },
      "source": [
        " **Does word count have any relation with Recommended IND ?**"
      ]
    },
    {
      "cell_type": "code",
      "metadata": {
        "id": "FovH9mnzggol",
        "colab_type": "code",
        "outputId": "1e120354-ba56-4904-c2f6-29cf9457a370",
        "colab": {
          "base_uri": "https://localhost:8080/",
          "height": 295
        }
      },
      "source": [
        "# final_df.groupby('word_count').count()['Recommended IND'].plot(kind='hist',grid=True)\n",
        "# plt.xlabel('Word count')\n",
        "# plt.ylabel('Recommended count') \n",
        "di={}\n",
        "li=[]\n",
        "li=final_df['word_count'].unique().tolist()\n",
        "for i in li:\n",
        "  a=final_df.loc[final_df['word_count'] == i ,'Recommended IND'].sum()\n",
        "  di[i]=a\n",
        "values=list(di.values())\n",
        "plt.hist(values,bins=50)\n",
        "plt.xlabel('word count')\n",
        "plt.ylabel('frequency of reccomendation')\n",
        "plt.title('word count vs Recommendation')\n",
        "plt.show()"
      ],
      "execution_count": 0,
      "outputs": [
        {
          "output_type": "display_data",
          "data": {
            "image/png": "[encoded data removed]",
            "text/plain": [
              "<Figure size 432x288 with 1 Axes>"
            ]
          },
          "metadata": {
            "tags": [],
            "needs_background": "light"
          }
        }
      ]
    },
    {
      "cell_type": "markdown",
      "metadata": {
        "id": "OwMzy9q6290d",
        "colab_type": "text"
      },
      "source": [
        "We can see that reviews with word-count near 40 have highehst recommendarion count. So reviews with word-count near to 40 are are most likely to be recommended."
      ]
    },
    {
      "cell_type": "code",
      "metadata": {
        "id": "DIdenIAHtqJi",
        "colab_type": "code",
        "outputId": "4cee445e-1e1c-4043-f6cc-e848c519902e",
        "colab": {
          "base_uri": "https://localhost:8080/",
          "height": 350
        }
      },
      "source": [
        "plt.figure(figsize=(15,5))\n",
        "plt.subplot(1,2,1)\n",
        "sns.countplot(df['Division Name'])\n",
        "plt.title(\"Division name count plot\")\n",
        "plt.subplot(1,2,2)\n",
        "sns.countplot(df['Department Name'])\n",
        "plt.title(\"Department name count plot\")\n",
        "plt.show()"
      ],
      "execution_count": 0,
      "outputs": [
        {
          "output_type": "display_data",
          "data": {
            "image/png": "[encoded data removed]",
            "text/plain": [
              "<Figure size 1080x360 with 2 Axes>"
            ]
          },
          "metadata": {
            "tags": [],
            "needs_background": "light"
          }
        }
      ]
    },
    {
      "cell_type": "markdown",
      "metadata": {
        "id": "6fXOIqpcwO4k",
        "colab_type": "text"
      },
      "source": [
        "**Interpreting count plot of Divsion name** \n",
        ">categories: General, Petite, and Intimates. This offers some insight into the clothing sizes of the customers leaving reviews.\n",
        "\n",
        "**Interpreting count plot of Department name**\n",
        ">Tops and dresses are the most reviewed products"
      ]
    },
    {
      "cell_type": "markdown",
      "metadata": {
        "id": "UCaP9J9IxwZJ",
        "colab_type": "text"
      },
      "source": [
        "**How many products are good or bad ??**"
      ]
    },
    {
      "cell_type": "code",
      "metadata": {
        "id": "OVNpGCJ_vGuv",
        "colab_type": "code",
        "outputId": "31dee32c-2ee2-4d32-b485-c6049f327ade",
        "colab": {
          "base_uri": "https://localhost:8080/",
          "height": 313
        }
      },
      "source": [
        "sns.countplot(df['Good/bad'])\n",
        "plt.show()\n",
        "print(\"1-> Good\\n0-> Bad\")"
      ],
      "execution_count": 0,
      "outputs": [
        {
          "output_type": "display_data",
          "data": {
            "image/png": "[encoded data removed]",
            "text/plain": [
              "<Figure size 432x288 with 1 Axes>"
            ]
          },
          "metadata": {
            "tags": [],
            "needs_background": "light"
          }
        },
        {
          "output_type": "stream",
          "text": [
            "1-> Good\n",
            "0-> Bad\n"
          ],
          "name": "stdout"
        }
      ]
    },
    {
      "cell_type": "markdown",
      "metadata": {
        "id": "o4dUKpdnvvCT",
        "colab_type": "text"
      },
      "source": [
        "Rating above 3 is termed as good product otherwise bad product.\n",
        "\n",
        "We can see majority of the products are termed as good."
      ]
    },
    {
      "cell_type": "markdown",
      "metadata": {
        "id": "TliH3xIe2Cj7",
        "colab_type": "text"
      },
      "source": [
        "**All the good products are recommended ??**"
      ]
    },
    {
      "cell_type": "code",
      "metadata": {
        "id": "yml5fMsfyFHJ",
        "colab_type": "code",
        "outputId": "61a10423-18af-45a4-a155-bb28d7ea724c",
        "colab": {
          "base_uri": "https://localhost:8080/",
          "height": 312
        }
      },
      "source": [
        "li=[0,1]\n",
        "di={}\n",
        "for i in li:\n",
        "  a=df.loc[df['Good/bad'] == i ,'Recommended IND'].sum()\n",
        "  di[i]=a\n",
        "keys = list(di.keys())\n",
        "values = list(di.values())\n",
        "sns.barplot(keys,values)\n",
        "plt.ylabel('Reccomendation count')\n",
        "plt.xlabel('good/bad')\n",
        "plt.title('Reccomendation Count Vs good/bad')\n",
        "plt.show()\n",
        "di"
      ],
      "execution_count": 0,
      "outputs": [
        {
          "output_type": "display_data",
          "data": {
            "image/png": "[encoded data removed]",
            "text/plain": [
              "<Figure size 432x288 with 1 Axes>"
            ]
          },
          "metadata": {
            "tags": [],
            "needs_background": "light"
          }
        },
        {
          "output_type": "execute_result",
          "data": {
            "text/plain": [
              "{0: 110, 1: 19204}"
            ]
          },
          "metadata": {
            "tags": []
          },
          "execution_count": 34
        }
      ]
    },
    {
      "cell_type": "markdown",
      "metadata": {
        "id": "3dbvnYqpzF_R",
        "colab_type": "text"
      },
      "source": [
        "We can say that products which are good are recommended."
      ]
    },
    {
      "cell_type": "markdown",
      "metadata": {
        "id": "3dPLvIzK0Ch9",
        "colab_type": "text"
      },
      "source": [
        "**Does Clothing ID have some pattern ??**\n",
        "\n",
        "Lets see..."
      ]
    },
    {
      "cell_type": "code",
      "metadata": {
        "id": "oZ7xAGj20UCW",
        "colab_type": "code",
        "outputId": "b966f66b-33eb-40c2-e2b9-e7d8ddab2eb4",
        "colab": {
          "base_uri": "https://localhost:8080/",
          "height": 473
        }
      },
      "source": [
        "f, axes = plt.subplots(1,2, figsize=[14,7])\n",
        "num = 30\n",
        "sns.countplot(y=\"Clothing ID\", data = df[df[\"Clothing ID\"].isin(df[\"Clothing ID\"].value_counts()[:num].index)],\n",
        "              order= df[\"Clothing ID\"].value_counts()[:num].index, ax=axes[0])\n",
        "axes[0].set_title(\"Frequency Count of Clothing ID\\nTop 30\")\n",
        "axes[0].set_xlabel(\"Count\")\n",
        "\n",
        "sns.countplot(y=\"Clothing ID\", data = df[df[\"Clothing ID\"].isin(df[\"Clothing ID\"].value_counts()[num:60].index)],\n",
        "              order= df[\"Clothing ID\"].value_counts()[num:60].index, ax=axes[1])\n",
        "axes[1].set_title(\"Frequency Count of Clothing ID\\nTop 30 to 60\")\n",
        "axes[1].set_ylabel(\"\")\n",
        "axes[1].set_xlabel(\"Count\")\n",
        "plt.show()"
      ],
      "execution_count": 0,
      "outputs": [
        {
          "output_type": "display_data",
          "data": {
            "image/png": "[encoded data removed]",
            "text/plain": [
              "<Figure size 1008x504 with 2 Axes>"
            ]
          },
          "metadata": {
            "tags": [],
            "needs_background": "light"
          }
        }
      ]
    },
    {
      "cell_type": "markdown",
      "metadata": {
        "id": "kjvTaYSO1hvx",
        "colab_type": "text"
      },
      "source": [
        "clothing Id 1078 is very popular among the customers"
      ]
    },
    {
      "cell_type": "markdown",
      "metadata": {
        "id": "Sr_QHeNsZufd",
        "colab_type": "text"
      },
      "source": [
        "# Cleaning text & making a vocabulary"
      ]
    },
    {
      "cell_type": "markdown",
      "metadata": {
        "id": "oUUfOIZbvm08",
        "colab_type": "text"
      },
      "source": [
        "**Cleaning text review**\n",
        "\n",
        "> clean_word() takes words and removes any special character(,/.*\\%$#@-!_) so that cleaned words can be retreived for training the model."
      ]
    },
    {
      "cell_type": "code",
      "metadata": {
        "id": "QXhYjC2uh16o",
        "colab_type": "code",
        "colab": {}
      },
      "source": [
        "#Function to clean token vector of symbols\n",
        "\n",
        "def clean_word(word_list):\n",
        "  new = []\n",
        "  for i, word in enumerate(word_list):\n",
        "    word = word.replace('.', '')\n",
        "    word = word.replace('-', '')\n",
        "    word = word.replace(',', '')\n",
        "    word = word.replace(';', '')\n",
        "    word=word.replace('!','')\n",
        "    word=word.replace('@','')\n",
        "    word=word.replace('$','')\n",
        "    word=word.replace('_','')\n",
        "    word=word.replace('%','')\n",
        "    word=word.replace('*','')\n",
        "    word=word.replace('?','')\n",
        "    word=word.replace('#','')\n",
        "    word=word.replace('\\r','')\n",
        "    word=word.replace('\\n','')\n",
        "    word=word.replace('\\t','')\n",
        "    word=word.replace('/','')\n",
        "\n",
        "    # all the words are made to lower case as letters can be capital at the start of a sentence,\n",
        "    # thus both the words would be considered different. To avoid this, converting all the words to lower case.\n",
        "    word = word.lower()\n",
        "    if word.isalpha() or word.isdigit():\n",
        "      new.append(word)\n",
        "    \n",
        "  return new"
      ],
      "execution_count": 0,
      "outputs": []
    },
    {
      "cell_type": "markdown",
      "metadata": {
        "id": "KUPXMbI0BDuV",
        "colab_type": "text"
      },
      "source": [
        "Tokenize each sentence , all the words are appended in a list of list.\n",
        "\n",
        "**Tokenize** :*break (text) into individual linguistic units.*"
      ]
    },
    {
      "cell_type": "code",
      "metadata": {
        "id": "DUCHBrYfwIBK",
        "colab_type": "code",
        "colab": {}
      },
      "source": [
        "text = final_df['Review Text'].values\n",
        "text_arr = [row.split(' ') for row in text]"
      ],
      "execution_count": 0,
      "outputs": []
    },
    {
      "cell_type": "markdown",
      "metadata": {
        "id": "YhOT8Ry-wIYq",
        "colab_type": "text"
      },
      "source": [
        "**Creating a vocabulary of words**"
      ]
    },
    {
      "cell_type": "markdown",
      "metadata": {
        "id": "PDEm3wAyAJLh",
        "colab_type": "text"
      },
      "source": [
        "![alt text](https://learnenglish.britishcouncil.org/sites/podcasts/files/styles/article/public/GettyImages-1166859687%20%281%29.jpg?itok=oOvbNb5j)\n",
        "\n",
        "Vocabulary contains all the unique words in the dataset."
      ]
    },
    {
      "cell_type": "code",
      "metadata": {
        "id": "GOAH831OwY9p",
        "colab_type": "code",
        "outputId": "9510d70c-162a-4c88-cdae-1fb348d53a9a",
        "colab": {
          "base_uri": "https://localhost:8080/",
          "height": 34
        }
      },
      "source": [
        "# clean every token word and create vocabulary out of it.\n",
        "vocab = []\n",
        "clean_text_array = []\n",
        "\n",
        "for row in text_arr:\n",
        "  clean_row = clean_word(row)\n",
        "  clean_text_array.append(clean_row)\n",
        "  vocab.extend(clean_row)\n",
        "\n",
        "# create a vocabulary - making sure each word appears only once\n",
        "vocabulary = list(set(clean_word(vocab)))\n",
        "\n",
        "len(vocabulary)"
      ],
      "execution_count": 108,
      "outputs": [
        {
          "output_type": "execute_result",
          "data": {
            "text/plain": [
              "11233"
            ]
          },
          "metadata": {
            "tags": []
          },
          "execution_count": 108
        }
      ]
    },
    {
      "cell_type": "markdown",
      "metadata": {
        "id": "a4UrfRko2wYS",
        "colab_type": "text"
      },
      "source": [
        "There are various features which can be taken as target to build our model.\n",
        "- **Recommended IND** : Predicting whether a product is recommended or not\n",
        "- **Good/bad** : Predicting whether the product is good or bad.\n",
        "- **class name** : Predicting the class name of the product from reviews.\n",
        "\n",
        "Recommended Ind and Good/bad features can lead an E-commerce platform for making profits, they can get an insight from the model what kind of product is popular and bring that more in stock to make huge profits.They can even randomly recommend the popular products to everyone as most of them will end up buying.\n",
        "\n",
        "Where as predicting class name from reviews is not that useful for an e-commerce website bur from ML perspective quite intresting.\n",
        "\n",
        ">Here I have divided project into 3 section.\n",
        "- Firstly we will try predicting class name from reviews\n",
        "- Second we will classify products into good/bad from reviews\n",
        "- Third we will predict whether the product will be recommended by the customer or not based upon the review.\n",
        "\n",
        "\n",
        "**Lets start with the first classifier...**"
      ]
    },
    {
      "cell_type": "markdown",
      "metadata": {
        "id": "vrcppFjQi0iJ",
        "colab_type": "text"
      },
      "source": [
        "# Class Name\n",
        "## Model 1 Word Embedding using NN words are LabelEncoded\n",
        "\n",
        "## Target is Class name, targets are also LabelEncoded\n",
        "\n",
        "This model classifies product into garments based on the review\n",
        "\n",
        ">Word embeddings are a type of word representation that allows words with similar meaning to have a similar representation.\n",
        "\n",
        ">In this model words in the vocabulary are encoded using labelEncoder() which encodes each word in the vocabulary with a unique number.\n",
        "\n",
        "*Label Encoding refers to converting the labels into numeric form so as to convert it into the machine-readable form*.\n",
        "\n",
        ">Call the fit() function in order to learn a vocabulary from one or more documents. Call the transform() function on one or more documents as needed to encode each as a vector"
      ]
    },
    {
      "cell_type": "code",
      "metadata": {
        "id": "cM0RnwK9xMGN",
        "colab_type": "code",
        "outputId": "ccd77396-7d6c-4b39-89ad-08ae6721b915",
        "colab": {
          "base_uri": "https://localhost:8080/",
          "height": 34
        }
      },
      "source": [
        "vectorizer = LabelEncoder()\n",
        "vectorizer.fit(vocabulary)\n",
        "\n",
        "# Create token vector using Label Encoder fit on entire vocabulary\n",
        "token_vector = []\n",
        "\n",
        "# declare max_words to keep count of the longest sentence vectorized\n",
        "# we need this to pad every other vector to same length as longest vector\n",
        "max_words = 0 \n",
        "for row in clean_text_array:\n",
        "  encoded = vectorizer.transform(row).tolist()\n",
        "  size = len(encoded)\n",
        "  if size>max_words: max_words=size\n",
        "  token_vector.append(encoded)\n",
        "\n",
        "# looking at one of the lalbel_encoded words\n",
        "vectorizer.classes_[1000]"
      ],
      "execution_count": 122,
      "outputs": [
        {
          "output_type": "execute_result",
          "data": {
            "text/plain": [
              "'bellowy'"
            ]
          },
          "metadata": {
            "tags": []
          },
          "execution_count": 122
        }
      ]
    },
    {
      "cell_type": "markdown",
      "metadata": {
        "id": "4OSBkDz4clM7",
        "colab_type": "text"
      },
      "source": [
        "After encoding words are encoded with unique number as we can see here 'bellowy' is encoded as 1000"
      ]
    },
    {
      "cell_type": "markdown",
      "metadata": {
        "id": "IMBbp3igczQE",
        "colab_type": "text"
      },
      "source": [
        "Max words is the maximum number of words in a sentence."
      ]
    },
    {
      "cell_type": "code",
      "metadata": {
        "id": "eMDo-pwmcvXv",
        "colab_type": "code",
        "outputId": "0562ad22-096e-4918-a4bb-3c87fabd17f3",
        "colab": {
          "base_uri": "https://localhost:8080/",
          "height": 34
        }
      },
      "source": [
        "max_words"
      ],
      "execution_count": 123,
      "outputs": [
        {
          "output_type": "execute_result",
          "data": {
            "text/plain": [
              "111"
            ]
          },
          "metadata": {
            "tags": []
          },
          "execution_count": 123
        }
      ]
    },
    {
      "cell_type": "markdown",
      "metadata": {
        "id": "tInwCpVPc928",
        "colab_type": "text"
      },
      "source": [
        "Sentences with words less than max_words are padded with 0s at the end to have same length vectors to work with."
      ]
    },
    {
      "cell_type": "code",
      "metadata": {
        "id": "lzARRW0WxZb1",
        "colab_type": "code",
        "colab": {}
      },
      "source": [
        "# Pad every vector in token vector corpus to be as long as longest vector\n",
        "padded = []\n",
        "for row in token_vector:\n",
        "  r = np.pad(row, (0, max_words-len(row)), 'constant')\n",
        "  padded.append(r)"
      ],
      "execution_count": 0,
      "outputs": []
    },
    {
      "cell_type": "code",
      "metadata": {
        "id": "FfhyKH47xbvt",
        "colab_type": "code",
        "outputId": "1c903ba3-e0e7-4427-9f24-5140de981f63",
        "colab": {
          "base_uri": "https://localhost:8080/",
          "height": 34
        }
      },
      "source": [
        "# Convert it into numpy array, we'll call this the examples vector\n",
        "# as it contains all the example to be trained on\n",
        "ex_vector = np.array(padded)\n",
        "ex_vector.shape"
      ],
      "execution_count": 125,
      "outputs": [
        {
          "output_type": "execute_result",
          "data": {
            "text/plain": [
              "(8113, 111)"
            ]
          },
          "metadata": {
            "tags": []
          },
          "execution_count": 125
        }
      ]
    },
    {
      "cell_type": "markdown",
      "metadata": {
        "id": "DWdZNexZjPal",
        "colab_type": "text"
      },
      "source": [
        "These are the various classes in feature Class Name."
      ]
    },
    {
      "cell_type": "code",
      "metadata": {
        "id": "Hx0Jtfhyl0aM",
        "colab_type": "code",
        "outputId": "dd2aacfa-3ac6-4f2b-e4a1-531a9aea4954",
        "colab": {
          "base_uri": "https://localhost:8080/",
          "height": 68
        }
      },
      "source": [
        "print(final_df['Class Name'].unique())"
      ],
      "execution_count": 126,
      "outputs": [
        {
          "output_type": "stream",
          "text": [
            "['Dresses' 'Lounge' 'Sweaters' 'Intimates' 'Knits' 'Blouses' 'Swim'\n",
            " 'Fine gauge' 'Skirts' 'Pants' 'Jeans' 'Jackets' 'Sleep' 'Trend' 'Legwear'\n",
            " 'Outerwear' 'Shorts' 'Layering']\n"
          ],
          "name": "stdout"
        }
      ]
    },
    {
      "cell_type": "markdown",
      "metadata": {
        "id": "cwwAbd5Ojd6c",
        "colab_type": "text"
      },
      "source": [
        "For this model target is class Name which is catgorical."
      ]
    },
    {
      "cell_type": "code",
      "metadata": {
        "id": "fQoZHXnxiwUn",
        "colab_type": "code",
        "colab": {}
      },
      "source": [
        "target=final_df['Class Name'].values"
      ],
      "execution_count": 0,
      "outputs": []
    },
    {
      "cell_type": "markdown",
      "metadata": {
        "id": "T5f3_pA0lkDA",
        "colab_type": "text"
      },
      "source": [
        "Lets recap how Class Name is distributed."
      ]
    },
    {
      "cell_type": "code",
      "metadata": {
        "id": "XwHX5OTLlhGi",
        "colab_type": "code",
        "colab": {
          "base_uri": "https://localhost:8080/",
          "height": 363
        },
        "outputId": "77a238ec-a54d-4cd8-a2a0-7aa57982c0d8"
      },
      "source": [
        "ax = sns.countplot(x=\"Class Name\", data=df)\n",
        "ax=ax.set_xticklabels(ax.get_xticklabels(), rotation=90)\n",
        "plt.title('Class Name Vs count')\n",
        "plt.show()"
      ],
      "execution_count": 228,
      "outputs": [
        {
          "output_type": "display_data",
          "data": {
            "image/png": "[encoded data removed]",
            "text/plain": [
              "<Figure size 432x288 with 1 Axes>"
            ]
          },
          "metadata": {
            "tags": [],
            "needs_background": "light"
          }
        }
      ]
    },
    {
      "cell_type": "markdown",
      "metadata": {
        "id": "uiM9N3pulqvo",
        "colab_type": "text"
      },
      "source": [
        "We can see Clas Name is varying too much with its 18 classes."
      ]
    },
    {
      "cell_type": "markdown",
      "metadata": {
        "id": "8IRrhPD-jJTv",
        "colab_type": "text"
      },
      "source": [
        "As the target is categorical it must be converted into integers to fed into the model, therefore labelencoding target"
      ]
    },
    {
      "cell_type": "code",
      "metadata": {
        "id": "GsUKWfPu0Hj2",
        "colab_type": "code",
        "outputId": "a88c0ff1-6925-4741-c9f2-827fa7c3cd3e",
        "colab": {
          "base_uri": "https://localhost:8080/",
          "height": 34
        }
      },
      "source": [
        "le = LabelEncoder()\n",
        "target = le.fit_transform(final_df['Class Name'])\n",
        "target"
      ],
      "execution_count": 128,
      "outputs": [
        {
          "output_type": "execute_result",
          "data": {
            "text/plain": [
              "array([1, 1, 1, ..., 1, 6, 1])"
            ]
          },
          "metadata": {
            "tags": []
          },
          "execution_count": 128
        }
      ]
    },
    {
      "cell_type": "markdown",
      "metadata": {
        "id": "HAcfjH_5iPFC",
        "colab_type": "text"
      },
      "source": [
        "> split training data and target into test and train sets using train_test_split() from sklearn. This function takes 3 arguments training data, target and size. here size is 0.2 hence data will be splitted 80% for training and 20% for test."
      ]
    },
    {
      "cell_type": "code",
      "metadata": {
        "id": "7_9qnYn_lbu4",
        "colab_type": "code",
        "colab": {}
      },
      "source": [
        "# Split the data into test & train dataset\n",
        "xtrain, xtest, ytrain, ytest = train_test_split(ex_vector,target, test_size=0.2)"
      ],
      "execution_count": 0,
      "outputs": []
    },
    {
      "cell_type": "markdown",
      "metadata": {
        "id": "YlqygjfYiLvv",
        "colab_type": "text"
      },
      "source": [
        ">Create tensors out of numpy arrays xtrain,ytrain and xtest,ytest. \n",
        "\n",
        "**Tensors** are mathematical objects that generalize scalars, vectors and matrices to higher dimensions.\n",
        "\n",
        "Tensors must be created as word embedding layer in keras take tensors as input."
      ]
    },
    {
      "cell_type": "code",
      "metadata": {
        "id": "tPG41YalmImQ",
        "colab_type": "code",
        "colab": {}
      },
      "source": [
        "# Create a tensor out of numpy arrays\n",
        "train_dataset = tf.data.Dataset.from_tensor_slices((xtrain, ytrain))\n",
        "test_dataset = tf.data.Dataset.from_tensor_slices((xtest, ytest))"
      ],
      "execution_count": 0,
      "outputs": []
    },
    {
      "cell_type": "markdown",
      "metadata": {
        "id": "rbKKzoWgiBWk",
        "colab_type": "text"
      },
      "source": [
        "Batch size is a term used in machine learning and refers to the number of training examples utilized in one iteration. Model trains data in batches.Usually batch size is taken as 32,64,128...\n",
        "\n",
        "Batch shuffle size is size in which data is shuffled.It is used for shuffling of data which is alread done during train test split also."
      ]
    },
    {
      "cell_type": "code",
      "metadata": {
        "id": "d_sVfcN5mNcJ",
        "colab_type": "code",
        "colab": {}
      },
      "source": [
        "# shuffle the data and create batches out of it\n",
        "BATCH_SIZE = 64\n",
        "SHUFFLE_BUFFER_SIZE = 100\n",
        "\n",
        "train_dataset = train_dataset.shuffle(SHUFFLE_BUFFER_SIZE).batch(BATCH_SIZE)\n",
        "test_dataset = test_dataset.batch(BATCH_SIZE)"
      ],
      "execution_count": 0,
      "outputs": []
    },
    {
      "cell_type": "markdown",
      "metadata": {
        "id": "uk7Uowv1h3FD",
        "colab_type": "text"
      },
      "source": [
        "**Model**\n",
        ">The focus of the Keras library is a model.The simplest model is defined in the Sequential class which is a linear stack of Layers.\n",
        "\n",
        ">Keras offers an Embedding layer that can be used for neural networks on text data. It requires that the input data be integer encoded, so that each word is represented by a unique integer.\n",
        "- input_dim: This is the size of the vocabulary in the text data\n",
        "- embedding_dim : features around which the model will learn correlatin based on.\n",
        "\n",
        "\n",
        ">There are a large number of core Layer types for standard neural networks.\n",
        "Some common and useful layer types are:\n",
        "- Dense: Fully connected layer and the most common type of layer used on multi-layer perceptron models.\n",
        "- Dropout: Apply dropout to the model, setting a fraction of inputs to zero in an effort to reduce over fitting.\n",
        "- Merge: Combine the inputs from multiple models into a single model.\n",
        "\n",
        "\n",
        ">Keras supports a range of standard neuron activation function, such as: softmax, rectifier, tanh and sigmoid.\n",
        "\n",
        ">Input layer takes length of vocaulary.There is only 1 hidden layer.\n",
        "As there are 18 classes in target output layer hass 18 nodes."
      ]
    },
    {
      "cell_type": "code",
      "metadata": {
        "id": "IuHWahOGmPpI",
        "colab_type": "code",
        "colab": {}
      },
      "source": [
        "# Define the embedding dimensions\n",
        "embedding_dim=10\n",
        "\n",
        "# defining the sequential model with an Embedding layer\n",
        "# Add a Global Average Pooling 1D layer to flattent the matrix into vector\n",
        "model = keras.models.Sequential([\n",
        "  keras.layers.Embedding(11233, embedding_dim),\n",
        "  keras.layers.GlobalAveragePooling1D(),\n",
        "  keras.layers.Dense(36, activation='relu'),\n",
        "  keras.layers.Dense(18, activation='softmax')\n",
        "])"
      ],
      "execution_count": 0,
      "outputs": []
    },
    {
      "cell_type": "markdown",
      "metadata": {
        "id": "6nq-bsDroto8",
        "colab_type": "text"
      },
      "source": [
        "**Compiling Model**\n",
        ">Here we need to specify optimizer.\n",
        "\n",
        "Optimizers are algorithms or methods used to change the attributes of your neural network such as weights and learning rate in order to reduce the losses\n",
        "\n",
        "> Here we deifne the learning rate as well. here it is 0.001.\n",
        "\n",
        ">Loss: A scalar value that we attempt to minimize during our training of the model. The lower the loss, the closer our predictions are to the true labels. There are various ways for calculating losses. "
      ]
    },
    {
      "cell_type": "code",
      "metadata": {
        "id": "iE2C7hzKx_xp",
        "colab_type": "code",
        "colab": {}
      },
      "source": [
        "model.compile(optimizer=keras.optimizers.Adam(0.001),\n",
        "              loss=tf.keras.losses.sparse_categorical_crossentropy,\n",
        "              metrics=['accuracy'])"
      ],
      "execution_count": 0,
      "outputs": []
    },
    {
      "cell_type": "markdown",
      "metadata": {
        "id": "K6VKrFW9piHM",
        "colab_type": "text"
      },
      "source": [
        "**Training our Model**\n",
        "\n",
        ">An **epoch** is a measure of the number of times all of the training vectors are used once to update the weights. For batch training all of the training samples pass through the learning algorithm simultaneously in one epoch before weights are updated.\n",
        "\n",
        "Epochs cannot be less as then model would be undertrained whereas epochs should not be moe also then model will be overtrained.\n",
        "\n",
        ">**Access Model Training History in Keras**\n",
        "Keras provides the capability to register callbacks when training a deep learning model. One of the default callbacks that is registered when training all deep learning models is the History callback. It records training metrics for each epoch.\n",
        "\n",
        "model.fit() trains the predefined model."
      ]
    },
    {
      "cell_type": "code",
      "metadata": {
        "id": "hFeXbqHxyAVj",
        "colab_type": "code",
        "outputId": "543c488a-3f20-4138-fcab-c25d0137b19a",
        "colab": {
          "base_uri": "https://localhost:8080/",
          "height": 697
        }
      },
      "source": [
        "# Train the model and benchmark against Test Data as it's validation data\n",
        "epochs=20\n",
        "history = model.fit(train_dataset, epochs=epochs, validation_data=test_dataset, verbose=2)"
      ],
      "execution_count": 134,
      "outputs": [
        {
          "output_type": "stream",
          "text": [
            "Epoch 1/20\n",
            "102/102 - 0s - loss: 2.6698 - accuracy: 0.2609 - val_loss: 2.3072 - val_accuracy: 0.2723\n",
            "Epoch 2/20\n",
            "102/102 - 0s - loss: 2.2343 - accuracy: 0.2823 - val_loss: 2.2210 - val_accuracy: 0.2723\n",
            "Epoch 3/20\n",
            "102/102 - 0s - loss: 2.2070 - accuracy: 0.2823 - val_loss: 2.2065 - val_accuracy: 0.2723\n",
            "Epoch 4/20\n",
            "102/102 - 0s - loss: 2.1917 - accuracy: 0.2823 - val_loss: 2.1929 - val_accuracy: 0.2723\n",
            "Epoch 5/20\n",
            "102/102 - 0s - loss: 2.1729 - accuracy: 0.2823 - val_loss: 2.1746 - val_accuracy: 0.2723\n",
            "Epoch 6/20\n",
            "102/102 - 0s - loss: 2.1462 - accuracy: 0.2823 - val_loss: 2.1480 - val_accuracy: 0.2723\n",
            "Epoch 7/20\n",
            "102/102 - 0s - loss: 2.1034 - accuracy: 0.2844 - val_loss: 2.1003 - val_accuracy: 0.2816\n",
            "Epoch 8/20\n",
            "102/102 - 0s - loss: 2.0290 - accuracy: 0.3074 - val_loss: 2.0270 - val_accuracy: 0.3056\n",
            "Epoch 9/20\n",
            "102/102 - 0s - loss: 1.9387 - accuracy: 0.3337 - val_loss: 1.9526 - val_accuracy: 0.3321\n",
            "Epoch 10/20\n",
            "102/102 - 0s - loss: 1.8581 - accuracy: 0.3592 - val_loss: 1.8956 - val_accuracy: 0.3592\n",
            "Epoch 11/20\n",
            "102/102 - 0s - loss: 1.7930 - accuracy: 0.3823 - val_loss: 1.8488 - val_accuracy: 0.3863\n",
            "Epoch 12/20\n",
            "102/102 - 0s - loss: 1.7339 - accuracy: 0.4082 - val_loss: 1.8090 - val_accuracy: 0.4060\n",
            "Epoch 13/20\n",
            "102/102 - 0s - loss: 1.6801 - accuracy: 0.4345 - val_loss: 1.7747 - val_accuracy: 0.4208\n",
            "Epoch 14/20\n",
            "102/102 - 0s - loss: 1.6320 - accuracy: 0.4578 - val_loss: 1.7459 - val_accuracy: 0.4350\n",
            "Epoch 15/20\n",
            "102/102 - 0s - loss: 1.5884 - accuracy: 0.4740 - val_loss: 1.7208 - val_accuracy: 0.4461\n",
            "Epoch 16/20\n",
            "102/102 - 0s - loss: 1.5482 - accuracy: 0.4874 - val_loss: 1.7000 - val_accuracy: 0.4596\n",
            "Epoch 17/20\n",
            "102/102 - 0s - loss: 1.5123 - accuracy: 0.4986 - val_loss: 1.6822 - val_accuracy: 0.4627\n",
            "Epoch 18/20\n",
            "102/102 - 0s - loss: 1.4775 - accuracy: 0.5072 - val_loss: 1.6649 - val_accuracy: 0.4695\n",
            "Epoch 19/20\n",
            "102/102 - 0s - loss: 1.4452 - accuracy: 0.5180 - val_loss: 1.6501 - val_accuracy: 0.4769\n",
            "Epoch 20/20\n",
            "102/102 - 0s - loss: 1.4158 - accuracy: 0.5276 - val_loss: 1.6367 - val_accuracy: 0.4837\n"
          ],
          "name": "stdout"
        }
      ]
    },
    {
      "cell_type": "markdown",
      "metadata": {
        "id": "4_eHbAlcquIV",
        "colab_type": "text"
      },
      "source": [
        "Accuracy : 56%\n",
        "validation accuracy: 51%\n",
        "\n",
        "As we can see the model could not predict classes well because reviews have very less referrence to class name. This is because Class Name feature is largely biased towards some classes due to which model would be baised towards them."
      ]
    },
    {
      "cell_type": "markdown",
      "metadata": {
        "id": "uoW1hL9JrMrU",
        "colab_type": "text"
      },
      "source": [
        "**Accuracy Curve**\n",
        ">This graph shows how accuracy changed during the training period. We can say that training was pretty good as both accuracy and validation accuracy curves are close by all the time but accuracy could not reach higher values.\n",
        "Training more would over train the model as at the end both the curves are starting to diverge."
      ]
    },
    {
      "cell_type": "code",
      "metadata": {
        "id": "6hJP6uf3yCh9",
        "colab_type": "code",
        "outputId": "84a42e4b-f656-41aa-ca03-12adc31bbd63",
        "colab": {
          "base_uri": "https://localhost:8080/",
          "height": 282
        }
      },
      "source": [
        "# Plot Accuracy\n",
        "plt.plot(range(epochs), history.history['accuracy'])\n",
        "plt.plot(range(epochs), history.history['val_accuracy'])"
      ],
      "execution_count": 135,
      "outputs": [
        {
          "output_type": "execute_result",
          "data": {
            "text/plain": [
              "[<matplotlib.lines.Line2D at 0x7fe9247e99e8>]"
            ]
          },
          "metadata": {
            "tags": []
          },
          "execution_count": 135
        },
        {
          "output_type": "display_data",
          "data": {
            "image/png": "[encoded data removed]",
            "text/plain": [
              "<Figure size 432x288 with 1 Axes>"
            ]
          },
          "metadata": {
            "tags": [],
            "needs_background": "light"
          }
        }
      ]
    },
    {
      "cell_type": "markdown",
      "metadata": {
        "id": "2nI4r7GJr8jr",
        "colab_type": "text"
      },
      "source": [
        "**Loss Curve**\n",
        ">Loss curves tells us that how losses reduce during the training period. As both the loss curves are nearby we could say the trianing went well but losses could not reduce further. Lesser the losses better is the accuracy."
      ]
    },
    {
      "cell_type": "code",
      "metadata": {
        "id": "gUP27jWO1GL7",
        "colab_type": "code",
        "outputId": "3e90e520-e43d-4384-d93b-8439f4d176c9",
        "colab": {
          "base_uri": "https://localhost:8080/",
          "height": 282
        }
      },
      "source": [
        "# Plot Loss\n",
        "plt.plot(range(epochs), history.history['loss'])\n",
        "plt.plot(range(epochs), history.history['val_loss'])"
      ],
      "execution_count": 136,
      "outputs": [
        {
          "output_type": "execute_result",
          "data": {
            "text/plain": [
              "[<matplotlib.lines.Line2D at 0x7fe923cfa278>]"
            ]
          },
          "metadata": {
            "tags": []
          },
          "execution_count": 136
        },
        {
          "output_type": "display_data",
          "data": {
            "image/png": "[encoded data removed]",
            "text/plain": [
              "<Figure size 432x288 with 1 Axes>"
            ]
          },
          "metadata": {
            "tags": [],
            "needs_background": "light"
          }
        }
      ]
    },
    {
      "cell_type": "markdown",
      "metadata": {
        "id": "sN4hKbfik6ut",
        "colab_type": "text"
      },
      "source": [
        "Now lets see how next model with target as Good/bad turns out. "
      ]
    },
    {
      "cell_type": "markdown",
      "metadata": {
        "id": "ibQ0Ey3QF5C3",
        "colab_type": "text"
      },
      "source": [
        "# Good / bad\n",
        "## Model 2 : Word Embedding using NN, words are LabelEncoded\n",
        "\n",
        "## Target is Good/bad"
      ]
    },
    {
      "cell_type": "markdown",
      "metadata": {
        "id": "u-tyGmo30Zgk",
        "colab_type": "text"
      },
      "source": [
        "As we have done label encoding on the vocabulary once, we will use example"
      ]
    },
    {
      "cell_type": "code",
      "metadata": {
        "id": "kWF7q9IvGAmi",
        "colab_type": "code",
        "colab": {}
      },
      "source": [
        "target=final_df['Good/bad'].values"
      ],
      "execution_count": 0,
      "outputs": []
    },
    {
      "cell_type": "markdown",
      "metadata": {
        "id": "TLmkFgTnl8mB",
        "colab_type": "text"
      },
      "source": [
        "Lets recap how feature Good/bad is distributed."
      ]
    },
    {
      "cell_type": "code",
      "metadata": {
        "id": "4TistCL4l6lu",
        "colab_type": "code",
        "colab": {
          "base_uri": "https://localhost:8080/",
          "height": 279
        },
        "outputId": "65d7cfa0-c18a-4ffd-b5ee-e5e568ee6687"
      },
      "source": [
        "sns.countplot(df['Good/bad'])\n",
        "plt.show()"
      ],
      "execution_count": 229,
      "outputs": [
        {
          "output_type": "display_data",
          "data": {
            "image/png": "[encoded data removed]",
            "text/plain": [
              "<Figure size 432x288 with 1 Axes>"
            ]
          },
          "metadata": {
            "tags": [],
            "needs_background": "light"
          }
        }
      ]
    },
    {
      "cell_type": "markdown",
      "metadata": {
        "id": "A_8RIlDLmEFP",
        "colab_type": "text"
      },
      "source": [
        "We could see that feature 'Good/bad' is highly baised towards the god products. So it will be intresting too see how model deals with the bad products.\n",
        "\n",
        "We could reduce the number of instances of good products equal to number of instances of bad products and make it unbaised but this will reduce the data and having more data is always good."
      ]
    },
    {
      "cell_type": "markdown",
      "metadata": {
        "id": "kynGhf22I8vT",
        "colab_type": "text"
      },
      "source": [
        "> Splitting into test and train sets"
      ]
    },
    {
      "cell_type": "code",
      "metadata": {
        "id": "09-GvKp5GD8c",
        "colab_type": "code",
        "colab": {}
      },
      "source": [
        "xtrain, xtest, ytrain, ytest = train_test_split(ex_vector,target, test_size=0.1)"
      ],
      "execution_count": 0,
      "outputs": []
    },
    {
      "cell_type": "markdown",
      "metadata": {
        "id": "gvazxXrdJAo_",
        "colab_type": "text"
      },
      "source": [
        "> Creating tensors out of train and test arrays\n",
        "\n",
        "\n"
      ]
    },
    {
      "cell_type": "code",
      "metadata": {
        "id": "l0bAGYcWJ-Mt",
        "colab_type": "code",
        "colab": {}
      },
      "source": [
        "# Create a tensor out of numpy arrays\n",
        "train_dataset = tf.data.Dataset.from_tensor_slices((xtrain, ytrain))\n",
        "test_dataset = tf.data.Dataset.from_tensor_slices((xtest, ytest))"
      ],
      "execution_count": 0,
      "outputs": []
    },
    {
      "cell_type": "markdown",
      "metadata": {
        "id": "IQq_ra_8JMdR",
        "colab_type": "text"
      },
      "source": [
        "> Making batches to train model"
      ]
    },
    {
      "cell_type": "code",
      "metadata": {
        "id": "ru6FOedLKCDA",
        "colab_type": "code",
        "colab": {}
      },
      "source": [
        "# shuffle the data and create batches out of it\n",
        "BATCH_SIZE = 64\n",
        "SHUFFLE_BUFFER_SIZE = 100\n",
        "\n",
        "train_dataset = train_dataset.shuffle(SHUFFLE_BUFFER_SIZE).batch(BATCH_SIZE)\n",
        "test_dataset = test_dataset.batch(BATCH_SIZE)"
      ],
      "execution_count": 0,
      "outputs": []
    },
    {
      "cell_type": "markdown",
      "metadata": {
        "id": "cNO5DT3-JSXB",
        "colab_type": "text"
      },
      "source": [
        "**Model**\n",
        "> we are doing word embedding here with keras Nueral networks.Model takes input as number of words in the vocabulary in the embedding layer. In the next layer the nodes are reduced and in final layer as target is Good/bad which is binary we have used sigmoid activation which varies between 0 and 1."
      ]
    },
    {
      "cell_type": "code",
      "metadata": {
        "id": "0iAqANsAKJ5y",
        "colab_type": "code",
        "colab": {}
      },
      "source": [
        "# Define the embedding dimensions // features around which the model will learn\n",
        "# correlatin based on.\n",
        "embedding_dim=5\n",
        "\n",
        "# defining the sequential model with an Embedding layer\n",
        "# Add a Global Average Pooling 1D layer to flattent the matrix into vector\n",
        "model = keras.models.Sequential([\n",
        "  keras.layers.Embedding(11233, embedding_dim),\n",
        "  keras.layers.GlobalAveragePooling1D(),\n",
        "  keras.layers.Dense(20, activation='relu'),\n",
        "  keras.layers.Dense(1, activation='sigmoid')\n",
        "])"
      ],
      "execution_count": 0,
      "outputs": []
    },
    {
      "cell_type": "markdown",
      "metadata": {
        "id": "KkqwzeciJUxr",
        "colab_type": "text"
      },
      "source": [
        "**Compiling Model**\n",
        "> optimizer used is adam with 0,.001 learning rate. Loss function used is Binary cross entropy as target is binary."
      ]
    },
    {
      "cell_type": "code",
      "metadata": {
        "id": "0JZd2NcFKLzk",
        "colab_type": "code",
        "colab": {}
      },
      "source": [
        "model.compile(optimizer=keras.optimizers.Adam(0.001),\n",
        "              loss=tf.keras.losses.BinaryCrossentropy(),\n",
        "              metrics=['accuracy'])"
      ],
      "execution_count": 0,
      "outputs": []
    },
    {
      "cell_type": "markdown",
      "metadata": {
        "id": "GK3QNjj1JZg6",
        "colab_type": "text"
      },
      "source": [
        "> Training "
      ]
    },
    {
      "cell_type": "code",
      "metadata": {
        "id": "etMn6M-RKVzF",
        "colab_type": "code",
        "outputId": "452fc828-0228-423a-915b-0f1f6e7af493",
        "colab": {
          "base_uri": "https://localhost:8080/",
          "height": 357
        }
      },
      "source": [
        "# Train the model and benchmark against Test Data as it's validation data\n",
        "epochs=10\n",
        "history = model.fit(train_dataset, epochs=epochs, validation_data=test_dataset, verbose=2)"
      ],
      "execution_count": 143,
      "outputs": [
        {
          "output_type": "stream",
          "text": [
            "Epoch 1/10\n",
            "115/115 - 0s - loss: 0.6417 - accuracy: 0.7131 - val_loss: 0.5867 - val_accuracy: 0.7352\n",
            "Epoch 2/10\n",
            "115/115 - 0s - loss: 0.5903 - accuracy: 0.7173 - val_loss: 0.5700 - val_accuracy: 0.7352\n",
            "Epoch 3/10\n",
            "115/115 - 0s - loss: 0.5820 - accuracy: 0.7173 - val_loss: 0.5615 - val_accuracy: 0.7352\n",
            "Epoch 4/10\n",
            "115/115 - 0s - loss: 0.5700 - accuracy: 0.7173 - val_loss: 0.5473 - val_accuracy: 0.7352\n",
            "Epoch 5/10\n",
            "115/115 - 0s - loss: 0.5487 - accuracy: 0.7173 - val_loss: 0.5221 - val_accuracy: 0.7352\n",
            "Epoch 6/10\n",
            "115/115 - 0s - loss: 0.5100 - accuracy: 0.7224 - val_loss: 0.4794 - val_accuracy: 0.7475\n",
            "Epoch 7/10\n",
            "115/115 - 0s - loss: 0.4577 - accuracy: 0.7603 - val_loss: 0.4387 - val_accuracy: 0.7833\n",
            "Epoch 8/10\n",
            "115/115 - 0s - loss: 0.4161 - accuracy: 0.7935 - val_loss: 0.4121 - val_accuracy: 0.7833\n",
            "Epoch 9/10\n",
            "115/115 - 0s - loss: 0.3863 - accuracy: 0.8122 - val_loss: 0.3970 - val_accuracy: 0.8005\n",
            "Epoch 10/10\n",
            "115/115 - 0s - loss: 0.3641 - accuracy: 0.8276 - val_loss: 0.3885 - val_accuracy: 0.8128\n"
          ],
          "name": "stdout"
        }
      ]
    },
    {
      "cell_type": "markdown",
      "metadata": {
        "id": "YZhQmJyGJsCO",
        "colab_type": "text"
      },
      "source": [
        "Accuracy  : 84%\n",
        "validation Accuracy : 79%\n",
        "\n",
        "Here we can see that we get a better acuuracy compared to the Class name model.\n",
        "Even though the good/bad feature was baised as we saw in visualisation we get better accuracy because words used in reviews correspond to good / bad product very well."
      ]
    },
    {
      "cell_type": "markdown",
      "metadata": {
        "id": "R8xr65t0JdWK",
        "colab_type": "text"
      },
      "source": [
        "> Plotting Accuracy curve\n",
        "\n"
      ]
    },
    {
      "cell_type": "code",
      "metadata": {
        "id": "tEM_DAWAKa7K",
        "colab_type": "code",
        "outputId": "a0c42639-8323-4b27-dcf4-5fd642f663a4",
        "colab": {
          "base_uri": "https://localhost:8080/",
          "height": 282
        }
      },
      "source": [
        "plt.plot(range(epochs), history.history['accuracy'])\n",
        "plt.plot(range(epochs), history.history['val_accuracy'])"
      ],
      "execution_count": 144,
      "outputs": [
        {
          "output_type": "execute_result",
          "data": {
            "text/plain": [
              "[<matplotlib.lines.Line2D at 0x7fe9247ed588>]"
            ]
          },
          "metadata": {
            "tags": []
          },
          "execution_count": 144
        },
        {
          "output_type": "display_data",
          "data": {
            "image/png": "[encoded data removed]",
            "text/plain": [
              "<Figure size 432x288 with 1 Axes>"
            ]
          },
          "metadata": {
            "tags": [],
            "needs_background": "light"
          }
        }
      ]
    },
    {
      "cell_type": "markdown",
      "metadata": {
        "id": "3byJUFO9nxXJ",
        "colab_type": "text"
      },
      "source": [
        "Training went really well as the graphs are parallel all the time."
      ]
    },
    {
      "cell_type": "markdown",
      "metadata": {
        "id": "-HHXq_xvJmiz",
        "colab_type": "text"
      },
      "source": [
        "> Plotting Loss curve"
      ]
    },
    {
      "cell_type": "code",
      "metadata": {
        "id": "9Y-4Jt_MK_UR",
        "colab_type": "code",
        "outputId": "bd70b58d-ca1e-4d76-9509-772bbde9e877",
        "colab": {
          "base_uri": "https://localhost:8080/",
          "height": 282
        }
      },
      "source": [
        "# Plot Loss\n",
        "plt.plot(range(epochs), history.history['loss'])\n",
        "plt.plot(range(epochs), history.history['val_loss'])"
      ],
      "execution_count": 145,
      "outputs": [
        {
          "output_type": "execute_result",
          "data": {
            "text/plain": [
              "[<matplotlib.lines.Line2D at 0x7fe9247ed8d0>]"
            ]
          },
          "metadata": {
            "tags": []
          },
          "execution_count": 145
        },
        {
          "output_type": "display_data",
          "data": {
            "image/png": "[encoded data removed]",
            "text/plain": [
              "<Figure size 432x288 with 1 Axes>"
            ]
          },
          "metadata": {
            "tags": [],
            "needs_background": "light"
          }
        }
      ]
    },
    {
      "cell_type": "markdown",
      "metadata": {
        "id": "Syx8h20Qn8Wo",
        "colab_type": "text"
      },
      "source": [
        "Loss plot also is parallel all the time which tells us that model is trained properly without overtraining and undertraining."
      ]
    },
    {
      "cell_type": "markdown",
      "metadata": {
        "id": "PYCPL5GGfvM1",
        "colab_type": "text"
      },
      "source": [
        "# Recommended IND\n",
        "\n",
        ">In this section we will be building models that predict whether a product will be recommended by the customer or not based upon the review given by the customer.\n",
        "\n",
        "Lets see how the feature 'Recommended IND' is distributed...."
      ]
    },
    {
      "cell_type": "code",
      "metadata": {
        "id": "LU7k5Bh_oiRw",
        "colab_type": "code",
        "colab": {
          "base_uri": "https://localhost:8080/",
          "height": 279
        },
        "outputId": "6506b880-ee07-4875-82af-98b120c7fbe4"
      },
      "source": [
        "sns.countplot(final_df['Recommended IND'])\n",
        "plt.show()"
      ],
      "execution_count": 232,
      "outputs": [
        {
          "output_type": "display_data",
          "data": {
            "image/png": "[encoded data removed]",
            "text/plain": [
              "<Figure size 432x288 with 1 Axes>"
            ]
          },
          "metadata": {
            "tags": [],
            "needs_background": "light"
          }
        }
      ]
    },
    {
      "cell_type": "markdown",
      "metadata": {
        "id": "ym9egq2Qo62k",
        "colab_type": "text"
      },
      "source": [
        "This feature is divided equally, hence it is a unbiased.\n",
        "\n",
        "Building models with different baised and unbaised data will tell us how the model responds to the data, hence in the previous model I took a baised data and in this section an unbaised data."
      ]
    },
    {
      "cell_type": "markdown",
      "metadata": {
        "id": "l5xsaZcvggXP",
        "colab_type": "text"
      },
      "source": [
        "## Model 3: NN with TFIDF vectorizer\n",
        "\n",
        "\n",
        ">  TFIDF, short for term frequency–inverse document frequency, is a numerical statistic that is intended to reflect how important a word is to a document in a collection or corpus.\n",
        "\n",
        "> In TFIDF, the value increases proportionally to count, but is inversely proportional to frequency of the word in the corpus."
      ]
    },
    {
      "cell_type": "code",
      "metadata": {
        "id": "G_kZfZxULCee",
        "colab_type": "code",
        "outputId": "2daa7b63-c88c-41f4-f839-49747fe55a83",
        "colab": {
          "base_uri": "https://localhost:8080/",
          "height": 34
        }
      },
      "source": [
        "vectoriz = TfidfVectorizer()\n",
        "tfidf_vec = vectoriz.fit_transform(final_df['Review Text'].values)\n",
        "print(tfidf_vec.toarray()[0])"
      ],
      "execution_count": 146,
      "outputs": [
        {
          "output_type": "stream",
          "text": [
            "[0. 0. 0. ... 0. 0. 0.]\n"
          ],
          "name": "stdout"
        }
      ]
    },
    {
      "cell_type": "markdown",
      "metadata": {
        "id": "olrhX2SeNwXm",
        "colab_type": "text"
      },
      "source": [
        "> Singular value decomposition (SVD) provides another way to factorize a matrix, into singular vectors and singular values\n",
        "\n",
        ">Truncated Singular Value Decomposition (SVD) is a matrix factorization technique that factors a matrix M into the three matrices U, Σ, and V. This is very similar to PCA, excepting that the factorization for SVD is done on the data matrix, whereas for PCA, the factorization is done on the covariance matrix.\n",
        "\n",
        "> **n_components** : Desired dimensionality of output data. Must be strictly less than the number of features. The default value is useful for visualisation. For LSA, a value of 100 is recommended."
      ]
    },
    {
      "cell_type": "code",
      "metadata": {
        "id": "uPqN1tlthB_D",
        "colab_type": "code",
        "outputId": "d5873a2d-85bd-4ba9-e1fa-8b977524bf19",
        "colab": {
          "base_uri": "https://localhost:8080/",
          "height": 238
        }
      },
      "source": [
        "tsvd = TruncatedSVD(n_components=100)\n",
        "tsvd.fit(tfidf_vec)\n",
        "scaled = tsvd.transform(tfidf_vec)\n",
        "print(scaled)"
      ],
      "execution_count": 147,
      "outputs": [
        {
          "output_type": "stream",
          "text": [
            "[[ 0.32213619 -0.0441269  -0.06192388 ...  0.00076736 -0.01598194\n",
            "  -0.03696043]\n",
            " [ 0.42611097 -0.04179303 -0.04082843 ...  0.02957066  0.02651471\n",
            "  -0.01352551]\n",
            " [ 0.38927445 -0.12365047 -0.02877724 ...  0.00236436 -0.01124137\n",
            "   0.01964401]\n",
            " ...\n",
            " [ 0.30824894  0.00086869 -0.03948162 ...  0.03686573  0.003893\n",
            "   0.01471801]\n",
            " [ 0.15878547  0.07156103  0.12822539 ...  0.01813195 -0.03117833\n",
            "  -0.00471063]\n",
            " [ 0.29461657  0.03509606 -0.07992372 ...  0.04033952 -0.02413768\n",
            "  -0.01140054]]\n"
          ],
          "name": "stdout"
        }
      ]
    },
    {
      "cell_type": "markdown",
      "metadata": {
        "id": "aVqe0rfNN9F0",
        "colab_type": "text"
      },
      "source": [
        "> Target is Recommended Ind"
      ]
    },
    {
      "cell_type": "code",
      "metadata": {
        "id": "NaSThZ1bhVPc",
        "colab_type": "code",
        "colab": {}
      },
      "source": [
        "target=final_df['Recommended IND'].values"
      ],
      "execution_count": 0,
      "outputs": []
    },
    {
      "cell_type": "markdown",
      "metadata": {
        "id": "m-PqVkDEODp0",
        "colab_type": "text"
      },
      "source": [
        " **Model**\n",
        ">Defining keras sequential model for Nueral network\n",
        "input shape is 100 as specified in tsvd.\n",
        "In each layer nodes are reduced to get a optimal accuracy."
      ]
    },
    {
      "cell_type": "code",
      "metadata": {
        "id": "A7vpFy8-hGa2",
        "colab_type": "code",
        "colab": {}
      },
      "source": [
        "model = keras.models.Sequential([\n",
        "        keras.layers.Dense(60, input_shape=[100,], activation='relu'),\n",
        "        keras.layers.Dense(20, activation='relu'),\n",
        "        keras.layers.Dense(1, activation='sigmoid')\n",
        "]) "
      ],
      "execution_count": 0,
      "outputs": []
    },
    {
      "cell_type": "markdown",
      "metadata": {
        "id": "704PS9CQOHGE",
        "colab_type": "text"
      },
      "source": [
        "**Compiling Model**\n",
        "\n",
        "> here loss function is Binay cross Entropy as target is binary i.e(0 or 1)"
      ]
    },
    {
      "cell_type": "code",
      "metadata": {
        "id": "r0gT0MathQ3h",
        "colab_type": "code",
        "colab": {}
      },
      "source": [
        "model.compile(optimizer=keras.optimizers.Adam(0.001),\n",
        "              loss=keras.losses.BinaryCrossentropy(),\n",
        "              metrics=['accuracy'])"
      ],
      "execution_count": 0,
      "outputs": []
    },
    {
      "cell_type": "markdown",
      "metadata": {
        "id": "joxEZ41POXpm",
        "colab_type": "text"
      },
      "source": [
        "> **Training**"
      ]
    },
    {
      "cell_type": "code",
      "metadata": {
        "id": "k0sARs4ChTUw",
        "colab_type": "code",
        "outputId": "9a2b1102-2161-46ac-c876-c74d06e46bd1",
        "colab": {
          "base_uri": "https://localhost:8080/",
          "height": 357
        }
      },
      "source": [
        "history= model.fit(scaled, target, epochs=10, verbose=1, validation_split=0.3)"
      ],
      "execution_count": 151,
      "outputs": [
        {
          "output_type": "stream",
          "text": [
            "Epoch 1/10\n",
            "178/178 [==============================] - 0s 2ms/step - loss: 0.5515 - accuracy: 0.7255 - val_loss: 0.9739 - val_accuracy: 0.1919\n",
            "Epoch 2/10\n",
            "178/178 [==============================] - 0s 2ms/step - loss: 0.3565 - accuracy: 0.8586 - val_loss: 0.5509 - val_accuracy: 0.7527\n",
            "Epoch 3/10\n",
            "178/178 [==============================] - 0s 2ms/step - loss: 0.3082 - accuracy: 0.8815 - val_loss: 0.6195 - val_accuracy: 0.7313\n",
            "Epoch 4/10\n",
            "178/178 [==============================] - 0s 2ms/step - loss: 0.3013 - accuracy: 0.8831 - val_loss: 0.5971 - val_accuracy: 0.7436\n",
            "Epoch 5/10\n",
            "178/178 [==============================] - 0s 2ms/step - loss: 0.2974 - accuracy: 0.8843 - val_loss: 0.6206 - val_accuracy: 0.7329\n",
            "Epoch 6/10\n",
            "178/178 [==============================] - 0s 2ms/step - loss: 0.2926 - accuracy: 0.8857 - val_loss: 0.5375 - val_accuracy: 0.7662\n",
            "Epoch 7/10\n",
            "178/178 [==============================] - 0s 2ms/step - loss: 0.2887 - accuracy: 0.8885 - val_loss: 0.6896 - val_accuracy: 0.6997\n",
            "Epoch 8/10\n",
            "178/178 [==============================] - 1s 3ms/step - loss: 0.2843 - accuracy: 0.8908 - val_loss: 0.6893 - val_accuracy: 0.6947\n",
            "Epoch 9/10\n",
            "178/178 [==============================] - 1s 3ms/step - loss: 0.2796 - accuracy: 0.8912 - val_loss: 0.5558 - val_accuracy: 0.7551\n",
            "Epoch 10/10\n",
            "178/178 [==============================] - 1s 3ms/step - loss: 0.2756 - accuracy: 0.8943 - val_loss: 0.5438 - val_accuracy: 0.7613\n"
          ],
          "name": "stdout"
        }
      ]
    },
    {
      "cell_type": "markdown",
      "metadata": {
        "id": "As6X1vAnOvRR",
        "colab_type": "text"
      },
      "source": [
        "Accuracy : 89%\n",
        "validation Accuracy : 76%\n",
        "\n",
        "Only in 10 epochs model was able to reach an accuracy of 89% which is great.\n",
        "This model tells us that predicting recommendation from reviews is more relaible compared to class Name and Good/bad models."
      ]
    },
    {
      "cell_type": "markdown",
      "metadata": {
        "id": "j5qi97b_PEb9",
        "colab_type": "text"
      },
      "source": [
        "> Accuracy Plot"
      ]
    },
    {
      "cell_type": "code",
      "metadata": {
        "id": "J3n_488VhfoE",
        "colab_type": "code",
        "colab": {
          "base_uri": "https://localhost:8080/",
          "height": 282
        },
        "outputId": "3dcb9153-bcc3-49f7-aba4-14a0dcfe7c4d"
      },
      "source": [
        "plt.plot(range(epochs), history.history['accuracy'])\n",
        "plt.plot(range(epochs), history.history['val_accuracy'])"
      ],
      "execution_count": 152,
      "outputs": [
        {
          "output_type": "execute_result",
          "data": {
            "text/plain": [
              "[<matplotlib.lines.Line2D at 0x7fe924820780>]"
            ]
          },
          "metadata": {
            "tags": []
          },
          "execution_count": 152
        },
        {
          "output_type": "display_data",
          "data": {
            "image/png": "[encoded data removed]",
            "text/plain": [
              "<Figure size 432x288 with 1 Axes>"
            ]
          },
          "metadata": {
            "tags": [],
            "needs_background": "light"
          }
        }
      ]
    },
    {
      "cell_type": "markdown",
      "metadata": {
        "id": "BmkWzvLGtvdH",
        "colab_type": "text"
      },
      "source": [
        "In accuracy plot both the graphs are almost parallel hence we could say training was good and the model is not overtrained or undertrained."
      ]
    },
    {
      "cell_type": "markdown",
      "metadata": {
        "id": "TuOUMbDgPG7Q",
        "colab_type": "text"
      },
      "source": [
        " **Loss plot**"
      ]
    },
    {
      "cell_type": "code",
      "metadata": {
        "id": "L-7LIBTuOtD-",
        "colab_type": "code",
        "colab": {
          "base_uri": "https://localhost:8080/",
          "height": 284
        },
        "outputId": "8d93129c-1143-4630-9d79-0367e1317930"
      },
      "source": [
        "plt.plot(range(epochs), history.history['loss'])\n",
        "plt.plot(range(epochs), history.history['val_loss'])"
      ],
      "execution_count": 153,
      "outputs": [
        {
          "output_type": "execute_result",
          "data": {
            "text/plain": [
              "[<matplotlib.lines.Line2D at 0x7fe9247ce710>]"
            ]
          },
          "metadata": {
            "tags": []
          },
          "execution_count": 153
        },
        {
          "output_type": "display_data",
          "data": {
            "image/png": "[encoded data removed]",
            "text/plain": [
              "<Figure size 432x288 with 1 Axes>"
            ]
          },
          "metadata": {
            "tags": [],
            "needs_background": "light"
          }
        }
      ]
    },
    {
      "cell_type": "markdown",
      "metadata": {
        "id": "3I9G8c24uFo7",
        "colab_type": "text"
      },
      "source": [
        "Similar to accuracy plot loss is decreasing which is a good sign and both the fraphs are kind of parallel with small variations."
      ]
    },
    {
      "cell_type": "markdown",
      "metadata": {
        "id": "3_5WmWijgokj",
        "colab_type": "text"
      },
      "source": [
        "## Model 4: NN using Count Vectorizer \n",
        "\n",
        "The CountVectorizer provides a simple way to both tokenize a collection of text documents and build a vocabulary of known words, but also to encode new documents using that vocabulary"
      ]
    },
    {
      "cell_type": "code",
      "metadata": {
        "id": "2aNRntwT9YA2",
        "colab_type": "code",
        "colab": {}
      },
      "source": [
        "vec=CountVectorizer()"
      ],
      "execution_count": 0,
      "outputs": []
    },
    {
      "cell_type": "markdown",
      "metadata": {
        "id": "mGQBM_dsPWqT",
        "colab_type": "text"
      },
      "source": [
        "Fit and transform vocabulary using count vectorizer"
      ]
    },
    {
      "cell_type": "code",
      "metadata": {
        "id": "4vHv6F2L9jhu",
        "colab_type": "code",
        "colab": {}
      },
      "source": [
        "vec.fit(final_df[\"Review Text\"].values)\n",
        "count_vect=vec.transform(final_df[\"Review Text\"].values)"
      ],
      "execution_count": 0,
      "outputs": []
    },
    {
      "cell_type": "code",
      "metadata": {
        "id": "Fe-LEFZ0-H2P",
        "colab_type": "code",
        "colab": {
          "base_uri": "https://localhost:8080/",
          "height": 34
        },
        "outputId": "86caf6cc-6c6e-4e73-b31b-f6cd34eb2e46"
      },
      "source": [
        "voca=vec.vocabulary_\n",
        "len(voca)"
      ],
      "execution_count": 181,
      "outputs": [
        {
          "output_type": "execute_result",
          "data": {
            "text/plain": [
              "9269"
            ]
          },
          "metadata": {
            "tags": []
          },
          "execution_count": 181
        }
      ]
    },
    {
      "cell_type": "markdown",
      "metadata": {
        "id": "F3uBhYawYUXH",
        "colab_type": "text"
      },
      "source": [
        "there are 9269 words in the vocabulary."
      ]
    },
    {
      "cell_type": "markdown",
      "metadata": {
        "id": "zOhOOM9LYpA4",
        "colab_type": "text"
      },
      "source": [
        "**Dimensionality reduction using truncated SVD**\n",
        ">This transformer performs linear dimensionality reduction by means of truncated singular value decomposition (SVD). Contrary to PCA, this estimator does not center the data before computing the singular value decomposition. This means it can work with scipy.sparse matrices efficiently.\n",
        "truncated SVD works on term count/tf-idf matrices as returned by the vectorizers in sklearn.feature_extraction.text.  In that context, it is known as latent semantic analysis (LSA).\n",
        "\n",
        ">**n_components** : Desired dimensionality of output data. Must be strictly less than the number of features. The default value is useful for visualisation. For LSA, a value of 100 is recommended."
      ]
    },
    {
      "cell_type": "code",
      "metadata": {
        "id": "1m1kRpy4-1x_",
        "colab_type": "code",
        "colab": {}
      },
      "source": [
        "tsvd = TruncatedSVD(n_components=100)\n",
        "tsvd.fit(count_vect)\n",
        "scaled = tsvd.transform(count_vect)\n",
        "scaled.shape"
      ],
      "execution_count": 0,
      "outputs": []
    },
    {
      "cell_type": "markdown",
      "metadata": {
        "id": "yNanKUYPZ0J8",
        "colab_type": "text"
      },
      "source": [
        "**Target is feature Recommended IND**"
      ]
    },
    {
      "cell_type": "code",
      "metadata": {
        "id": "u-HJDNHgO44W",
        "colab_type": "code",
        "colab": {
          "base_uri": "https://localhost:8080/",
          "height": 34
        },
        "outputId": "d9122898-b63a-4e27-bc50-463123d1d00a"
      },
      "source": [
        "target=final_df['Recommended IND'].values\n",
        "target.shape"
      ],
      "execution_count": 215,
      "outputs": [
        {
          "output_type": "execute_result",
          "data": {
            "text/plain": [
              "(8113,)"
            ]
          },
          "metadata": {
            "tags": []
          },
          "execution_count": 215
        }
      ]
    },
    {
      "cell_type": "markdown",
      "metadata": {
        "id": "UeNal2ItZ7nL",
        "colab_type": "text"
      },
      "source": [
        "**Model**\n",
        "> Defining keras sequential model for Nueral network\n",
        "input shape is 100 as specified in tsvd.\n",
        "In each layer nodes are reduced to get a optimal accuracy."
      ]
    },
    {
      "cell_type": "code",
      "metadata": {
        "id": "0w-BGMh8J5Jg",
        "colab_type": "code",
        "colab": {}
      },
      "source": [
        "model = keras.models.Sequential([\n",
        "        keras.layers.Dense(10, input_shape=[100,], activation='relu'),\n",
        "        keras.layers.Dense(5, activation='relu'),\n",
        "        keras.layers.Dense(1, activation='sigmoid')\n",
        "]) "
      ],
      "execution_count": 0,
      "outputs": []
    },
    {
      "cell_type": "markdown",
      "metadata": {
        "id": "r2zTG94kaV7E",
        "colab_type": "text"
      },
      "source": [
        "**Compiling model**\n",
        "> Adam optimizer is used . Adam optimization is a stochastic gradient descent method that is based on adaptive estimation of first-order and second-order moments.\n",
        "\n",
        ">for loss **Binary cross entropy** works best here.Computes the cross-entropy loss between true labels and predicted labels.\n",
        "cross-entropy loss is used when there are only two label classes (assumed to be 0 and 1)."
      ]
    },
    {
      "cell_type": "code",
      "metadata": {
        "id": "WNPDpVpGOTIB",
        "colab_type": "code",
        "colab": {}
      },
      "source": [
        "model.compile(optimizer=keras.optimizers.Adam(0.001),\n",
        "              loss=keras.losses.BinaryCrossentropy(),\n",
        "              metrics=['accuracy'])"
      ],
      "execution_count": 0,
      "outputs": []
    },
    {
      "cell_type": "markdown",
      "metadata": {
        "id": "QSIB8BfQdZW8",
        "colab_type": "text"
      },
      "source": [
        "**Training**"
      ]
    },
    {
      "cell_type": "code",
      "metadata": {
        "id": "iHteXnG1OwYI",
        "colab_type": "code",
        "outputId": "83c7df7e-3d62-40d0-8372-f7ea89874e00",
        "colab": {
          "base_uri": "https://localhost:8080/",
          "height": 357
        }
      },
      "source": [
        "history= model.fit(scaled, target, epochs=10, verbose=1, validation_split=0.2)"
      ],
      "execution_count": 225,
      "outputs": [
        {
          "output_type": "stream",
          "text": [
            "Epoch 1/10\n",
            "203/203 [==============================] - 0s 2ms/step - loss: 0.6667 - accuracy: 0.6035 - val_loss: 0.9069 - val_accuracy: 0.2033\n",
            "Epoch 2/10\n",
            "203/203 [==============================] - 0s 2ms/step - loss: 0.5141 - accuracy: 0.7664 - val_loss: 0.7438 - val_accuracy: 0.6315\n",
            "Epoch 3/10\n",
            "203/203 [==============================] - 0s 2ms/step - loss: 0.4310 - accuracy: 0.8234 - val_loss: 0.6921 - val_accuracy: 0.6642\n",
            "Epoch 4/10\n",
            "203/203 [==============================] - 0s 2ms/step - loss: 0.4026 - accuracy: 0.8385 - val_loss: 0.6768 - val_accuracy: 0.6765\n",
            "Epoch 5/10\n",
            "203/203 [==============================] - 0s 2ms/step - loss: 0.3918 - accuracy: 0.8390 - val_loss: 0.6278 - val_accuracy: 0.7006\n",
            "Epoch 6/10\n",
            "203/203 [==============================] - 0s 2ms/step - loss: 0.3836 - accuracy: 0.8425 - val_loss: 0.5821 - val_accuracy: 0.7283\n",
            "Epoch 7/10\n",
            "203/203 [==============================] - 0s 2ms/step - loss: 0.3767 - accuracy: 0.8445 - val_loss: 0.5828 - val_accuracy: 0.7270\n",
            "Epoch 8/10\n",
            "203/203 [==============================] - 0s 2ms/step - loss: 0.3710 - accuracy: 0.8448 - val_loss: 0.5711 - val_accuracy: 0.7338\n",
            "Epoch 9/10\n",
            "203/203 [==============================] - 0s 2ms/step - loss: 0.3659 - accuracy: 0.8468 - val_loss: 0.5682 - val_accuracy: 0.7357\n",
            "Epoch 10/10\n",
            "203/203 [==============================] - 0s 2ms/step - loss: 0.3613 - accuracy: 0.8507 - val_loss: 0.5948 - val_accuracy: 0.7270\n"
          ],
          "name": "stdout"
        }
      ]
    },
    {
      "cell_type": "markdown",
      "metadata": {
        "id": "nmMhtpCkdc0f",
        "colab_type": "text"
      },
      "source": [
        "Accuracy : 85% \n",
        "\n",
        "Validation accuracy : 72%\n",
        "\n",
        "Only in 10 epochs model was able to acheive 85% accuracy which is a great result. We get a good result as the data is unbaised and from the review we can say whether the review is recommended by the customer or not by their sentiments or emotions. "
      ]
    },
    {
      "cell_type": "markdown",
      "metadata": {
        "id": "umn6GGP_p94O",
        "colab_type": "text"
      },
      "source": [
        "**Accuracy plot**"
      ]
    },
    {
      "cell_type": "code",
      "metadata": {
        "id": "nz3Te90bQoLd",
        "colab_type": "code",
        "colab": {
          "base_uri": "https://localhost:8080/",
          "height": 282
        },
        "outputId": "958daf64-7a13-4613-bcb3-48a70089bf0b"
      },
      "source": [
        "plt.plot(range(epochs), history.history['accuracy'])\n",
        "plt.plot(range(epochs), history.history['val_accuracy'])"
      ],
      "execution_count": 226,
      "outputs": [
        {
          "output_type": "execute_result",
          "data": {
            "text/plain": [
              "[<matplotlib.lines.Line2D at 0x7fe927942e10>]"
            ]
          },
          "metadata": {
            "tags": []
          },
          "execution_count": 226
        },
        {
          "output_type": "display_data",
          "data": {
            "image/png": "[encoded data removed]",
            "text/plain": [
              "<Figure size 432x288 with 1 Axes>"
            ]
          },
          "metadata": {
            "tags": [],
            "needs_background": "light"
          }
        }
      ]
    },
    {
      "cell_type": "markdown",
      "metadata": {
        "id": "7CZ3Pukfdzx1",
        "colab_type": "text"
      },
      "source": [
        "We can see that both the accuracy and validation accuracy plots are parallel and hence we can say that model is not overtrained or undertrained."
      ]
    },
    {
      "cell_type": "markdown",
      "metadata": {
        "id": "K2QO6-EfqBGa",
        "colab_type": "text"
      },
      "source": [
        "**Loss Plot**"
      ]
    },
    {
      "cell_type": "code",
      "metadata": {
        "id": "3_9tq6tIBhJG",
        "colab_type": "code",
        "colab": {
          "base_uri": "https://localhost:8080/",
          "height": 282
        },
        "outputId": "bda63ba7-dd11-4bc2-f1c9-eaa9c12a3805"
      },
      "source": [
        "plt.plot(range(epochs), history.history['loss'])\n",
        "plt.plot(range(epochs), history.history['val_loss'])"
      ],
      "execution_count": 227,
      "outputs": [
        {
          "output_type": "execute_result",
          "data": {
            "text/plain": [
              "[<matplotlib.lines.Line2D at 0x7fe923daf908>]"
            ]
          },
          "metadata": {
            "tags": []
          },
          "execution_count": 227
        },
        {
          "output_type": "display_data",
          "data": {
            "image/png": "[encoded data removed]",
            "text/plain": [
              "<Figure size 432x288 with 1 Axes>"
            ]
          },
          "metadata": {
            "tags": [],
            "needs_background": "light"
          }
        }
      ]
    },
    {
      "cell_type": "markdown",
      "metadata": {
        "id": "EjKcFDPIeAPn",
        "colab_type": "text"
      },
      "source": [
        "Losses are also parallel which is a good model's indication."
      ]
    },
    {
      "cell_type": "markdown",
      "metadata": {
        "id": "7qew6Kf3wQk1",
        "colab_type": "text"
      },
      "source": [
        "## Model 5 : Word embedding using Nueral Networks words are LabelEncoded\n",
        "\n"
      ]
    },
    {
      "cell_type": "markdown",
      "metadata": {
        "id": "LNmR7N60T9Wo",
        "colab_type": "text"
      },
      "source": [
        "> Target is taken as 'Recommended Ind'"
      ]
    },
    {
      "cell_type": "code",
      "metadata": {
        "id": "fCuZXGR5xhRd",
        "colab_type": "code",
        "outputId": "ad456e08-dd3f-4639-9947-2102890eef57",
        "colab": {
          "base_uri": "https://localhost:8080/",
          "height": 34
        }
      },
      "source": [
        "target=final_df['Recommended IND'].values\n",
        "target.shape"
      ],
      "execution_count": 233,
      "outputs": [
        {
          "output_type": "execute_result",
          "data": {
            "text/plain": [
              "(8113,)"
            ]
          },
          "metadata": {
            "tags": []
          },
          "execution_count": 233
        }
      ]
    },
    {
      "cell_type": "markdown",
      "metadata": {
        "id": "kv6b4zSVUZ8M",
        "colab_type": "text"
      },
      "source": [
        "> Split the data into test & train dataset\n",
        "using train_test_split from sklearn\n",
        "\n",
        "> for the data we will be using ex_vector that was created early on.\n",
        "ex_vector is a label encoded and padded vector.  "
      ]
    },
    {
      "cell_type": "code",
      "metadata": {
        "id": "lqnRmPkfxmfl",
        "colab_type": "code",
        "colab": {}
      },
      "source": [
        "xtrain, xtest, ytrain, ytest = train_test_split(ex_vector,target, test_size=0.1)"
      ],
      "execution_count": 0,
      "outputs": []
    },
    {
      "cell_type": "markdown",
      "metadata": {
        "id": "3ePlfXy0Uxko",
        "colab_type": "text"
      },
      "source": [
        "> Create tensors out of numpy arrays xtrain,ytrain and xtest,ytest "
      ]
    },
    {
      "cell_type": "code",
      "metadata": {
        "id": "htlGYEa7x9oc",
        "colab_type": "code",
        "colab": {}
      },
      "source": [
        "train_dataset = tf.data.Dataset.from_tensor_slices((xtrain, ytrain))\n",
        "test_dataset = tf.data.Dataset.from_tensor_slices((xtest, ytest))"
      ],
      "execution_count": 0,
      "outputs": []
    },
    {
      "cell_type": "markdown",
      "metadata": {
        "id": "ylBubCkeVK_I",
        "colab_type": "text"
      },
      "source": [
        "> shuffle the data and create batches out of it"
      ]
    },
    {
      "cell_type": "code",
      "metadata": {
        "id": "KX9C4P1TyNxM",
        "colab_type": "code",
        "colab": {}
      },
      "source": [
        "BATCH_SIZE = 64\n",
        "SHUFFLE_BUFFER_SIZE = 100\n",
        "\n",
        "train_dataset = train_dataset.shuffle(SHUFFLE_BUFFER_SIZE).batch(BATCH_SIZE)\n",
        "test_dataset = test_dataset.batch(BATCH_SIZE)"
      ],
      "execution_count": 0,
      "outputs": []
    },
    {
      "cell_type": "markdown",
      "metadata": {
        "id": "SXm4xgi5efBV",
        "colab_type": "text"
      },
      "source": [
        "**Defining model**\n",
        "\n",
        "As we are doing word embedding in this model.\n",
        "This keras model contains a embedding layer which takes length of vocabulary as input layer. and in each layer the nodes are reduced. "
      ]
    },
    {
      "cell_type": "code",
      "metadata": {
        "id": "xsykkgMfyZI3",
        "colab_type": "code",
        "colab": {}
      },
      "source": [
        "# Define the embedding dimensions // features around which the model will learn\n",
        "# correlatin based on.\n",
        "embedding_dim=10\n",
        "\n",
        "# defining the sequential model with an Embedding layer\n",
        "# Add a Global Average Pooling 1D layer to flattent the matrix into vector\n",
        "model = keras.models.Sequential([\n",
        "  keras.layers.Embedding(11305, embedding_dim),\n",
        "  keras.layers.GlobalAveragePooling1D(),\n",
        "  keras.layers.Dense(5, activation='relu'),\n",
        "  keras.layers.Dense(1, activation='sigmoid')\n",
        "])"
      ],
      "execution_count": 0,
      "outputs": []
    },
    {
      "cell_type": "markdown",
      "metadata": {
        "id": "_4VL4MGMhkvZ",
        "colab_type": "text"
      },
      "source": [
        "**Compiling model**\n",
        "as discussed before optimzer is adam with a learning rate of 0.001\n",
        "and loss function used is BinaryCrossEntropy "
      ]
    },
    {
      "cell_type": "code",
      "metadata": {
        "id": "Z750JhnzyhaW",
        "colab_type": "code",
        "colab": {}
      },
      "source": [
        "model.compile(optimizer=keras.optimizers.Adam(0.001),\n",
        "              loss=tf.keras.losses.BinaryCrossentropy(),\n",
        "              metrics=['accuracy'])"
      ],
      "execution_count": 0,
      "outputs": []
    },
    {
      "cell_type": "markdown",
      "metadata": {
        "id": "MOQoBWTOh3xD",
        "colab_type": "text"
      },
      "source": [
        "**Training Model**"
      ]
    },
    {
      "cell_type": "code",
      "metadata": {
        "id": "vYrEQpz5yje5",
        "colab_type": "code",
        "outputId": "f5e3fb7c-86d1-4fa0-a9f1-f4879603f203",
        "colab": {
          "base_uri": "https://localhost:8080/",
          "height": 697
        }
      },
      "source": [
        "# Train the model and benchmark against Test Data as it's validation data\n",
        "epochs=20\n",
        "history = model.fit(train_dataset, epochs=epochs, validation_data=test_dataset, verbose=2)"
      ],
      "execution_count": 239,
      "outputs": [
        {
          "output_type": "stream",
          "text": [
            "Epoch 1/20\n",
            "115/115 - 0s - loss: 0.6889 - accuracy: 0.6488 - val_loss: 0.6801 - val_accuracy: 0.8362\n",
            "Epoch 2/20\n",
            "115/115 - 0s - loss: 0.6639 - accuracy: 0.7926 - val_loss: 0.6388 - val_accuracy: 0.8448\n",
            "Epoch 3/20\n",
            "115/115 - 0s - loss: 0.5993 - accuracy: 0.8326 - val_loss: 0.5565 - val_accuracy: 0.8534\n",
            "Epoch 4/20\n",
            "115/115 - 0s - loss: 0.5053 - accuracy: 0.8537 - val_loss: 0.4691 - val_accuracy: 0.8584\n",
            "Epoch 5/20\n",
            "115/115 - 0s - loss: 0.4232 - accuracy: 0.8656 - val_loss: 0.4099 - val_accuracy: 0.8670\n",
            "Epoch 6/20\n",
            "115/115 - 0s - loss: 0.3680 - accuracy: 0.8765 - val_loss: 0.3750 - val_accuracy: 0.8645\n",
            "Epoch 7/20\n",
            "115/115 - 0s - loss: 0.3314 - accuracy: 0.8844 - val_loss: 0.3543 - val_accuracy: 0.8682\n",
            "Epoch 8/20\n",
            "115/115 - 0s - loss: 0.3051 - accuracy: 0.8926 - val_loss: 0.3432 - val_accuracy: 0.8744\n",
            "Epoch 9/20\n",
            "115/115 - 0s - loss: 0.2850 - accuracy: 0.8991 - val_loss: 0.3357 - val_accuracy: 0.8732\n",
            "Epoch 10/20\n",
            "115/115 - 0s - loss: 0.2683 - accuracy: 0.9069 - val_loss: 0.3320 - val_accuracy: 0.8768\n",
            "Epoch 11/20\n",
            "115/115 - 0s - loss: 0.2541 - accuracy: 0.9107 - val_loss: 0.3309 - val_accuracy: 0.8781\n",
            "Epoch 12/20\n",
            "115/115 - 0s - loss: 0.2417 - accuracy: 0.9162 - val_loss: 0.3281 - val_accuracy: 0.8768\n",
            "Epoch 13/20\n",
            "115/115 - 0s - loss: 0.2298 - accuracy: 0.9208 - val_loss: 0.3284 - val_accuracy: 0.8781\n",
            "Epoch 14/20\n",
            "115/115 - 0s - loss: 0.2192 - accuracy: 0.9256 - val_loss: 0.3303 - val_accuracy: 0.8768\n",
            "Epoch 15/20\n",
            "115/115 - 0s - loss: 0.2093 - accuracy: 0.9285 - val_loss: 0.3311 - val_accuracy: 0.8756\n",
            "Epoch 16/20\n",
            "115/115 - 0s - loss: 0.2002 - accuracy: 0.9329 - val_loss: 0.3325 - val_accuracy: 0.8793\n",
            "Epoch 17/20\n",
            "115/115 - 0s - loss: 0.1913 - accuracy: 0.9371 - val_loss: 0.3367 - val_accuracy: 0.8732\n",
            "Epoch 18/20\n",
            "115/115 - 0s - loss: 0.1835 - accuracy: 0.9396 - val_loss: 0.3391 - val_accuracy: 0.8732\n",
            "Epoch 19/20\n",
            "115/115 - 0s - loss: 0.1756 - accuracy: 0.9432 - val_loss: 0.3434 - val_accuracy: 0.8732\n",
            "Epoch 20/20\n",
            "115/115 - 0s - loss: 0.1686 - accuracy: 0.9460 - val_loss: 0.3472 - val_accuracy: 0.8695\n"
          ],
          "name": "stdout"
        }
      ]
    },
    {
      "cell_type": "markdown",
      "metadata": {
        "id": "RsHHBuwW7Y9k",
        "colab_type": "text"
      },
      "source": [
        "Accuracy: 94%\n",
        "\n",
        "validation accuracy : 86%\n",
        "\n",
        "Here we can see accuracy is much better than other models. This is due to we have chosen data in such a way that feature 'Recommended IND' is unbiased, hence model is not biased in any way and can predict in a much better way.\n",
        "One more reason is that by looking at the reviews it is possible to say whether the reviewer will recommend or not."
      ]
    },
    {
      "cell_type": "markdown",
      "metadata": {
        "id": "riZMd1Ow8u_S",
        "colab_type": "text"
      },
      "source": [
        "> **Accuracy Plot**"
      ]
    },
    {
      "cell_type": "code",
      "metadata": {
        "id": "56MeOB9xynX1",
        "colab_type": "code",
        "outputId": "3381660e-c105-45db-b234-310aa0aadcf2",
        "colab": {
          "base_uri": "https://localhost:8080/",
          "height": 282
        }
      },
      "source": [
        "plt.plot(range(epochs), history.history['accuracy'])\n",
        "plt.plot(range(epochs), history.history['val_accuracy'])\n"
      ],
      "execution_count": 240,
      "outputs": [
        {
          "output_type": "execute_result",
          "data": {
            "text/plain": [
              "[<matplotlib.lines.Line2D at 0x7fe92477c0f0>]"
            ]
          },
          "metadata": {
            "tags": []
          },
          "execution_count": 240
        },
        {
          "output_type": "display_data",
          "data": {
            "image/png": "[encoded data removed]",
            "text/plain": [
              "<Figure size 432x288 with 1 Axes>"
            ]
          },
          "metadata": {
            "tags": [],
            "needs_background": "light"
          }
        }
      ]
    },
    {
      "cell_type": "markdown",
      "metadata": {
        "id": "dh1tx32Kh9Eh",
        "colab_type": "text"
      },
      "source": [
        "Accuracy and val_accuracy plots are almost parallel. as they are starting to diverge training more will lead to overtraining the model."
      ]
    },
    {
      "cell_type": "markdown",
      "metadata": {
        "id": "-Ibo6mtD8-nN",
        "colab_type": "text"
      },
      "source": [
        " >**Loss Plot**"
      ]
    },
    {
      "cell_type": "code",
      "metadata": {
        "id": "VgTadcKtzAFc",
        "colab_type": "code",
        "outputId": "f76bdc29-7ce4-4c56-b2c1-0e85afe2fe1b",
        "colab": {
          "base_uri": "https://localhost:8080/",
          "height": 282
        }
      },
      "source": [
        "# Plot Loss\n",
        "plt.plot(range(epochs), history.history['loss'])\n",
        "plt.plot(range(epochs), history.history['val_loss'])"
      ],
      "execution_count": 241,
      "outputs": [
        {
          "output_type": "execute_result",
          "data": {
            "text/plain": [
              "[<matplotlib.lines.Line2D at 0x7fe9244a7b00>]"
            ]
          },
          "metadata": {
            "tags": []
          },
          "execution_count": 241
        },
        {
          "output_type": "display_data",
          "data": {
            "image/png": "[encoded data removed]",
            "text/plain": [
              "<Figure size 432x288 with 1 Axes>"
            ]
          },
          "metadata": {
            "tags": [],
            "needs_background": "light"
          }
        }
      ]
    },
    {
      "cell_type": "markdown",
      "metadata": {
        "id": "ihWTanSfiL9J",
        "colab_type": "text"
      },
      "source": [
        "Losses plot is also almost parallel at the end training more would lead in diverging the graph apart, hence the training went well"
      ]
    },
    {
      "cell_type": "markdown",
      "metadata": {
        "id": "IMr98oiLiBvi",
        "colab_type": "text"
      },
      "source": [
        "## **Validating Model with raw data/reviews**\n",
        "\n",
        ">Based upon the trained model I will predict whether the review is recommended or not. "
      ]
    },
    {
      "cell_type": "code",
      "metadata": {
        "id": "7d97RA_zqRPJ",
        "colab_type": "code",
        "colab": {
          "base_uri": "https://localhost:8080/",
          "height": 34
        },
        "outputId": "af30c6f2-b142-4085-de18-e9c3c80a86b9"
      },
      "source": [
        "low,high = map(int, input(\"Enter the upper and lower range to select a set of reviews: \").split())"
      ],
      "execution_count": 277,
      "outputs": [
        {
          "output_type": "stream",
          "text": [
            "Enter the upper and lower range to select a set of reviews: 0 10\n"
          ],
          "name": "stdout"
        }
      ]
    },
    {
      "cell_type": "code",
      "metadata": {
        "id": "pu7UA8DazCnN",
        "colab_type": "code",
        "colab": {}
      },
      "source": [
        "data=final_df['Review Text'][low:high]"
      ],
      "execution_count": 0,
      "outputs": []
    },
    {
      "cell_type": "markdown",
      "metadata": {
        "id": "Y30_sC-G9KRD",
        "colab_type": "text"
      },
      "source": [
        "here I have taken first 10 reviews from the dataset."
      ]
    },
    {
      "cell_type": "code",
      "metadata": {
        "id": "oriCNVFaiJSP",
        "colab_type": "code",
        "outputId": "56a0a3a7-2a62-44d1-8d24-1432e649f233",
        "colab": {
          "base_uri": "https://localhost:8080/",
          "height": 204
        }
      },
      "source": [
        "data"
      ],
      "execution_count": 279,
      "outputs": [
        {
          "output_type": "execute_result",
          "data": {
            "text/plain": [
              "2     I had such high hopes for this dress and reall...\n",
              "5     I love tracy reese dresses, but this one is no...\n",
              "10    Dress runs small esp where the zipper area run...\n",
              "22    First of all, this is not pullover styling. th...\n",
              "25    Loved the material, but i didnt really look at...\n",
              "26    I have been waiting for this sweater coat to s...\n",
              "33    I ordered this 3 months ago, and it finally ca...\n",
              "56    I am pregnant and i thought this would be a gr...\n",
              "57    This tank fit well and i loved the ruffle in t...\n",
              "61    3 tags sewn in, 2 small (about 1'' long) and 1...\n",
              "Name: Review Text, dtype: object"
            ]
          },
          "metadata": {
            "tags": []
          },
          "execution_count": 279
        }
      ]
    },
    {
      "cell_type": "markdown",
      "metadata": {
        "id": "9X-zU32O9y8Q",
        "colab_type": "text"
      },
      "source": [
        "Splitting reviews into words and appending words into a list"
      ]
    },
    {
      "cell_type": "code",
      "metadata": {
        "id": "WBa8Ke9JiR-E",
        "colab_type": "code",
        "colab": {}
      },
      "source": [
        "text_arr = [row.split(' ') for row in data]"
      ],
      "execution_count": 0,
      "outputs": []
    },
    {
      "cell_type": "markdown",
      "metadata": {
        "id": "bRgW4Y9Q_eHe",
        "colab_type": "text"
      },
      "source": [
        "Cleaning Text\n",
        "> removing special characters"
      ]
    },
    {
      "cell_type": "code",
      "metadata": {
        "id": "U-OGf-iRiVo0",
        "colab_type": "code",
        "colab": {}
      },
      "source": [
        "clean_text=[]\n",
        "\n",
        "for row in text_arr:\n",
        "  clean_row=clean_word(row)\n",
        "  clean_text.append(clean_row)"
      ],
      "execution_count": 0,
      "outputs": []
    },
    {
      "cell_type": "markdown",
      "metadata": {
        "id": "h8EH6lat_kb2",
        "colab_type": "text"
      },
      "source": [
        "Tokenizing words using Label Encoding vectorizer"
      ]
    },
    {
      "cell_type": "code",
      "metadata": {
        "id": "Z6wZHuH-iYRN",
        "colab_type": "code",
        "colab": {}
      },
      "source": [
        "test_token_vector = []\n",
        "\n",
        "for row in clean_text:\n",
        "  encoded = vectorizer.transform(row).tolist()\n",
        "  test_token_vector.append(encoded)\n"
      ],
      "execution_count": 0,
      "outputs": []
    },
    {
      "cell_type": "markdown",
      "metadata": {
        "id": "oEJDb6lC_zpM",
        "colab_type": "text"
      },
      "source": [
        "Padding 0s at the end of shorter tokenised reviews vector so that vectors are of same length. Here max_words will be same as the padded vector made previously. "
      ]
    },
    {
      "cell_type": "code",
      "metadata": {
        "id": "9fACr0OViflb",
        "colab_type": "code",
        "colab": {}
      },
      "source": [
        "padded = []\n",
        "for row in test_token_vector:\n",
        "  r = np.pad(row, (0, max_words-len(row)), 'constant')\n",
        "  padded.append(r)"
      ],
      "execution_count": 0,
      "outputs": []
    },
    {
      "cell_type": "markdown",
      "metadata": {
        "id": "2xz6KSjrAP3l",
        "colab_type": "text"
      },
      "source": [
        "predicting using model.predict() it takes padded vector to predict."
      ]
    },
    {
      "cell_type": "code",
      "metadata": {
        "id": "UHsXEKrCiha9",
        "colab_type": "code",
        "colab": {}
      },
      "source": [
        "pred=model.predict(np.array(padded))"
      ],
      "execution_count": 0,
      "outputs": []
    },
    {
      "cell_type": "markdown",
      "metadata": {
        "id": "992040gOAZ3b",
        "colab_type": "text"
      },
      "source": [
        "**result predicted by model**"
      ]
    },
    {
      "cell_type": "code",
      "metadata": {
        "id": "8dXqGxg5ijO0",
        "colab_type": "code",
        "outputId": "24c6e117-aac4-4c8f-9536-d3dd5f06be63",
        "colab": {
          "base_uri": "https://localhost:8080/",
          "height": 187
        }
      },
      "source": [
        "res=[]\n",
        "for op in np.round(pred):\n",
        "  res.append(op)\n",
        "  print(op)"
      ],
      "execution_count": 285,
      "outputs": [
        {
          "output_type": "stream",
          "text": [
            "[0.]\n",
            "[0.]\n",
            "[0.]\n",
            "[0.]\n",
            "[0.]\n",
            "[0.]\n",
            "[0.]\n",
            "[0.]\n",
            "[0.]\n",
            "[0.]\n"
          ],
          "name": "stdout"
        }
      ]
    },
    {
      "cell_type": "markdown",
      "metadata": {
        "id": "kx1IbtysAgBW",
        "colab_type": "text"
      },
      "source": [
        "**Actual Result taken from target**"
      ]
    },
    {
      "cell_type": "code",
      "metadata": {
        "id": "WXbeW7smilUY",
        "colab_type": "code",
        "outputId": "7b77e7d1-3121-46b2-8707-1571c7086909",
        "colab": {
          "base_uri": "https://localhost:8080/",
          "height": 34
        }
      },
      "source": [
        "b=final_df['Recommended IND'][low:high].tolist()\n",
        "b"
      ],
      "execution_count": 286,
      "outputs": [
        {
          "output_type": "execute_result",
          "data": {
            "text/plain": [
              "[0, 0, 0, 0, 0, 0, 0, 0, 0, 0]"
            ]
          },
          "metadata": {
            "tags": []
          },
          "execution_count": 286
        }
      ]
    },
    {
      "cell_type": "markdown",
      "metadata": {
        "id": "4v_vq1qdAsNC",
        "colab_type": "text"
      },
      "source": [
        "Defining an **accuracy function** to calculate accuracy for validating result predicted by model"
      ]
    },
    {
      "cell_type": "code",
      "metadata": {
        "id": "CQpTUpKqisn6",
        "colab_type": "code",
        "outputId": "7c7664de-2ab5-424f-eea1-96856fec1324",
        "colab": {
          "base_uri": "https://localhost:8080/",
          "height": 34
        }
      },
      "source": [
        "def accuracy():\n",
        "  score=0\n",
        "  for i in range(len(res)):\n",
        "    if res[i]==b[i]:\n",
        "      score+=1\n",
        "  result=(score/len(res))*100\n",
        "  print(f\"accuracy: {result}%\")\n",
        "accuracy()"
      ],
      "execution_count": 287,
      "outputs": [
        {
          "output_type": "stream",
          "text": [
            "accuracy: 100.0%\n"
          ],
          "name": "stdout"
        }
      ]
    },
    {
      "cell_type": "markdown",
      "metadata": {
        "id": "YfNC_vA0A_RF",
        "colab_type": "text"
      },
      "source": [
        "Here for the first 10 reviews model predicts with a 100% accuracy."
      ]
    },
    {
      "cell_type": "markdown",
      "metadata": {
        "id": "a2lXwpvUktwQ",
        "colab_type": "text"
      },
      "source": [
        "#Conclusion\n",
        "\n",
        "Table gives basic details of all the models discussed above :\n",
        "\n",
        "**Model** | **Target** | **Accuracy**\n",
        "--- | --- | ---\n",
        "Model 1: Word Embedding | Class Name | 50%\n",
        "Model 2: Word Embedding | Good/bad | 84%\n",
        "Model 3: NN with TFIDF vectorizer | Recommended IND | 89%\n",
        "Model 4: NN using Count Vectorizer |  Recommended IND | 85%\n",
        "Model 5 : Word Embedding | Recommended IND | 94%\n",
        "\n",
        "> Best results were achieved using word embedding with target as Recommended IND which tells us that Reviews can be interpreted in a better way to understand what product a customer is likely to recommend this also leads to what the customer wants. \n",
        "\n",
        ">Model 1 tells us that there is not much we can take out of reviews about Class name as most of the reviews don't mention their product name and just give a general emotion on how the product was.\n",
        "\n",
        "> Model 2 is a great way to classify the products into good or bad category based upon their reviews.\n",
        "\n",
        "> Model 3 and Model 4 were pretty close using different techniques to vectorize words. Main intention was to see the changes that effect the model with different vectorizers. As we can see there is not much of a difference. But still both are good models.\n",
        "\n",
        "> Model 5 gives the best accuracy on Recommended Ind target by using word embedding.\n",
        "\n",
        ">After working with this dataset and building models which could predict whether a product is good or bad and whether the product will be recommended by the customer or not we can come to a conclusion that E-commerce pltforms can understand customers demand in a a better way and learning from customers recomeendation. Products with less recommendation can be removed as it will be disliked by most of the customers. Products with higher recommendation(for example clothing ID 1078 is very popular among customers) can be recommended to all, as most of the people are most likely to buy them. Fullfilling these demands would increase the websites revenue shoot like a rocket keeping customers happy as well. \n",
        "\n",
        "Machine learning is the key to futue ;-)\n",
        "\n",
        "# ThankYou\n",
        "                                        "
      ]
    }
  ]
}